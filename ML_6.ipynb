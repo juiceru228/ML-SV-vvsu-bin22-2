{
 "cells": [
  {
   "cell_type": "markdown",
   "metadata": {
    "colab_type": "text",
    "id": "view-in-github"
   },
   "source": [
    "<a href=\"https://colab.research.google.com/github/Letch49/ML-vvsu-2025/blob/master/%D0%9F%D1%80%D0%B0%D0%BA%D1%82%D0%B8%D0%BA%D0%B0_6_(%D0%9A%D0%BB%D0%B0%D1%81%D1%82%D0%B5%D1%80%D0%B8%D0%B7%D0%B0%D1%86%D0%B8%D1%8F).ipynb\" target=\"_parent\"><img src=\"https://colab.research.google.com/assets/colab-badge.svg\" alt=\"Open In Colab\"/></a>"
   ]
  },
  {
   "cell_type": "markdown",
   "metadata": {
    "id": "mAgNn6Dg6h1h"
   },
   "source": [
    "# МЛ практика 6. Обучение без учителя"
   ]
  },
  {
   "cell_type": "markdown",
   "metadata": {
    "id": "nh4Pj83y64mo"
   },
   "source": [
    "## **Цель занятия:**\n",
    "Изучить методы обучения без учителя, познакомиться с алгоритмами кластеризации, понять их применение и реализовать модели кластеризации с использованием различных алгоритмов.\n",
    "\n",
    "## **Задание состоит из следующих частей:**\n",
    "1. Определение обучения без учителя\n",
    "2. Разбор алгоритмов DBSSCAN, K-means\n",
    "3. Метрики качества кластеризации\n",
    "4. Пример полезных задач, которые решает кластеризация\n",
    "\n",
    "**P.S.** Некоторые вещи (например PCA, обработка текстовых данных) мы пройдем чуть позже."
   ]
  },
  {
   "cell_type": "markdown",
   "metadata": {
    "id": "TetxF3w27O5K"
   },
   "source": [
    "## Задачи для домашки ⏰\n",
    "\n",
    "1. Преобразовать датасет\n",
    "2. Построить кластеры\n",
    "3. Описать результат полученных кластеров (для K-Means и DBSSCAN)\n",
    "4. Объяснить метрики качества\n",
    "\n",
    "**По желанию**\n",
    "\n",
    "1. Спарсить данные по статьям (например lenta.ru или naked-science.ru)\n",
    "2. Преобразовать текста статьи (по принципу описанному в последнем пункте)\n",
    "3. Оценить метрики качества, провести аналитику кластеров (можно не максимально подробно, если получилось слишком много кластеров)"
   ]
  },
  {
   "cell_type": "markdown",
   "metadata": {
    "id": "y2K2OL5l71jd"
   },
   "source": [
    "## Предобработка (все по классике)\n",
    "\n",
    "Открываем датасет, преобразуем данные, идем дальше"
   ]
  },
  {
   "cell_type": "code",
   "execution_count": 1,
   "metadata": {
    "id": "9bBH0qCj78Gl"
   },
   "outputs": [],
   "source": [
    "import pandas as pd\n",
    "import numpy as np\n",
    "import matplotlib.pyplot as plt\n",
    "import seaborn as sns\n",
    "\n",
    "from sklearn.preprocessing import MinMaxScaler\n",
    "from sklearn.model_selection import train_test_split\n",
    "from sklearn.preprocessing import StandardScaler\n",
    "from sklearn.linear_model import LogisticRegression\n",
    "from sklearn.metrics import classification_report, confusion_matrix, accuracy_score\n",
    "\n",
    "# Загрузка набора данных\n",
    "df = pd.read_csv('content/income.csv')"
   ]
  },
  {
   "cell_type": "markdown",
   "metadata": {
    "id": "ry6xdjbO8iZn"
   },
   "source": [
    "### Преобразование категориальных фич"
   ]
  },
  {
   "cell_type": "code",
   "execution_count": 2,
   "metadata": {
    "id": "WqAWAfCf8CJb"
   },
   "outputs": [
    {
     "name": "stdout",
     "output_type": "stream",
     "text": [
      "<class 'pandas.core.frame.DataFrame'>\n",
      "RangeIndex: 32561 entries, 0 to 32560\n",
      "Data columns (total 14 columns):\n",
      " #   Column          Non-Null Count  Dtype   \n",
      "---  ------          --------------  -----   \n",
      " 0   age             32561 non-null  int64   \n",
      " 1   workclass       30725 non-null  category\n",
      " 2   education       32561 non-null  category\n",
      " 3   education-num   32561 non-null  int64   \n",
      " 4   marital-status  32561 non-null  category\n",
      " 5   occupation      30718 non-null  category\n",
      " 6   relationship    32561 non-null  category\n",
      " 7   race            32561 non-null  category\n",
      " 8   sex             32561 non-null  category\n",
      " 9   capital-gain    32561 non-null  int64   \n",
      " 10  capital-loss    32561 non-null  int64   \n",
      " 11  hours-per-week  32561 non-null  int64   \n",
      " 12  native-country  31978 non-null  category\n",
      " 13  income >50K     32561 non-null  int64   \n",
      "dtypes: category(8), int64(6)\n",
      "memory usage: 1.7 MB\n"
     ]
    }
   ],
   "source": [
    "for col in df.columns:\n",
    "  if df[col].dtype == 'object':\n",
    "    df[col] = df[col].astype('category')\n",
    "\n",
    "df.info()\n",
    "# Создаем копию данных\n",
    "category_columns: list[str] = df.select_dtypes(include=['category']).columns # собираем колонки помеченные как objects\n",
    "\n",
    "# Применяем One-Hot Encoding\n",
    "df = pd.get_dummies(df, columns=category_columns, drop_first=True)\n"
   ]
  },
  {
   "cell_type": "markdown",
   "metadata": {
    "id": "Bo9sR6jC8kwJ"
   },
   "source": [
    "### Преобразование непрерывных фич"
   ]
  },
  {
   "cell_type": "code",
   "execution_count": 3,
   "metadata": {
    "id": "coE20mj58Ebk"
   },
   "outputs": [],
   "source": [
    "from sklearn.preprocessing import MinMaxScaler\n",
    "# Выбираем числовые признаки\n",
    "numeric_features = df.select_dtypes(include=['int64']).columns.tolist()\n",
    "\n",
    "# Инициализируем scaler\n",
    "scaler = MinMaxScaler()\n",
    "\n",
    "# Применяем нормализацию\n",
    "df[numeric_features] = scaler.fit_transform(df[numeric_features])\n",
    "\n",
    "for col in df.columns:\n",
    "  if df[col].dtype == 'bool':\n",
    "    df[col] = df[col].astype('int64')"
   ]
  },
  {
   "cell_type": "code",
   "execution_count": 4,
   "metadata": {
    "colab": {
     "base_uri": "https://localhost:8080/",
     "height": 478
    },
    "id": "6enVgT3H8bAb",
    "outputId": "0b598519-01b7-43cd-810f-1a502bc8efaa"
   },
   "outputs": [
    {
     "data": {
      "text/html": [
       "<div>\n",
       "<style scoped>\n",
       "    .dataframe tbody tr th:only-of-type {\n",
       "        vertical-align: middle;\n",
       "    }\n",
       "\n",
       "    .dataframe tbody tr th {\n",
       "        vertical-align: top;\n",
       "    }\n",
       "\n",
       "    .dataframe thead th {\n",
       "        text-align: right;\n",
       "    }\n",
       "</style>\n",
       "<table border=\"1\" class=\"dataframe\">\n",
       "  <thead>\n",
       "    <tr style=\"text-align: right;\">\n",
       "      <th></th>\n",
       "      <th>age</th>\n",
       "      <th>education-num</th>\n",
       "      <th>capital-gain</th>\n",
       "      <th>capital-loss</th>\n",
       "      <th>hours-per-week</th>\n",
       "      <th>income &gt;50K</th>\n",
       "      <th>workclass_Local-gov</th>\n",
       "      <th>workclass_Never-worked</th>\n",
       "      <th>workclass_Private</th>\n",
       "      <th>workclass_Self-emp-inc</th>\n",
       "      <th>...</th>\n",
       "      <th>native-country_Portugal</th>\n",
       "      <th>native-country_Puerto-Rico</th>\n",
       "      <th>native-country_Scotland</th>\n",
       "      <th>native-country_South</th>\n",
       "      <th>native-country_Taiwan</th>\n",
       "      <th>native-country_Thailand</th>\n",
       "      <th>native-country_Trinadad&amp;Tobago</th>\n",
       "      <th>native-country_United-States</th>\n",
       "      <th>native-country_Vietnam</th>\n",
       "      <th>native-country_Yugoslavia</th>\n",
       "    </tr>\n",
       "  </thead>\n",
       "  <tbody>\n",
       "    <tr>\n",
       "      <th>0</th>\n",
       "      <td>0.301370</td>\n",
       "      <td>0.800000</td>\n",
       "      <td>0.021740</td>\n",
       "      <td>0.0</td>\n",
       "      <td>0.397959</td>\n",
       "      <td>0.0</td>\n",
       "      <td>0</td>\n",
       "      <td>0</td>\n",
       "      <td>0</td>\n",
       "      <td>0</td>\n",
       "      <td>...</td>\n",
       "      <td>0</td>\n",
       "      <td>0</td>\n",
       "      <td>0</td>\n",
       "      <td>0</td>\n",
       "      <td>0</td>\n",
       "      <td>0</td>\n",
       "      <td>0</td>\n",
       "      <td>1</td>\n",
       "      <td>0</td>\n",
       "      <td>0</td>\n",
       "    </tr>\n",
       "    <tr>\n",
       "      <th>1</th>\n",
       "      <td>0.452055</td>\n",
       "      <td>0.800000</td>\n",
       "      <td>0.000000</td>\n",
       "      <td>0.0</td>\n",
       "      <td>0.122449</td>\n",
       "      <td>0.0</td>\n",
       "      <td>0</td>\n",
       "      <td>0</td>\n",
       "      <td>0</td>\n",
       "      <td>0</td>\n",
       "      <td>...</td>\n",
       "      <td>0</td>\n",
       "      <td>0</td>\n",
       "      <td>0</td>\n",
       "      <td>0</td>\n",
       "      <td>0</td>\n",
       "      <td>0</td>\n",
       "      <td>0</td>\n",
       "      <td>1</td>\n",
       "      <td>0</td>\n",
       "      <td>0</td>\n",
       "    </tr>\n",
       "    <tr>\n",
       "      <th>2</th>\n",
       "      <td>0.287671</td>\n",
       "      <td>0.533333</td>\n",
       "      <td>0.000000</td>\n",
       "      <td>0.0</td>\n",
       "      <td>0.397959</td>\n",
       "      <td>0.0</td>\n",
       "      <td>0</td>\n",
       "      <td>0</td>\n",
       "      <td>1</td>\n",
       "      <td>0</td>\n",
       "      <td>...</td>\n",
       "      <td>0</td>\n",
       "      <td>0</td>\n",
       "      <td>0</td>\n",
       "      <td>0</td>\n",
       "      <td>0</td>\n",
       "      <td>0</td>\n",
       "      <td>0</td>\n",
       "      <td>1</td>\n",
       "      <td>0</td>\n",
       "      <td>0</td>\n",
       "    </tr>\n",
       "    <tr>\n",
       "      <th>3</th>\n",
       "      <td>0.493151</td>\n",
       "      <td>0.400000</td>\n",
       "      <td>0.000000</td>\n",
       "      <td>0.0</td>\n",
       "      <td>0.397959</td>\n",
       "      <td>0.0</td>\n",
       "      <td>0</td>\n",
       "      <td>0</td>\n",
       "      <td>1</td>\n",
       "      <td>0</td>\n",
       "      <td>...</td>\n",
       "      <td>0</td>\n",
       "      <td>0</td>\n",
       "      <td>0</td>\n",
       "      <td>0</td>\n",
       "      <td>0</td>\n",
       "      <td>0</td>\n",
       "      <td>0</td>\n",
       "      <td>1</td>\n",
       "      <td>0</td>\n",
       "      <td>0</td>\n",
       "    </tr>\n",
       "    <tr>\n",
       "      <th>4</th>\n",
       "      <td>0.150685</td>\n",
       "      <td>0.800000</td>\n",
       "      <td>0.000000</td>\n",
       "      <td>0.0</td>\n",
       "      <td>0.397959</td>\n",
       "      <td>0.0</td>\n",
       "      <td>0</td>\n",
       "      <td>0</td>\n",
       "      <td>1</td>\n",
       "      <td>0</td>\n",
       "      <td>...</td>\n",
       "      <td>0</td>\n",
       "      <td>0</td>\n",
       "      <td>0</td>\n",
       "      <td>0</td>\n",
       "      <td>0</td>\n",
       "      <td>0</td>\n",
       "      <td>0</td>\n",
       "      <td>0</td>\n",
       "      <td>0</td>\n",
       "      <td>0</td>\n",
       "    </tr>\n",
       "    <tr>\n",
       "      <th>...</th>\n",
       "      <td>...</td>\n",
       "      <td>...</td>\n",
       "      <td>...</td>\n",
       "      <td>...</td>\n",
       "      <td>...</td>\n",
       "      <td>...</td>\n",
       "      <td>...</td>\n",
       "      <td>...</td>\n",
       "      <td>...</td>\n",
       "      <td>...</td>\n",
       "      <td>...</td>\n",
       "      <td>...</td>\n",
       "      <td>...</td>\n",
       "      <td>...</td>\n",
       "      <td>...</td>\n",
       "      <td>...</td>\n",
       "      <td>...</td>\n",
       "      <td>...</td>\n",
       "      <td>...</td>\n",
       "      <td>...</td>\n",
       "      <td>...</td>\n",
       "    </tr>\n",
       "    <tr>\n",
       "      <th>32556</th>\n",
       "      <td>0.136986</td>\n",
       "      <td>0.733333</td>\n",
       "      <td>0.000000</td>\n",
       "      <td>0.0</td>\n",
       "      <td>0.377551</td>\n",
       "      <td>0.0</td>\n",
       "      <td>0</td>\n",
       "      <td>0</td>\n",
       "      <td>1</td>\n",
       "      <td>0</td>\n",
       "      <td>...</td>\n",
       "      <td>0</td>\n",
       "      <td>0</td>\n",
       "      <td>0</td>\n",
       "      <td>0</td>\n",
       "      <td>0</td>\n",
       "      <td>0</td>\n",
       "      <td>0</td>\n",
       "      <td>1</td>\n",
       "      <td>0</td>\n",
       "      <td>0</td>\n",
       "    </tr>\n",
       "    <tr>\n",
       "      <th>32557</th>\n",
       "      <td>0.315068</td>\n",
       "      <td>0.533333</td>\n",
       "      <td>0.000000</td>\n",
       "      <td>0.0</td>\n",
       "      <td>0.397959</td>\n",
       "      <td>1.0</td>\n",
       "      <td>0</td>\n",
       "      <td>0</td>\n",
       "      <td>1</td>\n",
       "      <td>0</td>\n",
       "      <td>...</td>\n",
       "      <td>0</td>\n",
       "      <td>0</td>\n",
       "      <td>0</td>\n",
       "      <td>0</td>\n",
       "      <td>0</td>\n",
       "      <td>0</td>\n",
       "      <td>0</td>\n",
       "      <td>1</td>\n",
       "      <td>0</td>\n",
       "      <td>0</td>\n",
       "    </tr>\n",
       "    <tr>\n",
       "      <th>32558</th>\n",
       "      <td>0.561644</td>\n",
       "      <td>0.533333</td>\n",
       "      <td>0.000000</td>\n",
       "      <td>0.0</td>\n",
       "      <td>0.397959</td>\n",
       "      <td>0.0</td>\n",
       "      <td>0</td>\n",
       "      <td>0</td>\n",
       "      <td>1</td>\n",
       "      <td>0</td>\n",
       "      <td>...</td>\n",
       "      <td>0</td>\n",
       "      <td>0</td>\n",
       "      <td>0</td>\n",
       "      <td>0</td>\n",
       "      <td>0</td>\n",
       "      <td>0</td>\n",
       "      <td>0</td>\n",
       "      <td>1</td>\n",
       "      <td>0</td>\n",
       "      <td>0</td>\n",
       "    </tr>\n",
       "    <tr>\n",
       "      <th>32559</th>\n",
       "      <td>0.068493</td>\n",
       "      <td>0.533333</td>\n",
       "      <td>0.000000</td>\n",
       "      <td>0.0</td>\n",
       "      <td>0.193878</td>\n",
       "      <td>0.0</td>\n",
       "      <td>0</td>\n",
       "      <td>0</td>\n",
       "      <td>1</td>\n",
       "      <td>0</td>\n",
       "      <td>...</td>\n",
       "      <td>0</td>\n",
       "      <td>0</td>\n",
       "      <td>0</td>\n",
       "      <td>0</td>\n",
       "      <td>0</td>\n",
       "      <td>0</td>\n",
       "      <td>0</td>\n",
       "      <td>1</td>\n",
       "      <td>0</td>\n",
       "      <td>0</td>\n",
       "    </tr>\n",
       "    <tr>\n",
       "      <th>32560</th>\n",
       "      <td>0.479452</td>\n",
       "      <td>0.533333</td>\n",
       "      <td>0.150242</td>\n",
       "      <td>0.0</td>\n",
       "      <td>0.397959</td>\n",
       "      <td>1.0</td>\n",
       "      <td>0</td>\n",
       "      <td>0</td>\n",
       "      <td>0</td>\n",
       "      <td>1</td>\n",
       "      <td>...</td>\n",
       "      <td>0</td>\n",
       "      <td>0</td>\n",
       "      <td>0</td>\n",
       "      <td>0</td>\n",
       "      <td>0</td>\n",
       "      <td>0</td>\n",
       "      <td>0</td>\n",
       "      <td>1</td>\n",
       "      <td>0</td>\n",
       "      <td>0</td>\n",
       "    </tr>\n",
       "  </tbody>\n",
       "</table>\n",
       "<p>32561 rows × 97 columns</p>\n",
       "</div>"
      ],
      "text/plain": [
       "            age  education-num  capital-gain  capital-loss  hours-per-week  \\\n",
       "0      0.301370       0.800000      0.021740           0.0        0.397959   \n",
       "1      0.452055       0.800000      0.000000           0.0        0.122449   \n",
       "2      0.287671       0.533333      0.000000           0.0        0.397959   \n",
       "3      0.493151       0.400000      0.000000           0.0        0.397959   \n",
       "4      0.150685       0.800000      0.000000           0.0        0.397959   \n",
       "...         ...            ...           ...           ...             ...   \n",
       "32556  0.136986       0.733333      0.000000           0.0        0.377551   \n",
       "32557  0.315068       0.533333      0.000000           0.0        0.397959   \n",
       "32558  0.561644       0.533333      0.000000           0.0        0.397959   \n",
       "32559  0.068493       0.533333      0.000000           0.0        0.193878   \n",
       "32560  0.479452       0.533333      0.150242           0.0        0.397959   \n",
       "\n",
       "       income >50K  workclass_Local-gov  workclass_Never-worked  \\\n",
       "0              0.0                    0                       0   \n",
       "1              0.0                    0                       0   \n",
       "2              0.0                    0                       0   \n",
       "3              0.0                    0                       0   \n",
       "4              0.0                    0                       0   \n",
       "...            ...                  ...                     ...   \n",
       "32556          0.0                    0                       0   \n",
       "32557          1.0                    0                       0   \n",
       "32558          0.0                    0                       0   \n",
       "32559          0.0                    0                       0   \n",
       "32560          1.0                    0                       0   \n",
       "\n",
       "       workclass_Private  workclass_Self-emp-inc  ...  \\\n",
       "0                      0                       0  ...   \n",
       "1                      0                       0  ...   \n",
       "2                      1                       0  ...   \n",
       "3                      1                       0  ...   \n",
       "4                      1                       0  ...   \n",
       "...                  ...                     ...  ...   \n",
       "32556                  1                       0  ...   \n",
       "32557                  1                       0  ...   \n",
       "32558                  1                       0  ...   \n",
       "32559                  1                       0  ...   \n",
       "32560                  0                       1  ...   \n",
       "\n",
       "       native-country_Portugal  native-country_Puerto-Rico  \\\n",
       "0                            0                           0   \n",
       "1                            0                           0   \n",
       "2                            0                           0   \n",
       "3                            0                           0   \n",
       "4                            0                           0   \n",
       "...                        ...                         ...   \n",
       "32556                        0                           0   \n",
       "32557                        0                           0   \n",
       "32558                        0                           0   \n",
       "32559                        0                           0   \n",
       "32560                        0                           0   \n",
       "\n",
       "       native-country_Scotland  native-country_South  native-country_Taiwan  \\\n",
       "0                            0                     0                      0   \n",
       "1                            0                     0                      0   \n",
       "2                            0                     0                      0   \n",
       "3                            0                     0                      0   \n",
       "4                            0                     0                      0   \n",
       "...                        ...                   ...                    ...   \n",
       "32556                        0                     0                      0   \n",
       "32557                        0                     0                      0   \n",
       "32558                        0                     0                      0   \n",
       "32559                        0                     0                      0   \n",
       "32560                        0                     0                      0   \n",
       "\n",
       "       native-country_Thailand  native-country_Trinadad&Tobago  \\\n",
       "0                            0                               0   \n",
       "1                            0                               0   \n",
       "2                            0                               0   \n",
       "3                            0                               0   \n",
       "4                            0                               0   \n",
       "...                        ...                             ...   \n",
       "32556                        0                               0   \n",
       "32557                        0                               0   \n",
       "32558                        0                               0   \n",
       "32559                        0                               0   \n",
       "32560                        0                               0   \n",
       "\n",
       "       native-country_United-States  native-country_Vietnam  \\\n",
       "0                                 1                       0   \n",
       "1                                 1                       0   \n",
       "2                                 1                       0   \n",
       "3                                 1                       0   \n",
       "4                                 0                       0   \n",
       "...                             ...                     ...   \n",
       "32556                             1                       0   \n",
       "32557                             1                       0   \n",
       "32558                             1                       0   \n",
       "32559                             1                       0   \n",
       "32560                             1                       0   \n",
       "\n",
       "       native-country_Yugoslavia  \n",
       "0                              0  \n",
       "1                              0  \n",
       "2                              0  \n",
       "3                              0  \n",
       "4                              0  \n",
       "...                          ...  \n",
       "32556                          0  \n",
       "32557                          0  \n",
       "32558                          0  \n",
       "32559                          0  \n",
       "32560                          0  \n",
       "\n",
       "[32561 rows x 97 columns]"
      ]
     },
     "execution_count": 4,
     "metadata": {},
     "output_type": "execute_result"
    }
   ],
   "source": [
    "df"
   ]
  },
  {
   "cell_type": "markdown",
   "metadata": {
    "id": "6OyGuSXi9QLD"
   },
   "source": [
    "## О кластеризации и задачи обучения без учителя"
   ]
  },
  {
   "cell_type": "markdown",
   "metadata": {
    "id": "4QJOxN2P9TTv"
   },
   "source": [
    "#### Обучение с учителем\n",
    "\n",
    "Представьте, что у вас есть список задач с правильными ответами. Например, вам дали примеры: «Это яблоко», «Это груша».\n",
    "\n",
    "Задача — научиться отличать их, чтобы потом, когда вы увидите новый фрукт, вы смогли правильно его назвать. То есть у вас есть **учитель** — тот, кто заранее всё объяснил и дал правильные ответы.  \n",
    "\n",
    "#### Обучение без учителя\n",
    "\n",
    "А теперь представьте, что вам дали корзину фруктов, но никто не сказал, как они называются.\n",
    "\n",
    "Задача — посмотреть на фрукты и найти, что у них общего, например: круглые положить в одну группу, длинные в другую. Тут вы работаете **без подсказок** и сами решаете, как группировать.  \n",
    "\n",
    "#### Разница\n",
    "\n",
    "- В задачах с учителем есть правильные ответы, и мы обучем алгоритм делать предсказания на основе примеров.  \n",
    "- В задачах без учителя правильных ответов нет, ищем закономерности и пытаемся найти смысл группировки данные самостоятельно.\n",
    "\n",
    "Пример:\n",
    "\n",
    "\n",
    "1. **С учителем**: Мы ищем лучшее вино.  \n",
    "2. **Без учителя**: Мы пытаемся объеденить вина, чтобы понять по какому принципу они объеденяются.  "
   ]
  },
  {
   "cell_type": "markdown",
   "metadata": {
    "id": "6kK7-y65-Z7B"
   },
   "source": [
    "## K-means"
   ]
  },
  {
   "cell_type": "markdown",
   "metadata": {
    "id": "1BUMOnJC-bdK"
   },
   "source": [
    "**K-means** — это алгоритм кластеризации, который делит данные на 𝑘 групп (кластеров). Основная идея: найти центры кластеров так, чтобы точки внутри одного кластера были ближе друг к другу, чем к точкам из других кластеров.\n",
    "\n",
    "1. Инициализация: выбираем 𝑘 случайных центров (центроидов).\n",
    "2. Присвоение точек: каждая точка относится к ближайшему центру.\n",
    "Обновление центров: пересчитываем центры кластеров как среднее всех точек в кластере.\n",
    "3. Повторяем шаги 2–3, пока центры не перестанут меняться или не достигнем максимального числа итераций."
   ]
  },
  {
   "cell_type": "code",
   "execution_count": 5,
   "metadata": {
    "colab": {
     "base_uri": "https://localhost:8080/",
     "height": 609,
     "referenced_widgets": [
      "6dd8dd3da73a42129220d4e1fb197cde",
      "1e06f4955d3e4f859293b182a565276e",
      "f7188af052514203b4106e2bd1556820",
      "f200f092e3eb44a58c868efeb96ad33d",
      "c408ed61a3a44f328b9af3258e200e2d",
      "2e48594049f34f02bc96e03f4ffa5da5",
      "b608e700b83d4fb9ae3f4f2610a530ef",
      "42e3aa6b5bab4949af5ff18c22a9585a",
      "727fdd1f780041a29bab2e33ed579d82",
      "924a9a18c5e9483aa20174d58aba03f0"
     ]
    },
    "id": "tyERx00M_BNd",
    "outputId": "54df7fc0-0556-478e-cecf-c6da099c1354"
   },
   "outputs": [
    {
     "data": {
      "application/vnd.jupyter.widget-view+json": {
       "model_id": "bb69457948af4ddfafca68ea06c75075",
       "version_major": 2,
       "version_minor": 0
      },
      "text/plain": [
       "interactive(children=(IntSlider(value=3, description='Clusters (k):', max=10, min=2), IntSlider(value=10, desc…"
      ]
     },
     "metadata": {},
     "output_type": "display_data"
    }
   ],
   "source": [
    "import numpy as np\n",
    "import pandas as pd\n",
    "import matplotlib.pyplot as plt\n",
    "import ipywidgets as widgets\n",
    "from IPython.display import display, clear_output\n",
    "\n",
    "def interactive_kmeans_visualization(X, max_clusters=10, max_iterations=50):\n",
    "\n",
    "    # преобразуем X в numpy array\n",
    "    if isinstance(X, pd.DataFrame):\n",
    "        X = X.values\n",
    "\n",
    "    def plot_kmeans_iteration(X, centroids, labels=None, step=0):\n",
    "        clear_output(wait=True)\n",
    "        plt.figure(figsize=(8, 6))\n",
    "        if labels is not None:\n",
    "            plt.scatter(X[:, 0], X[:, 1], c=labels, cmap='viridis', s=30, alpha=0.6)\n",
    "        else:\n",
    "            plt.scatter(X[:, 0], X[:, 1], s=30, alpha=0.6)\n",
    "        plt.scatter(centroids[:, 0], centroids[:, 1], c='red', marker='x', s=100, label='Centroids')\n",
    "        plt.title(f'K-means Iteration {step}')\n",
    "        plt.legend()\n",
    "        plt.show()\n",
    "\n",
    "    def k_means_interactive(X, k, max_iters):\n",
    "        np.random.seed(42)\n",
    "        centroids = X[np.random.choice(X.shape[0], k, replace=False)]\n",
    "        for step in range(max_iters):\n",
    "            distances = np.linalg.norm(X[:, np.newaxis] - centroids, axis=2)\n",
    "            labels = np.argmin(distances, axis=1)\n",
    "            plot_kmeans_iteration(X, centroids, labels, step)\n",
    "            new_centroids = np.array([X[labels == i].mean(axis=0) for i in range(k)])\n",
    "            if np.all(centroids == new_centroids):\n",
    "                break\n",
    "            centroids = new_centroids\n",
    "\n",
    "    def run_kmeans(k, max_iters):\n",
    "        k_means_interactive(X, k, max_iters)\n",
    "\n",
    "    k_slider = widgets.IntSlider(value=3, min=2, max=max_clusters, step=1, description='Clusters (k):')\n",
    "    iter_slider = widgets.IntSlider(value=10, min=1, max=max_iterations, step=1, description='Max Iterations:')\n",
    "\n",
    "    interactive_plot = widgets.interactive(run_kmeans, k=k_slider, max_iters=iter_slider)\n",
    "    display(interactive_plot)\n",
    "\n",
    "# Берем датасет и визуализируем K-means\n",
    "interactive_kmeans_visualization(df[:100])\n"
   ]
  },
  {
   "cell_type": "markdown",
   "metadata": {
    "id": "QmSToCd_AChB"
   },
   "source": [
    "### K-means через реализацию skelarn"
   ]
  },
  {
   "cell_type": "code",
   "execution_count": 6,
   "metadata": {
    "colab": {
     "base_uri": "https://localhost:8080/"
    },
    "id": "vsdwh1IrAbU_",
    "outputId": "8770b2a9-a118-4f1e-b8f5-0820b284988c"
   },
   "outputs": [
    {
     "name": "stdout",
     "output_type": "stream",
     "text": [
      "Статистика по кластерам:\n",
      "\n",
      "Статистика для признака 'age':\n",
      "             mean       std       min  max\n",
      "Cluster                                   \n",
      "0        0.233909  0.185136  0.000000  1.0\n",
      "1        0.407482  0.170478  0.013699  1.0\n",
      "2        0.334299  0.155000  0.000000  1.0\n",
      "\n",
      "Статистика для признака 'education-num':\n",
      "             mean       std  min  max\n",
      "Cluster                              \n",
      "0        0.587859  0.159466  0.0  1.0\n",
      "1        0.651716  0.186054  0.0  1.0\n",
      "2        0.607625  0.176973  0.0  1.0\n",
      "\n",
      "Статистика для признака 'capital-gain':\n",
      "             mean       std  min  max\n",
      "Cluster                              \n",
      "0        0.003808  0.036722  0.0  1.0\n",
      "1        0.022471  0.113354  0.0  1.0\n",
      "2        0.015698  0.088684  0.0  1.0\n",
      "\n",
      "Статистика для признака 'capital-loss':\n",
      "             mean       std  min       max\n",
      "Cluster                                   \n",
      "0        0.012556  0.073666  0.0  1.000000\n",
      "1        0.030851  0.114599  0.0  0.648301\n",
      "2        0.026377  0.104741  0.0  0.648301\n",
      "\n",
      "Статистика для признака 'hours-per-week':\n",
      "             mean       std       min  max\n",
      "Cluster                                   \n",
      "0        0.374381  0.123038  0.000000  1.0\n",
      "1        0.432524  0.148221  0.000000  1.0\n",
      "2        0.432365  0.103488  0.010204  1.0\n",
      "\n",
      "Статистика для признака 'income >50K':\n",
      "             mean       std  min  max\n",
      "Cluster                              \n",
      "0        0.047772  0.213289  0.0  1.0\n",
      "1        0.461604  0.498566  0.0  1.0\n",
      "2        0.438801  0.496266  0.0  1.0\n",
      "\n",
      "Статистика для признака 'workclass_Local-gov':\n",
      "             mean       std  min  max\n",
      "Cluster                              \n",
      "0        0.056506  0.230904    0    1\n",
      "1        0.194020  0.395478    0    1\n",
      "2        0.000000  0.000000    0    0\n",
      "\n",
      "Статистика для признака 'workclass_Never-worked':\n",
      "             mean       std  min  max\n",
      "Cluster                              \n",
      "0        0.000357  0.018879    0    1\n",
      "1        0.000170  0.013034    0    1\n",
      "2        0.000000  0.000000    0    0\n",
      "\n",
      "Статистика для признака 'workclass_Private':\n",
      "             mean       std  min  max\n",
      "Cluster                              \n",
      "0        0.763577  0.424898    0    1\n",
      "1        0.000000  0.000000    0    0\n",
      "2        1.000000  0.000000    1    1\n",
      "\n",
      "Статистика для признака 'workclass_Self-emp-inc':\n",
      "             mean       std  min  max\n",
      "Cluster                              \n",
      "0        0.012121  0.109430    0    1\n",
      "1        0.154944  0.361882    0    1\n",
      "2        0.000000  0.000000    0    0\n",
      "\n",
      "Статистика для признака 'workclass_Self-emp-not-inc':\n",
      "             mean       std  min  max\n",
      "Cluster                              \n",
      "0        0.031729  0.175283    0    1\n",
      "1        0.340979  0.474078    0    1\n",
      "2        0.000000  0.000000    0    0\n",
      "\n",
      "Статистика для признака 'workclass_State-gov':\n",
      "             mean       std  min  max\n",
      "Cluster                              \n",
      "0        0.038622  0.192697    0    1\n",
      "1        0.110092  0.313031    0    1\n",
      "2        0.000000  0.000000    0    0\n",
      "\n",
      "Статистика для признака 'workclass_Without-pay':\n",
      "             mean       std  min  max\n",
      "Cluster                              \n",
      "0        0.000357  0.018879    0    1\n",
      "1        0.001359  0.036845    0    1\n",
      "2        0.000000  0.000000    0    0\n",
      "\n",
      "Статистика для признака 'education_11th':\n",
      "             mean       std  min  max\n",
      "Cluster                              \n",
      "0        0.048247  0.214294    0    1\n",
      "1        0.015460  0.123385    0    1\n",
      "2        0.027628  0.163914    0    1\n",
      "\n",
      "Статистика для признака 'education_12th':\n",
      "             mean       std  min  max\n",
      "Cluster                              \n",
      "0        0.017766  0.132103    0    1\n",
      "1        0.007645  0.087110    0    1\n",
      "2        0.009040  0.094654    0    1\n",
      "\n",
      "Статистика для признака 'education_1st-4th':\n",
      "             mean       std  min  max\n",
      "Cluster                              \n",
      "0        0.004932  0.070055    0    1\n",
      "1        0.003058  0.055220    0    1\n",
      "2        0.006805  0.082218    0    1\n",
      "\n",
      "Статистика для признака 'education_5th-6th':\n",
      "             mean       std  min  max\n",
      "Cluster                              \n",
      "0        0.009329  0.096136    0    1\n",
      "1        0.008155  0.089943    0    1\n",
      "2        0.013002  0.113286    0    1\n",
      "\n",
      "Статистика для признака 'education_7th-8th':\n",
      "             mean       std  min  max\n",
      "Cluster                              \n",
      "0        0.016518  0.127461    0    1\n",
      "1        0.024805  0.155542    0    1\n",
      "2        0.022550  0.148470    0    1\n",
      "\n",
      "Статистика для признака 'education_9th':\n",
      "             mean       std  min  max\n",
      "Cluster                              \n",
      "0        0.016578  0.127686    0    1\n",
      "1        0.012232  0.109931    0    1\n",
      "2        0.016557  0.127609    0    1\n",
      "\n",
      "Статистика для признака 'education_Assoc-acdm':\n",
      "             mean       std  min  max\n",
      "Cluster                              \n",
      "0        0.034284  0.181963    0    1\n",
      "1        0.032960  0.178546    0    1\n",
      "2        0.030066  0.170778    0    1\n",
      "\n",
      "Статистика для признака 'education_Assoc-voc':\n",
      "             mean       std  min  max\n",
      "Cluster                              \n",
      "0        0.039632  0.195098    0    1\n",
      "1        0.037717  0.190526    0    1\n",
      "2        0.050076  0.218113    0    1\n",
      "\n",
      "Статистика для признака 'education_Bachelors':\n",
      "             mean       std  min  max\n",
      "Cluster                              \n",
      "0        0.142365  0.349434    0    1\n",
      "1        0.199117  0.399370    0    1\n",
      "2        0.181513  0.385463    0    1\n",
      "\n",
      "Статистика для признака 'education_Doctorate':\n",
      "             mean       std  min  max\n",
      "Cluster                              \n",
      "0        0.005704  0.075312    0    1\n",
      "1        0.031940  0.175856    0    1\n",
      "2        0.013103  0.113722    0    1\n",
      "\n",
      "Статистика для признака 'education_HS-grad':\n",
      "             mean       std  min  max\n",
      "Cluster                              \n",
      "0        0.323886  0.467971    0    1\n",
      "1        0.289840  0.453727    0    1\n",
      "2        0.339665  0.473619    0    1\n",
      "\n",
      "Статистика для признака 'education_Masters':\n",
      "             mean       std  min  max\n",
      "Cluster                              \n",
      "0        0.037374  0.189682    0    1\n",
      "1        0.093612  0.291313    0    1\n",
      "2        0.055155  0.228294    0    1\n",
      "\n",
      "Статистика для признака 'education_Preschool':\n",
      "             mean       std  min  max\n",
      "Cluster                              \n",
      "0        0.001783  0.042184    0    1\n",
      "1        0.000849  0.029136    0    1\n",
      "2        0.001625  0.040283    0    1\n",
      "\n",
      "Статистика для признака 'education_Prof-school':\n",
      "             mean       std  min  max\n",
      "Cluster                              \n",
      "0        0.008021  0.089205    0    1\n",
      "1        0.046551  0.210693    0    1\n",
      "2        0.016963  0.129139    0    1\n",
      "\n",
      "Статистика для признака 'education_Some-college':\n",
      "             mean       std  min  max\n",
      "Cluster                              \n",
      "0        0.260012  0.438654    0    1\n",
      "1        0.177710  0.382301    0    1\n",
      "2        0.189843  0.392196    0    1\n",
      "\n",
      "Статистика для признака 'marital-status_Married-AF-spouse':\n",
      "             mean       std  min  max\n",
      "Cluster                              \n",
      "0        0.000772  0.027783    0    1\n",
      "1        0.000680  0.026062    0    1\n",
      "2        0.000609  0.024681    0    1\n",
      "\n",
      "Статистика для признака 'marital-status_Married-civ-spouse':\n",
      "             mean       std  min  max\n",
      "Cluster                              \n",
      "0        0.000059  0.007708    0    1\n",
      "1        0.890928  0.311756    0    1\n",
      "2        0.988421  0.106989    0    1\n",
      "\n",
      "Статистика для признака 'marital-status_Married-spouse-absent':\n",
      "             mean       std  min  max\n",
      "Cluster                              \n",
      "0        0.022044  0.146831    0    1\n",
      "1        0.006456  0.080096    0    1\n",
      "2        0.000914  0.030223    0    1\n",
      "\n",
      "Статистика для признака 'marital-status_Never-married':\n",
      "             mean       std  min  max\n",
      "Cluster                              \n",
      "0        0.633214  0.481942    0    1\n",
      "1        0.004417  0.066321    0    1\n",
      "2        0.000000  0.000000    0    0\n",
      "\n",
      "Статистика для признака 'marital-status_Separated':\n",
      "             mean       std  min  max\n",
      "Cluster                              \n",
      "0        0.056209  0.230332    0    1\n",
      "1        0.011723  0.107644    0    1\n",
      "2        0.001016  0.031856    0    1\n",
      "\n",
      "Статистика для признака 'marital-status_Widowed':\n",
      "             mean       std  min  max\n",
      "Cluster                              \n",
      "0        0.054189  0.226397    0    1\n",
      "1        0.011723  0.107644    0    1\n",
      "2        0.001219  0.034893    0    1\n",
      "\n",
      "Статистика для признака 'occupation_Armed-Forces':\n",
      "             mean       std  min  max\n",
      "Cluster                              \n",
      "0        0.000357  0.018879    0    1\n",
      "1        0.000510  0.022572    0    1\n",
      "2        0.000000  0.000000    0    0\n",
      "\n",
      "Статистика для признака 'occupation_Craft-repair':\n",
      "             mean       std  min  max\n",
      "Cluster                              \n",
      "0        0.082650  0.275361    0    1\n",
      "1        0.123174  0.328664    0    1\n",
      "2        0.201422  0.401083    0    1\n",
      "\n",
      "Статистика для признака 'occupation_Exec-managerial':\n",
      "             mean       std  min  max\n",
      "Cluster                              \n",
      "0        0.085502  0.279636    0    1\n",
      "1        0.182467  0.386262    0    1\n",
      "2        0.157745  0.364520    0    1\n",
      "\n",
      "Статистика для признака 'occupation_Farming-fishing':\n",
      "             mean       std  min  max\n",
      "Cluster                              \n",
      "0        0.022460  0.148178    0    1\n",
      "1        0.071526  0.257723    0    1\n",
      "2        0.019807  0.139344    0    1\n",
      "\n",
      "Статистика для признака 'occupation_Handlers-cleaners':\n",
      "             mean       std  min  max\n",
      "Cluster                              \n",
      "0        0.053179  0.224397    0    1\n",
      "1        0.008665  0.092688    0    1\n",
      "2        0.043068  0.203020    0    1\n",
      "\n",
      "Статистика для признака 'occupation_Machine-op-inspct':\n",
      "             mean       std  min  max\n",
      "Cluster                              \n",
      "0        0.059715  0.236965    0    1\n",
      "1        0.009514  0.097083    0    1\n",
      "2        0.095582  0.294031    0    1\n",
      "\n",
      "Статистика для признака 'occupation_Other-service':\n",
      "             mean       std  min  max\n",
      "Cluster                              \n",
      "0        0.152288  0.359310    0    1\n",
      "1        0.034998  0.183791    0    1\n",
      "2        0.053428  0.224897    0    1\n",
      "\n",
      "Статистика для признака 'occupation_Priv-house-serv':\n",
      "             mean       std  min  max\n",
      "Cluster                              \n",
      "0        0.007903  0.088547    0    1\n",
      "1        0.000000  0.000000    0    0\n",
      "2        0.001625  0.040283    0    1\n",
      "\n",
      "Статистика для признака 'occupation_Prof-specialty':\n",
      "             mean       std  min  max\n",
      "Cluster                              \n",
      "0        0.109447  0.312209    0    1\n",
      "1        0.190962  0.393092    0    1\n",
      "2        0.119248  0.324097    0    1\n",
      "\n",
      "Статистика для признака 'occupation_Protective-serv':\n",
      "             mean       std  min  max\n",
      "Cluster                              \n",
      "0        0.014023  0.117587    0    1\n",
      "1        0.054196  0.226424    0    1\n",
      "2        0.009548  0.097251    0    1\n",
      "\n",
      "Статистика для признака 'occupation_Sales':\n",
      "             mean       std  min  max\n",
      "Cluster                              \n",
      "0        0.113785  0.317559    0    1\n",
      "1        0.094801  0.292965    0    1\n",
      "2        0.119553  0.324455    0    1\n",
      "\n",
      "Статистика для признака 'occupation_Tech-support':\n",
      "             mean       std  min  max\n",
      "Cluster                              \n",
      "0        0.030303  0.171425    0    1\n",
      "1        0.016650  0.127966    0    1\n",
      "2        0.032504  0.177343    0    1\n",
      "\n",
      "Статистика для признака 'occupation_Transport-moving':\n",
      "             mean       std  min  max\n",
      "Cluster                              \n",
      "0        0.033749  0.180588    0    1\n",
      "1        0.043663  0.204361    0    1\n",
      "2        0.078415  0.268838    0    1\n",
      "\n",
      "Статистика для признака 'relationship_Not-in-family':\n",
      "             mean       std  min  max\n",
      "Cluster                              \n",
      "0        0.468806  0.499041    0    1\n",
      "1        0.062861  0.242733    0    1\n",
      "2        0.004571  0.067457    0    1\n",
      "\n",
      "Статистика для признака 'relationship_Other-relative':\n",
      "             mean       std  min  max\n",
      "Cluster                              \n",
      "0        0.048010  0.213793    0    1\n",
      "1        0.011043  0.104513    0    1\n",
      "2        0.010970  0.104167    0    1\n",
      "\n",
      "Статистика для признака 'relationship_Own-child':\n",
      "             mean       std  min  max\n",
      "Cluster                              \n",
      "0        0.293167  0.455228    0    1\n",
      "1        0.010194  0.100456    0    1\n",
      "2        0.007517  0.086376    0    1\n",
      "\n",
      "Статистика для признака 'relationship_Unmarried':\n",
      "             mean       std  min  max\n",
      "Cluster                              \n",
      "0        0.189364  0.391809    0    1\n",
      "1        0.034659  0.182929    0    1\n",
      "2        0.005587  0.074538    0    1\n",
      "\n",
      "Статистика для признака 'relationship_Wife':\n",
      "             mean       std  min  max\n",
      "Cluster                              \n",
      "0        0.000475  0.021798    0    1\n",
      "1        0.096160  0.294836    0    1\n",
      "2        0.100965  0.301298    0    1\n",
      "\n",
      "Статистика для признака 'race_Asian-Pac-Islander':\n",
      "             mean       std  min  max\n",
      "Cluster                              \n",
      "0        0.030541  0.172075    0    1\n",
      "1        0.031940  0.175856    0    1\n",
      "2        0.034231  0.181830    0    1\n",
      "\n",
      "Статистика для признака 'race_Black':\n",
      "             mean       std  min  max\n",
      "Cluster                              \n",
      "0        0.134046  0.340712    0    1\n",
      "1        0.051648  0.221334    0    1\n",
      "2        0.057288  0.232404    0    1\n",
      "\n",
      "Статистика для признака 'race_Other':\n",
      "             mean       std  min  max\n",
      "Cluster                              \n",
      "0        0.009685  0.097938    0    1\n",
      "1        0.004417  0.066321    0    1\n",
      "2        0.008329  0.090888    0    1\n",
      "\n",
      "Статистика для признака 'race_White':\n",
      "             mean       std  min  max\n",
      "Cluster                              \n",
      "0        0.814557  0.388668    0    1\n",
      "1        0.903160  0.295765    0    1\n",
      "2        0.892941  0.309204    0    1\n",
      "\n",
      "Статистика для признака 'sex_Male':\n",
      "             mean       std  min  max\n",
      "Cluster                              \n",
      "0        0.464231  0.498734    0    1\n",
      "1        0.883112  0.321314    0    1\n",
      "2        0.891722  0.310747    0    1\n",
      "\n",
      "Статистика для признака 'native-country_Canada':\n",
      "             mean       std  min  max\n",
      "Cluster                              \n",
      "0        0.003327  0.057589    0    1\n",
      "1        0.004417  0.066321    0    1\n",
      "2        0.003961  0.062818    0    1\n",
      "\n",
      "Статистика для признака 'native-country_China':\n",
      "             mean       std  min  max\n",
      "Cluster                              \n",
      "0        0.001485  0.038514    0    1\n",
      "1        0.003058  0.055220    0    1\n",
      "2        0.003250  0.056922    0    1\n",
      "\n",
      "Статистика для признака 'native-country_Columbia':\n",
      "             mean       std  min  max\n",
      "Cluster                              \n",
      "0        0.002317  0.048084    0    1\n",
      "1        0.001359  0.036845    0    1\n",
      "2        0.001219  0.034893    0    1\n",
      "\n",
      "Статистика для признака 'native-country_Cuba':\n",
      "             mean       std  min  max\n",
      "Cluster                              \n",
      "0        0.002614  0.051066    0    1\n",
      "1        0.003398  0.058197    0    1\n",
      "2        0.003149  0.056029    0    1\n",
      "\n",
      "Статистика для признака 'native-country_Dominican-Republic':\n",
      "             mean       std  min  max\n",
      "Cluster                              \n",
      "0        0.002911  0.053881    0    1\n",
      "1        0.000849  0.029136    0    1\n",
      "2        0.001625  0.040283    0    1\n",
      "\n",
      "Статистика для признака 'native-country_Ecuador':\n",
      "             mean       std  min  max\n",
      "Cluster                              \n",
      "0        0.000772  0.027783    0    1\n",
      "1        0.000340  0.018432    0    1\n",
      "2        0.001320  0.036316    0    1\n",
      "\n",
      "Статистика для признака 'native-country_El-Salvador':\n",
      "             mean       std  min  max\n",
      "Cluster                              \n",
      "0        0.003981  0.062971    0    1\n",
      "1        0.001869  0.043193    0    1\n",
      "2        0.002844  0.053257    0    1\n",
      "\n",
      "Статистика для признака 'native-country_England':\n",
      "             mean       std  min  max\n",
      "Cluster                              \n",
      "0        0.002911  0.053881    0    1\n",
      "1        0.002718  0.052071    0    1\n",
      "2        0.002539  0.050331    0    1\n",
      "\n",
      "Статистика для признака 'native-country_France':\n",
      "             mean       std  min  max\n",
      "Cluster                              \n",
      "0        0.000891  0.029842    0    1\n",
      "1        0.000849  0.029136    0    1\n",
      "2        0.000914  0.030223    0    1\n",
      "\n",
      "Статистика для признака 'native-country_Germany':\n",
      "             mean       std  min  max\n",
      "Cluster                              \n",
      "0        0.004100  0.063900    0    1\n",
      "1        0.003568  0.059629    0    1\n",
      "2        0.004774  0.068932    0    1\n",
      "\n",
      "Статистика для признака 'native-country_Greece':\n",
      "             mean       std  min  max\n",
      "Cluster                              \n",
      "0        0.000416  0.020391    0    1\n",
      "1        0.001529  0.039077    0    1\n",
      "2        0.001320  0.036316    0    1\n",
      "\n",
      "Статистика для признака 'native-country_Guatemala':\n",
      "             mean       std  min  max\n",
      "Cluster                              \n",
      "0        0.002911  0.053881    0    1\n",
      "1        0.000170  0.013034    0    1\n",
      "2        0.001422  0.037685    0    1\n",
      "\n",
      "Статистика для признака 'native-country_Haiti':\n",
      "             mean       std  min  max\n",
      "Cluster                              \n",
      "0        0.001723  0.041476    0    1\n",
      "1        0.000340  0.018432    0    1\n",
      "2        0.001320  0.036316    0    1\n",
      "\n",
      "Статистика для признака 'native-country_Holand-Netherlands':\n",
      "             mean       std  min  max\n",
      "Cluster                              \n",
      "0        0.000059  0.007708    0    1\n",
      "1        0.000000  0.000000    0    0\n",
      "2        0.000000  0.000000    0    0\n",
      "\n",
      "Статистика для признака 'native-country_Honduras':\n",
      "             mean       std  min  max\n",
      "Cluster                              \n",
      "0        0.000594  0.024369    0    1\n",
      "1        0.000340  0.018432    0    1\n",
      "2        0.000102  0.010078    0    1\n",
      "\n",
      "Статистика для признака 'native-country_Hong':\n",
      "             mean       std  min  max\n",
      "Cluster                              \n",
      "0        0.000416  0.020391    0    1\n",
      "1        0.000680  0.026062    0    1\n",
      "2        0.000914  0.030223    0    1\n",
      "\n",
      "Статистика для признака 'native-country_Hungary':\n",
      "             mean       std  min  max\n",
      "Cluster                              \n",
      "0        0.000416  0.020391    0    1\n",
      "1        0.000510  0.022572    0    1\n",
      "2        0.000305  0.017455    0    1\n",
      "\n",
      "Статистика для признака 'native-country_India':\n",
      "             mean       std  min  max\n",
      "Cluster                              \n",
      "0        0.001961  0.044239    0    1\n",
      "1        0.003738  0.061027    0    1\n",
      "2        0.004571  0.067457    0    1\n",
      "\n",
      "Статистика для признака 'native-country_Iran':\n",
      "             mean       std  min  max\n",
      "Cluster                              \n",
      "0        0.000891  0.029842    0    1\n",
      "1        0.002209  0.046948    0    1\n",
      "2        0.001524  0.039006    0    1\n",
      "\n",
      "Статистика для признака 'native-country_Ireland':\n",
      "             mean       std  min  max\n",
      "Cluster                              \n",
      "0        0.000951  0.030819    0    1\n",
      "1        0.000170  0.013034    0    1\n",
      "2        0.000711  0.026657    0    1\n",
      "\n",
      "Статистика для признака 'native-country_Italy':\n",
      "             mean       std  min  max\n",
      "Cluster                              \n",
      "0        0.001307  0.036133    0    1\n",
      "1        0.003568  0.059629    0    1\n",
      "2        0.003047  0.055120    0    1\n",
      "\n",
      "Статистика для признака 'native-country_Jamaica':\n",
      "             mean       std  min  max\n",
      "Cluster                              \n",
      "0        0.003327  0.057589    0    1\n",
      "1        0.001189  0.034468    0    1\n",
      "2        0.001828  0.042722    0    1\n",
      "\n",
      "Статистика для признака 'native-country_Japan':\n",
      "             mean       std  min  max\n",
      "Cluster                              \n",
      "0        0.001723  0.041476    0    1\n",
      "1        0.001359  0.036845    0    1\n",
      "2        0.002539  0.050331    0    1\n",
      "\n",
      "Статистика для признака 'native-country_Laos':\n",
      "             mean       std  min  max\n",
      "Cluster                              \n",
      "0        0.000416  0.020391    0    1\n",
      "1        0.000510  0.022572    0    1\n",
      "2        0.000813  0.028496    0    1\n",
      "\n",
      "Статистика для признака 'native-country_Mexico':\n",
      "             mean       std  min  max\n",
      "Cluster                              \n",
      "0        0.019133  0.136995    0    1\n",
      "1        0.010024  0.099624    0    1\n",
      "2        0.026612  0.160956    0    1\n",
      "\n",
      "Статистика для признака 'native-country_Nicaragua':\n",
      "             mean       std  min  max\n",
      "Cluster                              \n",
      "0        0.001188  0.034453    0    1\n",
      "1        0.000849  0.029136    0    1\n",
      "2        0.000914  0.030223    0    1\n",
      "\n",
      "Статистика для признака 'native-country_Outlying-US(Guam-USVI-etc)':\n",
      "             mean       std  min  max\n",
      "Cluster                              \n",
      "0        0.000654  0.025558    0    1\n",
      "1        0.000170  0.013034    0    1\n",
      "2        0.000203  0.014252    0    1\n",
      "\n",
      "Статистика для признака 'native-country_Peru':\n",
      "             mean       std  min  max\n",
      "Cluster                              \n",
      "0        0.001188  0.034453    0    1\n",
      "1        0.000340  0.018432    0    1\n",
      "2        0.000914  0.030223    0    1\n",
      "\n",
      "Статистика для признака 'native-country_Philippines':\n",
      "             mean       std  min  max\n",
      "Cluster                              \n",
      "0        0.005585  0.074528    0    1\n",
      "1        0.004757  0.068813    0    1\n",
      "2        0.007720  0.087526    0    1\n",
      "\n",
      "Статистика для признака 'native-country_Poland':\n",
      "             mean       std  min  max\n",
      "Cluster                              \n",
      "0        0.001604  0.040022    0    1\n",
      "1        0.001189  0.034468    0    1\n",
      "2        0.002641  0.051325    0    1\n",
      "\n",
      "Статистика для признака 'native-country_Portugal':\n",
      "             mean       std  min  max\n",
      "Cluster                              \n",
      "0        0.000891  0.029842    0    1\n",
      "1        0.001189  0.034468    0    1\n",
      "2        0.001524  0.039006    0    1\n",
      "\n",
      "Статистика для признака 'native-country_Puerto-Rico':\n",
      "             mean       std  min  max\n",
      "Cluster                              \n",
      "0        0.003981  0.062971    0    1\n",
      "1        0.002548  0.050422    0    1\n",
      "2        0.003250  0.056922    0    1\n",
      "\n",
      "Статистика для признака 'native-country_Scotland':\n",
      "             mean       std  min  max\n",
      "Cluster                              \n",
      "0        0.000357  0.018879    0    1\n",
      "1        0.000340  0.018432    0    1\n",
      "2        0.000406  0.020154    0    1\n",
      "\n",
      "Статистика для признака 'native-country_South':\n",
      "             mean       std  min  max\n",
      "Cluster                              \n",
      "0        0.002317  0.048084    0    1\n",
      "1        0.004077  0.063730    0    1\n",
      "2        0.001727  0.041521    0    1\n",
      "\n",
      "Статистика для признака 'native-country_Taiwan':\n",
      "             mean       std  min  max\n",
      "Cluster                              \n",
      "0        0.001367  0.036943    0    1\n",
      "1        0.002379  0.048716    0    1\n",
      "2        0.001422  0.037685    0    1\n",
      "\n",
      "Статистика для признака 'native-country_Thailand':\n",
      "             mean       std  min  max\n",
      "Cluster                              \n",
      "0        0.000594  0.024369    0    1\n",
      "1        0.000849  0.029136    0    1\n",
      "2        0.000305  0.017455    0    1\n",
      "\n",
      "Статистика для признака 'native-country_Trinadad&Tobago':\n",
      "             mean       std  min  max\n",
      "Cluster                              \n",
      "0        0.000594  0.024369    0    1\n",
      "1        0.000340  0.018432    0    1\n",
      "2        0.000711  0.026657    0    1\n",
      "\n",
      "Статистика для признака 'native-country_United-States':\n",
      "             mean       std  min  max\n",
      "Cluster                              \n",
      "0        0.898099  0.302528    0    1\n",
      "1        0.910805  0.285049    0    1\n",
      "2        0.883088  0.321332    0    1\n",
      "\n",
      "Статистика для признака 'native-country_Vietnam':\n",
      "             mean       std  min  max\n",
      "Cluster                              \n",
      "0        0.002436  0.049298    0    1\n",
      "1        0.001189  0.034468    0    1\n",
      "2        0.001930  0.043891    0    1\n",
      "\n",
      "Статистика для признака 'native-country_Yugoslavia':\n",
      "             mean       std  min  max\n",
      "Cluster                              \n",
      "0        0.000238  0.015415    0    1\n",
      "1        0.000510  0.022572    0    1\n",
      "2        0.000914  0.030223    0    1\n",
      "\n",
      "Коэффициент силуэта для k=3: 0.0909\n"
     ]
    }
   ],
   "source": [
    "import numpy as np\n",
    "import pandas as pd\n",
    "import matplotlib.pyplot as plt\n",
    "from sklearn.cluster import KMeans\n",
    "from sklearn.metrics import silhouette_score\n",
    "\n",
    "# Определяем количество кластеров k\n",
    "k = 3  # Вы можете изменить это значение в соответствии с вашими данными\n",
    "\n",
    "# Создаем и обучаем модель KMeans\n",
    "kmeans = KMeans(n_clusters=k, random_state=42)\n",
    "labels = kmeans.fit_predict(df)\n",
    "centroids = kmeans.cluster_centers_\n",
    "\n",
    "# Добавляем метки кластеров в исходный DataFrame\n",
    "df_k_means = df.copy()\n",
    "df_k_means['Cluster'] = labels\n",
    "\n",
    "# Вывод статистики по кластерам для каждого признака\n",
    "print(\"Статистика по кластерам:\")\n",
    "for column in df.columns:\n",
    "    print(f\"\\nСтатистика для признака '{column}':\")\n",
    "    cluster_stats = df_k_means.groupby('Cluster')[column].agg(['mean', 'std', 'min', 'max'])\n",
    "    print(cluster_stats)\n",
    "\n",
    "# Вычисление коэффициента силуэта\n",
    "if k > 1:\n",
    "    silhouette_avg = silhouette_score(df, labels)\n",
    "    print(f\"\\nКоэффициент силуэта для k={k}: {silhouette_avg:.4f}\")\n",
    "else:\n",
    "    print(\"\\nКоэффициент силуэта не определен для k=1\")\n"
   ]
  },
  {
   "cell_type": "markdown",
   "metadata": {
    "id": "oThLysStCp_t"
   },
   "source": [
    "#### **Анализ кластеров**"
   ]
  },
  {
   "cell_type": "markdown",
   "metadata": {
    "id": "v4i6ko4ICN-q"
   },
   "source": [
    "После применения алгоритма K-means с количеством кластеров \\( k=3 \\), мы получили три группы людей с заметными отличиями по некоторым признакам. Рассмотрим три наиболее значимых признака, по которым кластеры существенно различаются:\n",
    "\n",
    "1. **Возраст(age):**\n",
    "   - **Кластер 0** Средний возраст самый низкий (0.233909), что говорит о том, что этот кластер содержит более молодых людей.\n",
    "   - **Кластер 1** Тут самые взрослые.\n",
    "   - **Кластер 2** Тут среднее между 0 и 1 кластерами.\n",
    "\n",
    "2. **Образование (education-num):**\n",
    "   - **Кластер 0** Средний уровень образования (0.587859) самый низкий.\n",
    "   - **Кластер 1** Тут самый высокий.\n",
    "   - **Кластер 2** Тут самый низкий.\n",
    "    \n",
    "3. **hours-per-week:**\n",
    "   - **Кластер 1** Среднее количество рабочих часов в неделю самое низкое (0.374381).\n",
    "   - **Кластера 0 и 2** очень похожи.\n",
    "   - **Вывод:** Белые вина в Кластере 1 более сладкие, в то время как белые вина в Кластере 0 и красные вина в Кластере 2 менее сладкие.\n",
    "\n",
    "**Коэффициент силуэта для \\( k=3 \\): 0.0909**\n",
    "\n",
    "Коэффициент силуэта — это метрика для оценки качества кластеризации, показывающая, насколько объекты внутри одного кластера похожи друг на друга и отличаются от объектов в других кластерах.\n",
    "\n",
    "- **Диапазон значений:** от -1 до 1.\n",
    "  - **Близкие к 1:** Хорошая кластеризация; объекты внутри кластеров схожи, кластеры хорошо разделены.\n",
    "  - **Около 0:** Кластеры пересекаются; объекты находятся на границах кластеров.\n",
    "  - **Отрицательные значения:** Плохая кластеризация; объекты могут быть отнесены к неправильным кластерам.\n",
    "\n",
    "**Интерпретация полученного значения:**\n",
    "\n",
    "- **0.0909** — Очень низкое значение. Кластеризация плохая и кластеры сильно пересекаются. Возможно как обычно плохая выборка или подготовка данных."
   ]
  },
  {
   "cell_type": "markdown",
   "metadata": {
    "id": "EHWTRO_1CwWw"
   },
   "source": [
    "### DBSSCAN"
   ]
  },
  {
   "cell_type": "markdown",
   "metadata": {
    "id": "b_cuoslsDkBM"
   },
   "source": [
    "DBSCAN (Density-Based Spatial Clustering of Applications with Noise) — это алгоритм кластеризации, основанный на плотности точек в пространстве.\n",
    "\n",
    "Параметры алгоритма:\n",
    "\n",
    "- **Epsilon (eps)**: радиус окрестности точки.\n",
    "- **Min_samples**: минимальное количество точек в eps-окрестности для того, чтобы точка считалась ядром кластера.\n",
    "\n",
    "Классификация точек:\n",
    "\n",
    "- **Core point (ядро)**: если в eps-окрестности точки находится не менее min_samples точек, то она является ядром.\n",
    "- **Border point (граничная точка)**: точка, которая находится в eps-окрестности ядра, но сама не является ядром.\n",
    "- **Noise point (шум)**: точка, которая не является ни ядром, ни граничной точкой. (**входит в кластер -1**)\n",
    "\n",
    "Точки, которые связаны по плотности (через ядра и их eps-окрестности), объединяются в один кластер."
   ]
  },
  {
   "cell_type": "code",
   "execution_count": 7,
   "metadata": {
    "colab": {
     "base_uri": "https://localhost:8080/",
     "height": 641,
     "referenced_widgets": [
      "01bb4df0fc4c4d6b937bc78e56a70403",
      "6e9aa9c24b8e4414b31cc49c789b4bfa",
      "2840ee3bf3c84fe1970910f50709eebb",
      "3904532b653140f1b66747b04ed3d891",
      "aad59669d90b4089a74ceb43f39e81e5",
      "93a585626f334e8b84852198e8885ea4",
      "a16175ad76b746938d48dae403f007e2",
      "abae27ab9fd14e7abfa711ec143356e4",
      "8a70f291f5124752bf276b495d97c76e",
      "e3eedb7faa0343079e83efb8d6be8fd3",
      "3669741e15894b468a65bdd4cdfc078f",
      "9df5cbce81fd4c69b84d349a8fdce07f",
      "7ddf5de1f1b249dcb20f97e810cc4650"
     ]
    },
    "id": "RRpwJh9nD_fW",
    "outputId": "415d9f47-6594-4cfc-e627-88cd8b1c7ea5"
   },
   "outputs": [
    {
     "data": {
      "application/vnd.jupyter.widget-view+json": {
       "model_id": "ccecfe5df93246ae922ffd206a72f129",
       "version_major": 2,
       "version_minor": 0
      },
      "text/plain": [
       "VBox(children=(FloatSlider(value=0.5, description='eps:', max=1.0, min=0.1, step=0.05), IntSlider(value=5, des…"
      ]
     },
     "metadata": {},
     "output_type": "display_data"
    },
    {
     "data": {
      "application/vnd.jupyter.widget-view+json": {
       "model_id": "8ded24244b644dcdab1a312b35602477",
       "version_major": 2,
       "version_minor": 0
      },
      "text/plain": [
       "Output()"
      ]
     },
     "metadata": {},
     "output_type": "display_data"
    }
   ],
   "source": [
    "import numpy as np\n",
    "import pandas as pd\n",
    "import matplotlib.pyplot as plt\n",
    "from ipywidgets import widgets\n",
    "from IPython.display import display, clear_output\n",
    "from sklearn.cluster import DBSCAN\n",
    "from sklearn.neighbors import NearestNeighbors\n",
    "\n",
    "def interactive_dbscan_visualization(X):\n",
    "    if isinstance(X, pd.DataFrame):\n",
    "        X = X.values\n",
    "\n",
    "    def plot_dbscan(X, labels, core_samples_mask, eps, min_samples, metric):\n",
    "        clear_output(wait=True)\n",
    "        unique_labels = set(labels)\n",
    "        colors = [plt.cm.Spectral(each)\n",
    "                  for each in np.linspace(0, 1, len(unique_labels))]\n",
    "        plt.figure(figsize=(8, 6))\n",
    "        for k, col in zip(unique_labels, colors):\n",
    "            if k == -1:\n",
    "                # Черный цвет для шума\n",
    "                col = [0, 0, 0, 1]\n",
    "\n",
    "            class_member_mask = (labels == k)\n",
    "\n",
    "            xy = X[class_member_mask & core_samples_mask]\n",
    "            plt.plot(xy[:, 0], xy[:, 1], 'o', markerfacecolor=tuple(col),\n",
    "                     markeredgecolor='k', markersize=14)\n",
    "\n",
    "            xy = X[class_member_mask & ~core_samples_mask]\n",
    "            plt.plot(xy[:, 0], xy[:, 1], 'o', markerfacecolor=tuple(col),\n",
    "                     markeredgecolor='k', markersize=6)\n",
    "\n",
    "        plt.title(f'DBSCAN: eps={eps}, min_samples={min_samples}, metric={metric}')\n",
    "        plt.show()\n",
    "\n",
    "    def run_dbscan(eps, min_samples, metric):\n",
    "        # Обучение DBSCAN\n",
    "        db = DBSCAN(eps=eps, min_samples=min_samples, metric=metric)\n",
    "        db.fit(X)\n",
    "        labels = db.labels_\n",
    "        core_samples_mask = np.zeros_like(db.labels_, dtype=bool)\n",
    "        core_samples_mask[db.core_sample_indices_] = True\n",
    "        plot_dbscan(X, labels, core_samples_mask, eps, min_samples, metric)\n",
    "\n",
    "    # Виджеты для настройки параметров\n",
    "    eps_slider = widgets.FloatSlider(value=0.5, min=0.1, max=1.0, step=0.05, description='eps:')\n",
    "    min_samples_slider = widgets.IntSlider(value=5, min=1, max=20, step=1, description='min_samples:')\n",
    "    metric_dropdown = widgets.Dropdown(options=['euclidean', 'manhattan', 'chebyshev', 'minkowski'],\n",
    "                                       value='euclidean', description='metric:')\n",
    "\n",
    "    ui = widgets.VBox([eps_slider, min_samples_slider, metric_dropdown])\n",
    "    out = widgets.interactive_output(run_dbscan, {'eps': eps_slider, 'min_samples': min_samples_slider, 'metric': metric_dropdown})\n",
    "    display(ui, out)\n",
    "\n",
    "# Пример использования\n",
    "interactive_dbscan_visualization(df[:120])\n"
   ]
  },
  {
   "cell_type": "markdown",
   "metadata": {
    "id": "zqPCilOXEfFP"
   },
   "source": [
    "### DBSSCAN через sklearn"
   ]
  },
  {
   "cell_type": "code",
   "execution_count": 8,
   "metadata": {
    "colab": {
     "base_uri": "https://localhost:8080/",
     "height": 1000
    },
    "id": "lgOzzouyEe0F",
    "outputId": "bc0d8da5-36b0-415a-ca80-2e614d97374c"
   },
   "outputs": [
    {
     "name": "stdout",
     "output_type": "stream",
     "text": [
      "Количество кластеров: 208\n",
      "Статистика по кластерам:\n",
      "\n",
      "Статистика для признака 'age':\n",
      "             mean       std       min       max  count\n",
      "Cluster                                               \n",
      "0        0.426027  0.166882  0.123288  0.780822     20\n",
      "1        0.277777  0.190761  0.013699  1.000000   1577\n",
      "2        0.405912  0.168975  0.123288  0.876712     76\n",
      "3        0.351925  0.151899  0.082192  1.000000   1551\n",
      "4        0.126130  0.085290  0.027397  1.000000    241\n",
      "...           ...       ...       ...       ...    ...\n",
      "203      0.315068  0.110536  0.095890  0.465753     10\n",
      "204      0.308219  0.164922  0.123288  0.616438     10\n",
      "205      0.089041  0.065934  0.027397  0.191781     10\n",
      "206      0.101979  0.068188  0.013699  0.191781      9\n",
      "207      0.056164  0.044011  0.027397  0.164384     10\n",
      "\n",
      "[208 rows x 5 columns]\n",
      "\n",
      "Статистика для признака 'education-num':\n",
      "             mean  std       min       max  count\n",
      "Cluster                                          \n",
      "0        0.800000  0.0  0.800000  0.800000     20\n",
      "1        0.533333  0.0  0.533333  0.533333   1577\n",
      "2        0.533333  0.0  0.533333  0.533333     76\n",
      "3        0.800000  0.0  0.800000  0.800000   1551\n",
      "4        0.800000  0.0  0.800000  0.800000    241\n",
      "...           ...  ...       ...       ...    ...\n",
      "203      0.600000  0.0  0.600000  0.600000     10\n",
      "204      0.133333  0.0  0.133333  0.133333     10\n",
      "205      0.600000  0.0  0.600000  0.600000     10\n",
      "206      0.533333  0.0  0.533333  0.533333      9\n",
      "207      0.600000  0.0  0.600000  0.600000     10\n",
      "\n",
      "[208 rows x 5 columns]\n",
      "\n",
      "Статистика для признака 'capital-gain':\n",
      "             mean       std  min       max  count\n",
      "Cluster                                          \n",
      "0        0.001204  0.005382  0.0  0.024070     20\n",
      "1        0.001256  0.006830  0.0  0.068491   1577\n",
      "2        0.004223  0.021890  0.0  0.150242     76\n",
      "3        0.027051  0.115067  0.0  1.000000   1551\n",
      "4        0.000695  0.004211  0.0  0.033250    241\n",
      "...           ...       ...  ...       ...    ...\n",
      "203      0.014596  0.030771  0.0  0.072981     10\n",
      "204      0.003411  0.010787  0.0  0.034110     10\n",
      "205      0.000000  0.000000  0.0  0.000000     10\n",
      "206      0.000000  0.000000  0.0  0.000000      9\n",
      "207      0.004416  0.013965  0.0  0.044160     10\n",
      "\n",
      "[208 rows x 5 columns]\n",
      "\n",
      "Статистика для признака 'capital-loss':\n",
      "             mean       std  min       max  count\n",
      "Cluster                                          \n",
      "0        0.019192  0.085829  0.0  0.383838     20\n",
      "1        0.015763  0.079741  0.0  0.536961   1577\n",
      "2        0.041694  0.132406  0.0  0.554408     76\n",
      "3        0.038180  0.125206  0.0  0.554408   1551\n",
      "4        0.005149  0.047151  0.0  0.536961    241\n",
      "...           ...       ...  ...       ...    ...\n",
      "203      0.043320  0.136988  0.0  0.433196     10\n",
      "204      0.000000  0.000000  0.0  0.000000     10\n",
      "205      0.000000  0.000000  0.0  0.000000     10\n",
      "206      0.000000  0.000000  0.0  0.000000      9\n",
      "207      0.000000  0.000000  0.0  0.000000     10\n",
      "\n",
      "[208 rows x 5 columns]\n",
      "\n",
      "Статистика для признака 'hours-per-week':\n",
      "             mean       std       min       max  count\n",
      "Cluster                                               \n",
      "0        0.444898  0.210516  0.091837  1.000000     20\n",
      "1        0.398522  0.105781  0.000000  1.000000   1577\n",
      "2        0.444549  0.162586  0.000000  1.000000     76\n",
      "3        0.446341  0.105911  0.010204  1.000000   1551\n",
      "4        0.366246  0.123115  0.010204  1.000000    241\n",
      "...           ...       ...       ...       ...    ...\n",
      "203      0.390816  0.084700  0.204082  0.500000     10\n",
      "204      0.372449  0.062209  0.234694  0.448980     10\n",
      "205      0.266327  0.182248  0.091837  0.653061     10\n",
      "206      0.435374  0.103182  0.244898  0.602041      9\n",
      "207      0.295918  0.083316  0.193878  0.397959     10\n",
      "\n",
      "[208 rows x 5 columns]\n",
      "\n",
      "Статистика для признака 'income >50K':\n",
      "             mean       std  min  max  count\n",
      "Cluster                                     \n",
      "0        0.000000  0.000000  0.0  0.0     20\n",
      "1        0.006975  0.083253  0.0  1.0   1577\n",
      "2        0.302632  0.462450  0.0  1.0     76\n",
      "3        0.726628  0.445834  0.0  1.0   1551\n",
      "4        0.004149  0.064416  0.0  1.0    241\n",
      "...           ...       ...  ...  ...    ...\n",
      "203      1.000000  0.000000  1.0  1.0     10\n",
      "204      0.000000  0.000000  0.0  0.0     10\n",
      "205      0.000000  0.000000  0.0  0.0     10\n",
      "206      0.000000  0.000000  0.0  0.0      9\n",
      "207      0.000000  0.000000  0.0  0.0     10\n",
      "\n",
      "[208 rows x 5 columns]\n",
      "\n",
      "Статистика для признака 'workclass_Local-gov':\n",
      "             mean       std  min  max  count\n",
      "Cluster                                     \n",
      "0        0.000000  0.000000    0    0     20\n",
      "1        0.008878  0.093832    0    1   1577\n",
      "2        0.000000  0.000000    0    0     76\n",
      "3        0.047711  0.213223    0    1   1551\n",
      "4        0.000000  0.000000    0    0    241\n",
      "...           ...       ...  ...  ...    ...\n",
      "203      0.000000  0.000000    0    0     10\n",
      "204      0.000000  0.000000    0    0     10\n",
      "205      0.000000  0.000000    0    0     10\n",
      "206      0.000000  0.000000    0    0      9\n",
      "207      0.000000  0.000000    0    0     10\n",
      "\n",
      "[208 rows x 5 columns]\n",
      "\n",
      "Статистика для признака 'workclass_Never-worked':\n",
      "         mean  std  min  max  count\n",
      "Cluster                            \n",
      "0         0.0  0.0    0    0     20\n",
      "1         0.0  0.0    0    0   1577\n",
      "2         0.0  0.0    0    0     76\n",
      "3         0.0  0.0    0    0   1551\n",
      "4         0.0  0.0    0    0    241\n",
      "...       ...  ...  ...  ...    ...\n",
      "203       0.0  0.0    0    0     10\n",
      "204       0.0  0.0    0    0     10\n",
      "205       0.0  0.0    0    0     10\n",
      "206       0.0  0.0    0    0      9\n",
      "207       0.0  0.0    0    0     10\n",
      "\n",
      "[208 rows x 5 columns]\n",
      "\n",
      "Статистика для признака 'workclass_Private':\n",
      "             mean       std  min  max  count\n",
      "Cluster                                     \n",
      "0        0.000000  0.000000    0    0     20\n",
      "1        0.916297  0.277030    0    1   1577\n",
      "2        0.000000  0.000000    0    0     76\n",
      "3        0.823340  0.381504    0    1   1551\n",
      "4        1.000000  0.000000    1    1    241\n",
      "...           ...       ...  ...  ...    ...\n",
      "203      0.900000  0.316228    0    1     10\n",
      "204      1.000000  0.000000    1    1     10\n",
      "205      0.000000  0.000000    0    0     10\n",
      "206      1.000000  0.000000    1    1      9\n",
      "207      1.000000  0.000000    1    1     10\n",
      "\n",
      "[208 rows x 5 columns]\n",
      "\n",
      "Статистика для признака 'workclass_Self-emp-inc':\n",
      "         mean  std  min  max  count\n",
      "Cluster                            \n",
      "0         0.0  0.0    0    0     20\n",
      "1         0.0  0.0    0    0   1577\n",
      "2         0.0  0.0    0    0     76\n",
      "3         0.0  0.0    0    0   1551\n",
      "4         0.0  0.0    0    0    241\n",
      "...       ...  ...  ...  ...    ...\n",
      "203       0.0  0.0    0    0     10\n",
      "204       0.0  0.0    0    0     10\n",
      "205       0.0  0.0    0    0     10\n",
      "206       0.0  0.0    0    0      9\n",
      "207       0.0  0.0    0    0     10\n",
      "\n",
      "[208 rows x 5 columns]\n",
      "\n",
      "Статистика для признака 'workclass_Self-emp-not-inc':\n",
      "             mean       std  min  max  count\n",
      "Cluster                                     \n",
      "0        1.000000  0.000000    1    1     20\n",
      "1        0.000000  0.000000    0    0   1577\n",
      "2        1.000000  0.000000    1    1     76\n",
      "3        0.035461  0.185002    0    1   1551\n",
      "4        0.000000  0.000000    0    0    241\n",
      "...           ...       ...  ...  ...    ...\n",
      "203      0.000000  0.000000    0    0     10\n",
      "204      0.000000  0.000000    0    0     10\n",
      "205      0.000000  0.000000    0    0     10\n",
      "206      0.000000  0.000000    0    0      9\n",
      "207      0.000000  0.000000    0    0     10\n",
      "\n",
      "[208 rows x 5 columns]\n",
      "\n",
      "Статистика для признака 'workclass_State-gov':\n",
      "             mean       std  min  max  count\n",
      "Cluster                                     \n",
      "0        0.000000  0.000000    0    0     20\n",
      "1        0.000000  0.000000    0    0   1577\n",
      "2        0.000000  0.000000    0    0     76\n",
      "3        0.016763  0.128425    0    1   1551\n",
      "4        0.000000  0.000000    0    0    241\n",
      "...           ...       ...  ...  ...    ...\n",
      "203      0.000000  0.000000    0    0     10\n",
      "204      0.000000  0.000000    0    0     10\n",
      "205      1.000000  0.000000    1    1     10\n",
      "206      0.000000  0.000000    0    0      9\n",
      "207      0.000000  0.000000    0    0     10\n",
      "\n",
      "[208 rows x 5 columns]\n",
      "\n",
      "Статистика для признака 'workclass_Without-pay':\n",
      "         mean  std  min  max  count\n",
      "Cluster                            \n",
      "0         0.0  0.0    0    0     20\n",
      "1         0.0  0.0    0    0   1577\n",
      "2         0.0  0.0    0    0     76\n",
      "3         0.0  0.0    0    0   1551\n",
      "4         0.0  0.0    0    0    241\n",
      "...       ...  ...  ...  ...    ...\n",
      "203       0.0  0.0    0    0     10\n",
      "204       0.0  0.0    0    0     10\n",
      "205       0.0  0.0    0    0     10\n",
      "206       0.0  0.0    0    0      9\n",
      "207       0.0  0.0    0    0     10\n",
      "\n",
      "[208 rows x 5 columns]\n",
      "\n",
      "Статистика для признака 'education_11th':\n",
      "         mean  std  min  max  count\n",
      "Cluster                            \n",
      "0         0.0  0.0    0    0     20\n",
      "1         0.0  0.0    0    0   1577\n",
      "2         0.0  0.0    0    0     76\n",
      "3         0.0  0.0    0    0   1551\n",
      "4         0.0  0.0    0    0    241\n",
      "...       ...  ...  ...  ...    ...\n",
      "203       0.0  0.0    0    0     10\n",
      "204       0.0  0.0    0    0     10\n",
      "205       0.0  0.0    0    0     10\n",
      "206       0.0  0.0    0    0      9\n",
      "207       0.0  0.0    0    0     10\n",
      "\n",
      "[208 rows x 5 columns]\n",
      "\n",
      "Статистика для признака 'education_12th':\n",
      "         mean  std  min  max  count\n",
      "Cluster                            \n",
      "0         0.0  0.0    0    0     20\n",
      "1         0.0  0.0    0    0   1577\n",
      "2         0.0  0.0    0    0     76\n",
      "3         0.0  0.0    0    0   1551\n",
      "4         0.0  0.0    0    0    241\n",
      "...       ...  ...  ...  ...    ...\n",
      "203       0.0  0.0    0    0     10\n",
      "204       0.0  0.0    0    0     10\n",
      "205       0.0  0.0    0    0     10\n",
      "206       0.0  0.0    0    0      9\n",
      "207       0.0  0.0    0    0     10\n",
      "\n",
      "[208 rows x 5 columns]\n",
      "\n",
      "Статистика для признака 'education_1st-4th':\n",
      "         mean  std  min  max  count\n",
      "Cluster                            \n",
      "0         0.0  0.0    0    0     20\n",
      "1         0.0  0.0    0    0   1577\n",
      "2         0.0  0.0    0    0     76\n",
      "3         0.0  0.0    0    0   1551\n",
      "4         0.0  0.0    0    0    241\n",
      "...       ...  ...  ...  ...    ...\n",
      "203       0.0  0.0    0    0     10\n",
      "204       0.0  0.0    0    0     10\n",
      "205       0.0  0.0    0    0     10\n",
      "206       0.0  0.0    0    0      9\n",
      "207       0.0  0.0    0    0     10\n",
      "\n",
      "[208 rows x 5 columns]\n",
      "\n",
      "Статистика для признака 'education_5th-6th':\n",
      "         mean  std  min  max  count\n",
      "Cluster                            \n",
      "0         0.0  0.0    0    0     20\n",
      "1         0.0  0.0    0    0   1577\n",
      "2         0.0  0.0    0    0     76\n",
      "3         0.0  0.0    0    0   1551\n",
      "4         0.0  0.0    0    0    241\n",
      "...       ...  ...  ...  ...    ...\n",
      "203       0.0  0.0    0    0     10\n",
      "204       1.0  0.0    1    1     10\n",
      "205       0.0  0.0    0    0     10\n",
      "206       0.0  0.0    0    0      9\n",
      "207       0.0  0.0    0    0     10\n",
      "\n",
      "[208 rows x 5 columns]\n",
      "\n",
      "Статистика для признака 'education_7th-8th':\n",
      "         mean  std  min  max  count\n",
      "Cluster                            \n",
      "0         0.0  0.0    0    0     20\n",
      "1         0.0  0.0    0    0   1577\n",
      "2         0.0  0.0    0    0     76\n",
      "3         0.0  0.0    0    0   1551\n",
      "4         0.0  0.0    0    0    241\n",
      "...       ...  ...  ...  ...    ...\n",
      "203       0.0  0.0    0    0     10\n",
      "204       0.0  0.0    0    0     10\n",
      "205       0.0  0.0    0    0     10\n",
      "206       0.0  0.0    0    0      9\n",
      "207       0.0  0.0    0    0     10\n",
      "\n",
      "[208 rows x 5 columns]\n",
      "\n",
      "Статистика для признака 'education_9th':\n",
      "         mean  std  min  max  count\n",
      "Cluster                            \n",
      "0         0.0  0.0    0    0     20\n",
      "1         0.0  0.0    0    0   1577\n",
      "2         0.0  0.0    0    0     76\n",
      "3         0.0  0.0    0    0   1551\n",
      "4         0.0  0.0    0    0    241\n",
      "...       ...  ...  ...  ...    ...\n",
      "203       0.0  0.0    0    0     10\n",
      "204       0.0  0.0    0    0     10\n",
      "205       0.0  0.0    0    0     10\n",
      "206       0.0  0.0    0    0      9\n",
      "207       0.0  0.0    0    0     10\n",
      "\n",
      "[208 rows x 5 columns]\n",
      "\n",
      "Статистика для признака 'education_Assoc-acdm':\n",
      "         mean  std  min  max  count\n",
      "Cluster                            \n",
      "0         0.0  0.0    0    0     20\n",
      "1         0.0  0.0    0    0   1577\n",
      "2         0.0  0.0    0    0     76\n",
      "3         0.0  0.0    0    0   1551\n",
      "4         0.0  0.0    0    0    241\n",
      "...       ...  ...  ...  ...    ...\n",
      "203       0.0  0.0    0    0     10\n",
      "204       0.0  0.0    0    0     10\n",
      "205       0.0  0.0    0    0     10\n",
      "206       0.0  0.0    0    0      9\n",
      "207       0.0  0.0    0    0     10\n",
      "\n",
      "[208 rows x 5 columns]\n",
      "\n",
      "Статистика для признака 'education_Assoc-voc':\n",
      "         mean  std  min  max  count\n",
      "Cluster                            \n",
      "0         0.0  0.0    0    0     20\n",
      "1         0.0  0.0    0    0   1577\n",
      "2         0.0  0.0    0    0     76\n",
      "3         0.0  0.0    0    0   1551\n",
      "4         0.0  0.0    0    0    241\n",
      "...       ...  ...  ...  ...    ...\n",
      "203       0.0  0.0    0    0     10\n",
      "204       0.0  0.0    0    0     10\n",
      "205       0.0  0.0    0    0     10\n",
      "206       0.0  0.0    0    0      9\n",
      "207       0.0  0.0    0    0     10\n",
      "\n",
      "[208 rows x 5 columns]\n",
      "\n",
      "Статистика для признака 'education_Bachelors':\n",
      "         mean  std  min  max  count\n",
      "Cluster                            \n",
      "0         1.0  0.0    1    1     20\n",
      "1         0.0  0.0    0    0   1577\n",
      "2         0.0  0.0    0    0     76\n",
      "3         1.0  0.0    1    1   1551\n",
      "4         1.0  0.0    1    1    241\n",
      "...       ...  ...  ...  ...    ...\n",
      "203       0.0  0.0    0    0     10\n",
      "204       0.0  0.0    0    0     10\n",
      "205       0.0  0.0    0    0     10\n",
      "206       0.0  0.0    0    0      9\n",
      "207       0.0  0.0    0    0     10\n",
      "\n",
      "[208 rows x 5 columns]\n",
      "\n",
      "Статистика для признака 'education_Doctorate':\n",
      "         mean  std  min  max  count\n",
      "Cluster                            \n",
      "0         0.0  0.0    0    0     20\n",
      "1         0.0  0.0    0    0   1577\n",
      "2         0.0  0.0    0    0     76\n",
      "3         0.0  0.0    0    0   1551\n",
      "4         0.0  0.0    0    0    241\n",
      "...       ...  ...  ...  ...    ...\n",
      "203       0.0  0.0    0    0     10\n",
      "204       0.0  0.0    0    0     10\n",
      "205       0.0  0.0    0    0     10\n",
      "206       0.0  0.0    0    0      9\n",
      "207       0.0  0.0    0    0     10\n",
      "\n",
      "[208 rows x 5 columns]\n",
      "\n",
      "Статистика для признака 'education_HS-grad':\n",
      "         mean  std  min  max  count\n",
      "Cluster                            \n",
      "0         0.0  0.0    0    0     20\n",
      "1         1.0  0.0    1    1   1577\n",
      "2         1.0  0.0    1    1     76\n",
      "3         0.0  0.0    0    0   1551\n",
      "4         0.0  0.0    0    0    241\n",
      "...       ...  ...  ...  ...    ...\n",
      "203       0.0  0.0    0    0     10\n",
      "204       0.0  0.0    0    0     10\n",
      "205       0.0  0.0    0    0     10\n",
      "206       1.0  0.0    1    1      9\n",
      "207       0.0  0.0    0    0     10\n",
      "\n",
      "[208 rows x 5 columns]\n",
      "\n",
      "Статистика для признака 'education_Masters':\n",
      "         mean  std  min  max  count\n",
      "Cluster                            \n",
      "0         0.0  0.0    0    0     20\n",
      "1         0.0  0.0    0    0   1577\n",
      "2         0.0  0.0    0    0     76\n",
      "3         0.0  0.0    0    0   1551\n",
      "4         0.0  0.0    0    0    241\n",
      "...       ...  ...  ...  ...    ...\n",
      "203       0.0  0.0    0    0     10\n",
      "204       0.0  0.0    0    0     10\n",
      "205       0.0  0.0    0    0     10\n",
      "206       0.0  0.0    0    0      9\n",
      "207       0.0  0.0    0    0     10\n",
      "\n",
      "[208 rows x 5 columns]\n",
      "\n",
      "Статистика для признака 'education_Preschool':\n",
      "         mean  std  min  max  count\n",
      "Cluster                            \n",
      "0         0.0  0.0    0    0     20\n",
      "1         0.0  0.0    0    0   1577\n",
      "2         0.0  0.0    0    0     76\n",
      "3         0.0  0.0    0    0   1551\n",
      "4         0.0  0.0    0    0    241\n",
      "...       ...  ...  ...  ...    ...\n",
      "203       0.0  0.0    0    0     10\n",
      "204       0.0  0.0    0    0     10\n",
      "205       0.0  0.0    0    0     10\n",
      "206       0.0  0.0    0    0      9\n",
      "207       0.0  0.0    0    0     10\n",
      "\n",
      "[208 rows x 5 columns]\n",
      "\n",
      "Статистика для признака 'education_Prof-school':\n",
      "         mean  std  min  max  count\n",
      "Cluster                            \n",
      "0         0.0  0.0    0    0     20\n",
      "1         0.0  0.0    0    0   1577\n",
      "2         0.0  0.0    0    0     76\n",
      "3         0.0  0.0    0    0   1551\n",
      "4         0.0  0.0    0    0    241\n",
      "...       ...  ...  ...  ...    ...\n",
      "203       0.0  0.0    0    0     10\n",
      "204       0.0  0.0    0    0     10\n",
      "205       0.0  0.0    0    0     10\n",
      "206       0.0  0.0    0    0      9\n",
      "207       0.0  0.0    0    0     10\n",
      "\n",
      "[208 rows x 5 columns]\n",
      "\n",
      "Статистика для признака 'education_Some-college':\n",
      "         mean  std  min  max  count\n",
      "Cluster                            \n",
      "0         0.0  0.0    0    0     20\n",
      "1         0.0  0.0    0    0   1577\n",
      "2         0.0  0.0    0    0     76\n",
      "3         0.0  0.0    0    0   1551\n",
      "4         0.0  0.0    0    0    241\n",
      "...       ...  ...  ...  ...    ...\n",
      "203       1.0  0.0    1    1     10\n",
      "204       0.0  0.0    0    0     10\n",
      "205       1.0  0.0    1    1     10\n",
      "206       0.0  0.0    0    0      9\n",
      "207       1.0  0.0    1    1     10\n",
      "\n",
      "[208 rows x 5 columns]\n",
      "\n",
      "Статистика для признака 'marital-status_Married-AF-spouse':\n",
      "         mean  std  min  max  count\n",
      "Cluster                            \n",
      "0         0.0  0.0    0    0     20\n",
      "1         0.0  0.0    0    0   1577\n",
      "2         0.0  0.0    0    0     76\n",
      "3         0.0  0.0    0    0   1551\n",
      "4         0.0  0.0    0    0    241\n",
      "...       ...  ...  ...  ...    ...\n",
      "203       0.0  0.0    0    0     10\n",
      "204       0.0  0.0    0    0     10\n",
      "205       0.0  0.0    0    0     10\n",
      "206       0.0  0.0    0    0      9\n",
      "207       0.0  0.0    0    0     10\n",
      "\n",
      "[208 rows x 5 columns]\n",
      "\n",
      "Статистика для признака 'marital-status_Married-civ-spouse':\n",
      "         mean  std  min  max  count\n",
      "Cluster                            \n",
      "0         1.0  0.0    1    1     20\n",
      "1         0.0  0.0    0    0   1577\n",
      "2         1.0  0.0    1    1     76\n",
      "3         1.0  0.0    1    1   1551\n",
      "4         0.0  0.0    0    0    241\n",
      "...       ...  ...  ...  ...    ...\n",
      "203       1.0  0.0    1    1     10\n",
      "204       1.0  0.0    1    1     10\n",
      "205       0.0  0.0    0    0     10\n",
      "206       0.0  0.0    0    0      9\n",
      "207       0.0  0.0    0    0     10\n",
      "\n",
      "[208 rows x 5 columns]\n",
      "\n",
      "Статистика для признака 'marital-status_Married-spouse-absent':\n",
      "             mean       std  min  max  count\n",
      "Cluster                                     \n",
      "0        0.000000  0.000000    0    0     20\n",
      "1        0.001268  0.035601    0    1   1577\n",
      "2        0.000000  0.000000    0    0     76\n",
      "3        0.000000  0.000000    0    0   1551\n",
      "4        0.000000  0.000000    0    0    241\n",
      "...           ...       ...  ...  ...    ...\n",
      "203      0.000000  0.000000    0    0     10\n",
      "204      0.000000  0.000000    0    0     10\n",
      "205      0.000000  0.000000    0    0     10\n",
      "206      0.000000  0.000000    0    0      9\n",
      "207      0.000000  0.000000    0    0     10\n",
      "\n",
      "[208 rows x 5 columns]\n",
      "\n",
      "Статистика для признака 'marital-status_Never-married':\n",
      "             mean       std  min  max  count\n",
      "Cluster                                     \n",
      "0        0.000000  0.000000    0    0     20\n",
      "1        0.547242  0.497921    0    1   1577\n",
      "2        0.000000  0.000000    0    0     76\n",
      "3        0.000000  0.000000    0    0   1551\n",
      "4        1.000000  0.000000    1    1    241\n",
      "...           ...       ...  ...  ...    ...\n",
      "203      0.000000  0.000000    0    0     10\n",
      "204      0.000000  0.000000    0    0     10\n",
      "205      1.000000  0.000000    1    1     10\n",
      "206      1.000000  0.000000    1    1      9\n",
      "207      1.000000  0.000000    1    1     10\n",
      "\n",
      "[208 rows x 5 columns]\n",
      "\n",
      "Статистика для признака 'marital-status_Separated':\n",
      "             mean       std  min  max  count\n",
      "Cluster                                     \n",
      "0        0.000000  0.000000    0    0     20\n",
      "1        0.022828  0.149403    0    1   1577\n",
      "2        0.000000  0.000000    0    0     76\n",
      "3        0.000000  0.000000    0    0   1551\n",
      "4        0.000000  0.000000    0    0    241\n",
      "...           ...       ...  ...  ...    ...\n",
      "203      0.000000  0.000000    0    0     10\n",
      "204      0.000000  0.000000    0    0     10\n",
      "205      0.000000  0.000000    0    0     10\n",
      "206      0.000000  0.000000    0    0      9\n",
      "207      0.000000  0.000000    0    0     10\n",
      "\n",
      "[208 rows x 5 columns]\n",
      "\n",
      "Статистика для признака 'marital-status_Widowed':\n",
      "             mean       std  min  max  count\n",
      "Cluster                                     \n",
      "0        0.000000  0.000000    0    0     20\n",
      "1        0.061509  0.240338    0    1   1577\n",
      "2        0.000000  0.000000    0    0     76\n",
      "3        0.000000  0.000000    0    0   1551\n",
      "4        0.000000  0.000000    0    0    241\n",
      "...           ...       ...  ...  ...    ...\n",
      "203      0.000000  0.000000    0    0     10\n",
      "204      0.000000  0.000000    0    0     10\n",
      "205      0.000000  0.000000    0    0     10\n",
      "206      0.000000  0.000000    0    0      9\n",
      "207      0.000000  0.000000    0    0     10\n",
      "\n",
      "[208 rows x 5 columns]\n",
      "\n",
      "Статистика для признака 'occupation_Armed-Forces':\n",
      "         mean  std  min  max  count\n",
      "Cluster                            \n",
      "0         0.0  0.0    0    0     20\n",
      "1         0.0  0.0    0    0   1577\n",
      "2         0.0  0.0    0    0     76\n",
      "3         0.0  0.0    0    0   1551\n",
      "4         0.0  0.0    0    0    241\n",
      "...       ...  ...  ...  ...    ...\n",
      "203       0.0  0.0    0    0     10\n",
      "204       0.0  0.0    0    0     10\n",
      "205       0.0  0.0    0    0     10\n",
      "206       0.0  0.0    0    0      9\n",
      "207       0.0  0.0    0    0     10\n",
      "\n",
      "[208 rows x 5 columns]\n",
      "\n",
      "Статистика для признака 'occupation_Craft-repair':\n",
      "             mean       std  min  max  count\n",
      "Cluster                                     \n",
      "0        0.000000  0.000000    0    0     20\n",
      "1        0.152822  0.359930    0    1   1577\n",
      "2        0.000000  0.000000    0    0     76\n",
      "3        0.051580  0.221248    0    1   1551\n",
      "4        0.000000  0.000000    0    0    241\n",
      "...           ...       ...  ...  ...    ...\n",
      "203      0.000000  0.000000    0    0     10\n",
      "204      0.000000  0.000000    0    0     10\n",
      "205      0.000000  0.000000    0    0     10\n",
      "206      0.000000  0.000000    0    0      9\n",
      "207      0.000000  0.000000    0    0     10\n",
      "\n",
      "[208 rows x 5 columns]\n",
      "\n",
      "Статистика для признака 'occupation_Exec-managerial':\n",
      "             mean       std  min  max  count\n",
      "Cluster                                     \n",
      "0        1.000000  0.000000    1    1     20\n",
      "1        0.060875  0.239177    0    1   1577\n",
      "2        1.000000  0.000000    1    1     76\n",
      "3        0.346228  0.475920    0    1   1551\n",
      "4        0.232365  0.423220    0    1    241\n",
      "...           ...       ...  ...  ...    ...\n",
      "203      0.000000  0.000000    0    0     10\n",
      "204      0.000000  0.000000    0    0     10\n",
      "205      0.000000  0.000000    0    0     10\n",
      "206      0.000000  0.000000    0    0      9\n",
      "207      0.000000  0.000000    0    0     10\n",
      "\n",
      "[208 rows x 5 columns]\n",
      "\n",
      "Статистика для признака 'occupation_Farming-fishing':\n",
      "             mean       std  min  max  count\n",
      "Cluster                                     \n",
      "0        0.000000  0.000000    0    0     20\n",
      "1        0.019658  0.138865    0    1   1577\n",
      "2        0.000000  0.000000    0    0     76\n",
      "3        0.001289  0.035898    0    1   1551\n",
      "4        0.004149  0.064416    0    1    241\n",
      "...           ...       ...  ...  ...    ...\n",
      "203      0.000000  0.000000    0    0     10\n",
      "204      0.900000  0.316228    0    1     10\n",
      "205      0.000000  0.000000    0    0     10\n",
      "206      0.000000  0.000000    0    0      9\n",
      "207      0.000000  0.000000    0    0     10\n",
      "\n",
      "[208 rows x 5 columns]\n",
      "\n",
      "Статистика для признака 'occupation_Handlers-cleaners':\n",
      "             mean       std  min  max  count\n",
      "Cluster                                     \n",
      "0        0.000000  0.000000    0    0     20\n",
      "1        0.060241  0.238008    0    1   1577\n",
      "2        0.000000  0.000000    0    0     76\n",
      "3        0.001289  0.035898    0    1   1551\n",
      "4        0.004149  0.064416    0    1    241\n",
      "...           ...       ...  ...  ...    ...\n",
      "203      0.000000  0.000000    0    0     10\n",
      "204      0.000000  0.000000    0    0     10\n",
      "205      0.000000  0.000000    0    0     10\n",
      "206      0.000000  0.000000    0    0      9\n",
      "207      0.000000  0.000000    0    0     10\n",
      "\n",
      "[208 rows x 5 columns]\n",
      "\n",
      "Статистика для признака 'occupation_Machine-op-inspct':\n",
      "             mean       std  min  max  count\n",
      "Cluster                                     \n",
      "0        0.000000  0.000000    0    0     20\n",
      "1        0.099556  0.299502    0    1   1577\n",
      "2        0.000000  0.000000    0    0     76\n",
      "3        0.000000  0.000000    0    0   1551\n",
      "4        0.000000  0.000000    0    0    241\n",
      "...           ...       ...  ...  ...    ...\n",
      "203      0.000000  0.000000    0    0     10\n",
      "204      0.000000  0.000000    0    0     10\n",
      "205      0.000000  0.000000    0    0     10\n",
      "206      0.000000  0.000000    0    0      9\n",
      "207      0.000000  0.000000    0    0     10\n",
      "\n",
      "[208 rows x 5 columns]\n",
      "\n",
      "Статистика для признака 'occupation_Other-service':\n",
      "             mean       std  min  max  count\n",
      "Cluster                                     \n",
      "0        0.000000  0.000000    0    0     20\n",
      "1        0.138237  0.345258    0    1   1577\n",
      "2        0.000000  0.000000    0    0     76\n",
      "3        0.007737  0.087647    0    1   1551\n",
      "4        0.037344  0.189999    0    1    241\n",
      "...           ...       ...  ...  ...    ...\n",
      "203      0.000000  0.000000    0    0     10\n",
      "204      0.000000  0.000000    0    0     10\n",
      "205      1.000000  0.000000    1    1     10\n",
      "206      0.000000  0.000000    0    0      9\n",
      "207      0.900000  0.316228    0    1     10\n",
      "\n",
      "[208 rows x 5 columns]\n",
      "\n",
      "Статистика для признака 'occupation_Priv-house-serv':\n",
      "             mean       std  min  max  count\n",
      "Cluster                                     \n",
      "0        0.000000  0.000000    0    0     20\n",
      "1        0.001268  0.035601    0    1   1577\n",
      "2        0.000000  0.000000    0    0     76\n",
      "3        0.000000  0.000000    0    0   1551\n",
      "4        0.000000  0.000000    0    0    241\n",
      "...           ...       ...  ...  ...    ...\n",
      "203      0.000000  0.000000    0    0     10\n",
      "204      0.000000  0.000000    0    0     10\n",
      "205      0.000000  0.000000    0    0     10\n",
      "206      0.000000  0.000000    0    0      9\n",
      "207      0.000000  0.000000    0    0     10\n",
      "\n",
      "[208 rows x 5 columns]\n",
      "\n",
      "Статистика для признака 'occupation_Prof-specialty':\n",
      "             mean       std  min  max  count\n",
      "Cluster                                     \n",
      "0        0.000000  0.000000    0    0     20\n",
      "1        0.021560  0.145288    0    1   1577\n",
      "2        0.000000  0.000000    0    0     76\n",
      "3        0.278530  0.448420    0    1   1551\n",
      "4        0.240664  0.428376    0    1    241\n",
      "...           ...       ...  ...  ...    ...\n",
      "203      1.000000  0.000000    1    1     10\n",
      "204      0.000000  0.000000    0    0     10\n",
      "205      0.000000  0.000000    0    0     10\n",
      "206      0.000000  0.000000    0    0      9\n",
      "207      0.000000  0.000000    0    0     10\n",
      "\n",
      "[208 rows x 5 columns]\n",
      "\n",
      "Статистика для признака 'occupation_Protective-serv':\n",
      "             mean       std  min  max  count\n",
      "Cluster                                     \n",
      "0        0.000000  0.000000    0    0     20\n",
      "1        0.000634  0.025182    0    1   1577\n",
      "2        0.000000  0.000000    0    0     76\n",
      "3        0.000645  0.025392    0    1   1551\n",
      "4        0.000000  0.000000    0    0    241\n",
      "...           ...       ...  ...  ...    ...\n",
      "203      0.000000  0.000000    0    0     10\n",
      "204      0.000000  0.000000    0    0     10\n",
      "205      0.000000  0.000000    0    0     10\n",
      "206      0.000000  0.000000    0    0      9\n",
      "207      0.000000  0.000000    0    0     10\n",
      "\n",
      "[208 rows x 5 columns]\n",
      "\n",
      "Статистика для признака 'occupation_Sales':\n",
      "             mean       std  min  max  count\n",
      "Cluster                                     \n",
      "0        0.000000  0.000000    0    0     20\n",
      "1        0.114775  0.318851    0    1   1577\n",
      "2        0.000000  0.000000    0    0     76\n",
      "3        0.176660  0.381504    0    1   1551\n",
      "4        0.190871  0.393806    0    1    241\n",
      "...           ...       ...  ...  ...    ...\n",
      "203      0.000000  0.000000    0    0     10\n",
      "204      0.000000  0.000000    0    0     10\n",
      "205      0.000000  0.000000    0    0     10\n",
      "206      1.000000  0.000000    1    1      9\n",
      "207      0.000000  0.000000    0    0     10\n",
      "\n",
      "[208 rows x 5 columns]\n",
      "\n",
      "Статистика для признака 'occupation_Tech-support':\n",
      "             mean       std  min  max  count\n",
      "Cluster                                     \n",
      "0        0.000000  0.000000    0    0     20\n",
      "1        0.010780  0.103298    0    1   1577\n",
      "2        0.000000  0.000000    0    0     76\n",
      "3        0.041264  0.198964    0    1   1551\n",
      "4        0.029046  0.168284    0    1    241\n",
      "...           ...       ...  ...  ...    ...\n",
      "203      0.000000  0.000000    0    0     10\n",
      "204      0.000000  0.000000    0    0     10\n",
      "205      0.000000  0.000000    0    0     10\n",
      "206      0.000000  0.000000    0    0      9\n",
      "207      0.000000  0.000000    0    0     10\n",
      "\n",
      "[208 rows x 5 columns]\n",
      "\n",
      "Статистика для признака 'occupation_Transport-moving':\n",
      "             mean       std  min  max  count\n",
      "Cluster                                     \n",
      "0        0.000000  0.000000    0    0     20\n",
      "1        0.064046  0.244912    0    1   1577\n",
      "2        0.000000  0.000000    0    0     76\n",
      "3        0.009026  0.094608    0    1   1551\n",
      "4        0.000000  0.000000    0    0    241\n",
      "...           ...       ...  ...  ...    ...\n",
      "203      0.000000  0.000000    0    0     10\n",
      "204      0.000000  0.000000    0    0     10\n",
      "205      0.000000  0.000000    0    0     10\n",
      "206      0.000000  0.000000    0    0      9\n",
      "207      0.000000  0.000000    0    0     10\n",
      "\n",
      "[208 rows x 5 columns]\n",
      "\n",
      "Статистика для признака 'relationship_Not-in-family':\n",
      "         mean  std  min  max  count\n",
      "Cluster                            \n",
      "0         0.0  0.0    0    0     20\n",
      "1         1.0  0.0    1    1   1577\n",
      "2         0.0  0.0    0    0     76\n",
      "3         0.0  0.0    0    0   1551\n",
      "4         0.0  0.0    0    0    241\n",
      "...       ...  ...  ...  ...    ...\n",
      "203       0.0  0.0    0    0     10\n",
      "204       0.0  0.0    0    0     10\n",
      "205       0.0  0.0    0    0     10\n",
      "206       0.0  0.0    0    0      9\n",
      "207       0.0  0.0    0    0     10\n",
      "\n",
      "[208 rows x 5 columns]\n",
      "\n",
      "Статистика для признака 'relationship_Other-relative':\n",
      "             mean       std  min  max  count\n",
      "Cluster                                     \n",
      "0        0.000000  0.000000    0    0     20\n",
      "1        0.000000  0.000000    0    0   1577\n",
      "2        0.000000  0.000000    0    0     76\n",
      "3        0.001289  0.035898    0    1   1551\n",
      "4        0.000000  0.000000    0    0    241\n",
      "...           ...       ...  ...  ...    ...\n",
      "203      0.000000  0.000000    0    0     10\n",
      "204      0.000000  0.000000    0    0     10\n",
      "205      0.000000  0.000000    0    0     10\n",
      "206      1.000000  0.000000    1    1      9\n",
      "207      1.000000  0.000000    1    1     10\n",
      "\n",
      "[208 rows x 5 columns]\n",
      "\n",
      "Статистика для признака 'relationship_Own-child':\n",
      "         mean  std  min  max  count\n",
      "Cluster                            \n",
      "0         0.0  0.0    0    0     20\n",
      "1         0.0  0.0    0    0   1577\n",
      "2         0.0  0.0    0    0     76\n",
      "3         0.0  0.0    0    0   1551\n",
      "4         1.0  0.0    1    1    241\n",
      "...       ...  ...  ...  ...    ...\n",
      "203       0.0  0.0    0    0     10\n",
      "204       0.0  0.0    0    0     10\n",
      "205       1.0  0.0    1    1     10\n",
      "206       0.0  0.0    0    0      9\n",
      "207       0.0  0.0    0    0     10\n",
      "\n",
      "[208 rows x 5 columns]\n",
      "\n",
      "Статистика для признака 'relationship_Unmarried':\n",
      "         mean  std  min  max  count\n",
      "Cluster                            \n",
      "0         0.0  0.0    0    0     20\n",
      "1         0.0  0.0    0    0   1577\n",
      "2         0.0  0.0    0    0     76\n",
      "3         0.0  0.0    0    0   1551\n",
      "4         0.0  0.0    0    0    241\n",
      "...       ...  ...  ...  ...    ...\n",
      "203       0.0  0.0    0    0     10\n",
      "204       0.0  0.0    0    0     10\n",
      "205       0.0  0.0    0    0     10\n",
      "206       0.0  0.0    0    0      9\n",
      "207       0.0  0.0    0    0     10\n",
      "\n",
      "[208 rows x 5 columns]\n",
      "\n",
      "Статистика для признака 'relationship_Wife':\n",
      "         mean  std  min  max  count\n",
      "Cluster                            \n",
      "0         0.0  0.0    0    0     20\n",
      "1         0.0  0.0    0    0   1577\n",
      "2         0.0  0.0    0    0     76\n",
      "3         0.0  0.0    0    0   1551\n",
      "4         0.0  0.0    0    0    241\n",
      "...       ...  ...  ...  ...    ...\n",
      "203       1.0  0.0    1    1     10\n",
      "204       0.0  0.0    0    0     10\n",
      "205       0.0  0.0    0    0     10\n",
      "206       0.0  0.0    0    0      9\n",
      "207       0.0  0.0    0    0     10\n",
      "\n",
      "[208 rows x 5 columns]\n",
      "\n",
      "Статистика для признака 'race_Asian-Pac-Islander':\n",
      "         mean  std  min  max  count\n",
      "Cluster                            \n",
      "0         0.0  0.0    0    0     20\n",
      "1         0.0  0.0    0    0   1577\n",
      "2         0.0  0.0    0    0     76\n",
      "3         0.0  0.0    0    0   1551\n",
      "4         0.0  0.0    0    0    241\n",
      "...       ...  ...  ...  ...    ...\n",
      "203       0.0  0.0    0    0     10\n",
      "204       0.0  0.0    0    0     10\n",
      "205       0.0  0.0    0    0     10\n",
      "206       0.0  0.0    0    0      9\n",
      "207       0.0  0.0    0    0     10\n",
      "\n",
      "[208 rows x 5 columns]\n",
      "\n",
      "Статистика для признака 'race_Black':\n",
      "         mean  std  min  max  count\n",
      "Cluster                            \n",
      "0         0.0  0.0    0    0     20\n",
      "1         0.0  0.0    0    0   1577\n",
      "2         0.0  0.0    0    0     76\n",
      "3         0.0  0.0    0    0   1551\n",
      "4         0.0  0.0    0    0    241\n",
      "...       ...  ...  ...  ...    ...\n",
      "203       0.0  0.0    0    0     10\n",
      "204       0.0  0.0    0    0     10\n",
      "205       0.0  0.0    0    0     10\n",
      "206       0.0  0.0    0    0      9\n",
      "207       0.0  0.0    0    0     10\n",
      "\n",
      "[208 rows x 5 columns]\n",
      "\n",
      "Статистика для признака 'race_Other':\n",
      "         mean  std  min  max  count\n",
      "Cluster                            \n",
      "0         0.0  0.0    0    0     20\n",
      "1         0.0  0.0    0    0   1577\n",
      "2         0.0  0.0    0    0     76\n",
      "3         0.0  0.0    0    0   1551\n",
      "4         0.0  0.0    0    0    241\n",
      "...       ...  ...  ...  ...    ...\n",
      "203       0.0  0.0    0    0     10\n",
      "204       0.0  0.0    0    0     10\n",
      "205       0.0  0.0    0    0     10\n",
      "206       0.0  0.0    0    0      9\n",
      "207       0.0  0.0    0    0     10\n",
      "\n",
      "[208 rows x 5 columns]\n",
      "\n",
      "Статистика для признака 'race_White':\n",
      "             mean       std  min  max  count\n",
      "Cluster                                     \n",
      "0        1.000000  0.000000    1    1     20\n",
      "1        0.995561  0.066497    0    1   1577\n",
      "2        1.000000  0.000000    1    1     76\n",
      "3        1.000000  0.000000    1    1   1551\n",
      "4        1.000000  0.000000    1    1    241\n",
      "...           ...       ...  ...  ...    ...\n",
      "203      1.000000  0.000000    1    1     10\n",
      "204      1.000000  0.000000    1    1     10\n",
      "205      1.000000  0.000000    1    1     10\n",
      "206      1.000000  0.000000    1    1      9\n",
      "207      1.000000  0.000000    1    1     10\n",
      "\n",
      "[208 rows x 5 columns]\n",
      "\n",
      "Статистика для признака 'sex_Male':\n",
      "             mean       std  min  max  count\n",
      "Cluster                                     \n",
      "0        1.000000  0.000000    1    1     20\n",
      "1        0.523145  0.499622    0    1   1577\n",
      "2        1.000000  0.000000    1    1     76\n",
      "3        1.000000  0.000000    1    1   1551\n",
      "4        0.427386  0.495729    0    1    241\n",
      "...           ...       ...  ...  ...    ...\n",
      "203      0.000000  0.000000    0    0     10\n",
      "204      1.000000  0.000000    1    1     10\n",
      "205      0.100000  0.316228    0    1     10\n",
      "206      1.000000  0.000000    1    1      9\n",
      "207      0.000000  0.000000    0    0     10\n",
      "\n",
      "[208 rows x 5 columns]\n",
      "\n",
      "Статистика для признака 'native-country_Canada':\n",
      "         mean  std  min  max  count\n",
      "Cluster                            \n",
      "0         0.0  0.0    0    0     20\n",
      "1         0.0  0.0    0    0   1577\n",
      "2         0.0  0.0    0    0     76\n",
      "3         0.0  0.0    0    0   1551\n",
      "4         0.0  0.0    0    0    241\n",
      "...       ...  ...  ...  ...    ...\n",
      "203       0.0  0.0    0    0     10\n",
      "204       0.0  0.0    0    0     10\n",
      "205       0.0  0.0    0    0     10\n",
      "206       0.0  0.0    0    0      9\n",
      "207       0.0  0.0    0    0     10\n",
      "\n",
      "[208 rows x 5 columns]\n",
      "\n",
      "Статистика для признака 'native-country_China':\n",
      "         mean  std  min  max  count\n",
      "Cluster                            \n",
      "0         0.0  0.0    0    0     20\n",
      "1         0.0  0.0    0    0   1577\n",
      "2         0.0  0.0    0    0     76\n",
      "3         0.0  0.0    0    0   1551\n",
      "4         0.0  0.0    0    0    241\n",
      "...       ...  ...  ...  ...    ...\n",
      "203       0.0  0.0    0    0     10\n",
      "204       0.0  0.0    0    0     10\n",
      "205       0.0  0.0    0    0     10\n",
      "206       0.0  0.0    0    0      9\n",
      "207       0.0  0.0    0    0     10\n",
      "\n",
      "[208 rows x 5 columns]\n",
      "\n",
      "Статистика для признака 'native-country_Columbia':\n",
      "         mean  std  min  max  count\n",
      "Cluster                            \n",
      "0         0.0  0.0    0    0     20\n",
      "1         0.0  0.0    0    0   1577\n",
      "2         0.0  0.0    0    0     76\n",
      "3         0.0  0.0    0    0   1551\n",
      "4         0.0  0.0    0    0    241\n",
      "...       ...  ...  ...  ...    ...\n",
      "203       0.0  0.0    0    0     10\n",
      "204       0.0  0.0    0    0     10\n",
      "205       0.0  0.0    0    0     10\n",
      "206       0.0  0.0    0    0      9\n",
      "207       0.0  0.0    0    0     10\n",
      "\n",
      "[208 rows x 5 columns]\n",
      "\n",
      "Статистика для признака 'native-country_Cuba':\n",
      "         mean  std  min  max  count\n",
      "Cluster                            \n",
      "0         0.0  0.0    0    0     20\n",
      "1         0.0  0.0    0    0   1577\n",
      "2         0.0  0.0    0    0     76\n",
      "3         0.0  0.0    0    0   1551\n",
      "4         0.0  0.0    0    0    241\n",
      "...       ...  ...  ...  ...    ...\n",
      "203       0.0  0.0    0    0     10\n",
      "204       0.0  0.0    0    0     10\n",
      "205       0.0  0.0    0    0     10\n",
      "206       0.0  0.0    0    0      9\n",
      "207       0.0  0.0    0    0     10\n",
      "\n",
      "[208 rows x 5 columns]\n",
      "\n",
      "Статистика для признака 'native-country_Dominican-Republic':\n",
      "         mean  std  min  max  count\n",
      "Cluster                            \n",
      "0         0.0  0.0    0    0     20\n",
      "1         0.0  0.0    0    0   1577\n",
      "2         0.0  0.0    0    0     76\n",
      "3         0.0  0.0    0    0   1551\n",
      "4         0.0  0.0    0    0    241\n",
      "...       ...  ...  ...  ...    ...\n",
      "203       0.0  0.0    0    0     10\n",
      "204       0.0  0.0    0    0     10\n",
      "205       0.0  0.0    0    0     10\n",
      "206       0.0  0.0    0    0      9\n",
      "207       0.0  0.0    0    0     10\n",
      "\n",
      "[208 rows x 5 columns]\n",
      "\n",
      "Статистика для признака 'native-country_Ecuador':\n",
      "         mean  std  min  max  count\n",
      "Cluster                            \n",
      "0         0.0  0.0    0    0     20\n",
      "1         0.0  0.0    0    0   1577\n",
      "2         0.0  0.0    0    0     76\n",
      "3         0.0  0.0    0    0   1551\n",
      "4         0.0  0.0    0    0    241\n",
      "...       ...  ...  ...  ...    ...\n",
      "203       0.0  0.0    0    0     10\n",
      "204       0.0  0.0    0    0     10\n",
      "205       0.0  0.0    0    0     10\n",
      "206       0.0  0.0    0    0      9\n",
      "207       0.0  0.0    0    0     10\n",
      "\n",
      "[208 rows x 5 columns]\n",
      "\n",
      "Статистика для признака 'native-country_El-Salvador':\n",
      "         mean  std  min  max  count\n",
      "Cluster                            \n",
      "0         0.0  0.0    0    0     20\n",
      "1         0.0  0.0    0    0   1577\n",
      "2         0.0  0.0    0    0     76\n",
      "3         0.0  0.0    0    0   1551\n",
      "4         0.0  0.0    0    0    241\n",
      "...       ...  ...  ...  ...    ...\n",
      "203       0.0  0.0    0    0     10\n",
      "204       0.0  0.0    0    0     10\n",
      "205       0.0  0.0    0    0     10\n",
      "206       0.0  0.0    0    0      9\n",
      "207       0.0  0.0    0    0     10\n",
      "\n",
      "[208 rows x 5 columns]\n",
      "\n",
      "Статистика для признака 'native-country_England':\n",
      "         mean  std  min  max  count\n",
      "Cluster                            \n",
      "0         0.0  0.0    0    0     20\n",
      "1         0.0  0.0    0    0   1577\n",
      "2         0.0  0.0    0    0     76\n",
      "3         0.0  0.0    0    0   1551\n",
      "4         0.0  0.0    0    0    241\n",
      "...       ...  ...  ...  ...    ...\n",
      "203       0.0  0.0    0    0     10\n",
      "204       0.0  0.0    0    0     10\n",
      "205       0.0  0.0    0    0     10\n",
      "206       0.0  0.0    0    0      9\n",
      "207       0.0  0.0    0    0     10\n",
      "\n",
      "[208 rows x 5 columns]\n",
      "\n",
      "Статистика для признака 'native-country_France':\n",
      "         mean  std  min  max  count\n",
      "Cluster                            \n",
      "0         0.0  0.0    0    0     20\n",
      "1         0.0  0.0    0    0   1577\n",
      "2         0.0  0.0    0    0     76\n",
      "3         0.0  0.0    0    0   1551\n",
      "4         0.0  0.0    0    0    241\n",
      "...       ...  ...  ...  ...    ...\n",
      "203       0.0  0.0    0    0     10\n",
      "204       0.0  0.0    0    0     10\n",
      "205       0.0  0.0    0    0     10\n",
      "206       0.0  0.0    0    0      9\n",
      "207       0.0  0.0    0    0     10\n",
      "\n",
      "[208 rows x 5 columns]\n",
      "\n",
      "Статистика для признака 'native-country_Germany':\n",
      "         mean  std  min  max  count\n",
      "Cluster                            \n",
      "0         0.0  0.0    0    0     20\n",
      "1         0.0  0.0    0    0   1577\n",
      "2         0.0  0.0    0    0     76\n",
      "3         0.0  0.0    0    0   1551\n",
      "4         0.0  0.0    0    0    241\n",
      "...       ...  ...  ...  ...    ...\n",
      "203       0.0  0.0    0    0     10\n",
      "204       0.0  0.0    0    0     10\n",
      "205       0.0  0.0    0    0     10\n",
      "206       0.0  0.0    0    0      9\n",
      "207       0.0  0.0    0    0     10\n",
      "\n",
      "[208 rows x 5 columns]\n",
      "\n",
      "Статистика для признака 'native-country_Greece':\n",
      "         mean  std  min  max  count\n",
      "Cluster                            \n",
      "0         0.0  0.0    0    0     20\n",
      "1         0.0  0.0    0    0   1577\n",
      "2         0.0  0.0    0    0     76\n",
      "3         0.0  0.0    0    0   1551\n",
      "4         0.0  0.0    0    0    241\n",
      "...       ...  ...  ...  ...    ...\n",
      "203       0.0  0.0    0    0     10\n",
      "204       0.0  0.0    0    0     10\n",
      "205       0.0  0.0    0    0     10\n",
      "206       0.0  0.0    0    0      9\n",
      "207       0.0  0.0    0    0     10\n",
      "\n",
      "[208 rows x 5 columns]\n",
      "\n",
      "Статистика для признака 'native-country_Guatemala':\n",
      "         mean  std  min  max  count\n",
      "Cluster                            \n",
      "0         0.0  0.0    0    0     20\n",
      "1         0.0  0.0    0    0   1577\n",
      "2         0.0  0.0    0    0     76\n",
      "3         0.0  0.0    0    0   1551\n",
      "4         0.0  0.0    0    0    241\n",
      "...       ...  ...  ...  ...    ...\n",
      "203       0.0  0.0    0    0     10\n",
      "204       0.0  0.0    0    0     10\n",
      "205       0.0  0.0    0    0     10\n",
      "206       0.0  0.0    0    0      9\n",
      "207       0.0  0.0    0    0     10\n",
      "\n",
      "[208 rows x 5 columns]\n",
      "\n",
      "Статистика для признака 'native-country_Haiti':\n",
      "         mean  std  min  max  count\n",
      "Cluster                            \n",
      "0         0.0  0.0    0    0     20\n",
      "1         0.0  0.0    0    0   1577\n",
      "2         0.0  0.0    0    0     76\n",
      "3         0.0  0.0    0    0   1551\n",
      "4         0.0  0.0    0    0    241\n",
      "...       ...  ...  ...  ...    ...\n",
      "203       0.0  0.0    0    0     10\n",
      "204       0.0  0.0    0    0     10\n",
      "205       0.0  0.0    0    0     10\n",
      "206       0.0  0.0    0    0      9\n",
      "207       0.0  0.0    0    0     10\n",
      "\n",
      "[208 rows x 5 columns]\n",
      "\n",
      "Статистика для признака 'native-country_Holand-Netherlands':\n",
      "         mean  std  min  max  count\n",
      "Cluster                            \n",
      "0         0.0  0.0    0    0     20\n",
      "1         0.0  0.0    0    0   1577\n",
      "2         0.0  0.0    0    0     76\n",
      "3         0.0  0.0    0    0   1551\n",
      "4         0.0  0.0    0    0    241\n",
      "...       ...  ...  ...  ...    ...\n",
      "203       0.0  0.0    0    0     10\n",
      "204       0.0  0.0    0    0     10\n",
      "205       0.0  0.0    0    0     10\n",
      "206       0.0  0.0    0    0      9\n",
      "207       0.0  0.0    0    0     10\n",
      "\n",
      "[208 rows x 5 columns]\n",
      "\n",
      "Статистика для признака 'native-country_Honduras':\n",
      "         mean  std  min  max  count\n",
      "Cluster                            \n",
      "0         0.0  0.0    0    0     20\n",
      "1         0.0  0.0    0    0   1577\n",
      "2         0.0  0.0    0    0     76\n",
      "3         0.0  0.0    0    0   1551\n",
      "4         0.0  0.0    0    0    241\n",
      "...       ...  ...  ...  ...    ...\n",
      "203       0.0  0.0    0    0     10\n",
      "204       0.0  0.0    0    0     10\n",
      "205       0.0  0.0    0    0     10\n",
      "206       0.0  0.0    0    0      9\n",
      "207       0.0  0.0    0    0     10\n",
      "\n",
      "[208 rows x 5 columns]\n",
      "\n",
      "Статистика для признака 'native-country_Hong':\n",
      "         mean  std  min  max  count\n",
      "Cluster                            \n",
      "0         0.0  0.0    0    0     20\n",
      "1         0.0  0.0    0    0   1577\n",
      "2         0.0  0.0    0    0     76\n",
      "3         0.0  0.0    0    0   1551\n",
      "4         0.0  0.0    0    0    241\n",
      "...       ...  ...  ...  ...    ...\n",
      "203       0.0  0.0    0    0     10\n",
      "204       0.0  0.0    0    0     10\n",
      "205       0.0  0.0    0    0     10\n",
      "206       0.0  0.0    0    0      9\n",
      "207       0.0  0.0    0    0     10\n",
      "\n",
      "[208 rows x 5 columns]\n",
      "\n",
      "Статистика для признака 'native-country_Hungary':\n",
      "         mean  std  min  max  count\n",
      "Cluster                            \n",
      "0         0.0  0.0    0    0     20\n",
      "1         0.0  0.0    0    0   1577\n",
      "2         0.0  0.0    0    0     76\n",
      "3         0.0  0.0    0    0   1551\n",
      "4         0.0  0.0    0    0    241\n",
      "...       ...  ...  ...  ...    ...\n",
      "203       0.0  0.0    0    0     10\n",
      "204       0.0  0.0    0    0     10\n",
      "205       0.0  0.0    0    0     10\n",
      "206       0.0  0.0    0    0      9\n",
      "207       0.0  0.0    0    0     10\n",
      "\n",
      "[208 rows x 5 columns]\n",
      "\n",
      "Статистика для признака 'native-country_India':\n",
      "         mean  std  min  max  count\n",
      "Cluster                            \n",
      "0         0.0  0.0    0    0     20\n",
      "1         0.0  0.0    0    0   1577\n",
      "2         0.0  0.0    0    0     76\n",
      "3         0.0  0.0    0    0   1551\n",
      "4         0.0  0.0    0    0    241\n",
      "...       ...  ...  ...  ...    ...\n",
      "203       0.0  0.0    0    0     10\n",
      "204       0.0  0.0    0    0     10\n",
      "205       0.0  0.0    0    0     10\n",
      "206       0.0  0.0    0    0      9\n",
      "207       0.0  0.0    0    0     10\n",
      "\n",
      "[208 rows x 5 columns]\n",
      "\n",
      "Статистика для признака 'native-country_Iran':\n",
      "         mean  std  min  max  count\n",
      "Cluster                            \n",
      "0         0.0  0.0    0    0     20\n",
      "1         0.0  0.0    0    0   1577\n",
      "2         0.0  0.0    0    0     76\n",
      "3         0.0  0.0    0    0   1551\n",
      "4         0.0  0.0    0    0    241\n",
      "...       ...  ...  ...  ...    ...\n",
      "203       0.0  0.0    0    0     10\n",
      "204       0.0  0.0    0    0     10\n",
      "205       0.0  0.0    0    0     10\n",
      "206       0.0  0.0    0    0      9\n",
      "207       0.0  0.0    0    0     10\n",
      "\n",
      "[208 rows x 5 columns]\n",
      "\n",
      "Статистика для признака 'native-country_Ireland':\n",
      "         mean  std  min  max  count\n",
      "Cluster                            \n",
      "0         0.0  0.0    0    0     20\n",
      "1         0.0  0.0    0    0   1577\n",
      "2         0.0  0.0    0    0     76\n",
      "3         0.0  0.0    0    0   1551\n",
      "4         0.0  0.0    0    0    241\n",
      "...       ...  ...  ...  ...    ...\n",
      "203       0.0  0.0    0    0     10\n",
      "204       0.0  0.0    0    0     10\n",
      "205       0.0  0.0    0    0     10\n",
      "206       0.0  0.0    0    0      9\n",
      "207       0.0  0.0    0    0     10\n",
      "\n",
      "[208 rows x 5 columns]\n",
      "\n",
      "Статистика для признака 'native-country_Italy':\n",
      "         mean  std  min  max  count\n",
      "Cluster                            \n",
      "0         0.0  0.0    0    0     20\n",
      "1         0.0  0.0    0    0   1577\n",
      "2         0.0  0.0    0    0     76\n",
      "3         0.0  0.0    0    0   1551\n",
      "4         0.0  0.0    0    0    241\n",
      "...       ...  ...  ...  ...    ...\n",
      "203       0.0  0.0    0    0     10\n",
      "204       0.0  0.0    0    0     10\n",
      "205       0.0  0.0    0    0     10\n",
      "206       0.0  0.0    0    0      9\n",
      "207       0.0  0.0    0    0     10\n",
      "\n",
      "[208 rows x 5 columns]\n",
      "\n",
      "Статистика для признака 'native-country_Jamaica':\n",
      "         mean  std  min  max  count\n",
      "Cluster                            \n",
      "0         0.0  0.0    0    0     20\n",
      "1         0.0  0.0    0    0   1577\n",
      "2         0.0  0.0    0    0     76\n",
      "3         0.0  0.0    0    0   1551\n",
      "4         0.0  0.0    0    0    241\n",
      "...       ...  ...  ...  ...    ...\n",
      "203       0.0  0.0    0    0     10\n",
      "204       0.0  0.0    0    0     10\n",
      "205       0.0  0.0    0    0     10\n",
      "206       0.0  0.0    0    0      9\n",
      "207       0.0  0.0    0    0     10\n",
      "\n",
      "[208 rows x 5 columns]\n",
      "\n",
      "Статистика для признака 'native-country_Japan':\n",
      "         mean  std  min  max  count\n",
      "Cluster                            \n",
      "0         0.0  0.0    0    0     20\n",
      "1         0.0  0.0    0    0   1577\n",
      "2         0.0  0.0    0    0     76\n",
      "3         0.0  0.0    0    0   1551\n",
      "4         0.0  0.0    0    0    241\n",
      "...       ...  ...  ...  ...    ...\n",
      "203       0.0  0.0    0    0     10\n",
      "204       0.0  0.0    0    0     10\n",
      "205       0.0  0.0    0    0     10\n",
      "206       0.0  0.0    0    0      9\n",
      "207       0.0  0.0    0    0     10\n",
      "\n",
      "[208 rows x 5 columns]\n",
      "\n",
      "Статистика для признака 'native-country_Laos':\n",
      "         mean  std  min  max  count\n",
      "Cluster                            \n",
      "0         0.0  0.0    0    0     20\n",
      "1         0.0  0.0    0    0   1577\n",
      "2         0.0  0.0    0    0     76\n",
      "3         0.0  0.0    0    0   1551\n",
      "4         0.0  0.0    0    0    241\n",
      "...       ...  ...  ...  ...    ...\n",
      "203       0.0  0.0    0    0     10\n",
      "204       0.0  0.0    0    0     10\n",
      "205       0.0  0.0    0    0     10\n",
      "206       0.0  0.0    0    0      9\n",
      "207       0.0  0.0    0    0     10\n",
      "\n",
      "[208 rows x 5 columns]\n",
      "\n",
      "Статистика для признака 'native-country_Mexico':\n",
      "         mean  std  min  max  count\n",
      "Cluster                            \n",
      "0         0.0  0.0    0    0     20\n",
      "1         0.0  0.0    0    0   1577\n",
      "2         0.0  0.0    0    0     76\n",
      "3         0.0  0.0    0    0   1551\n",
      "4         0.0  0.0    0    0    241\n",
      "...       ...  ...  ...  ...    ...\n",
      "203       0.0  0.0    0    0     10\n",
      "204       1.0  0.0    1    1     10\n",
      "205       0.0  0.0    0    0     10\n",
      "206       0.0  0.0    0    0      9\n",
      "207       0.0  0.0    0    0     10\n",
      "\n",
      "[208 rows x 5 columns]\n",
      "\n",
      "Статистика для признака 'native-country_Nicaragua':\n",
      "         mean  std  min  max  count\n",
      "Cluster                            \n",
      "0         0.0  0.0    0    0     20\n",
      "1         0.0  0.0    0    0   1577\n",
      "2         0.0  0.0    0    0     76\n",
      "3         0.0  0.0    0    0   1551\n",
      "4         0.0  0.0    0    0    241\n",
      "...       ...  ...  ...  ...    ...\n",
      "203       0.0  0.0    0    0     10\n",
      "204       0.0  0.0    0    0     10\n",
      "205       0.0  0.0    0    0     10\n",
      "206       0.0  0.0    0    0      9\n",
      "207       0.0  0.0    0    0     10\n",
      "\n",
      "[208 rows x 5 columns]\n",
      "\n",
      "Статистика для признака 'native-country_Outlying-US(Guam-USVI-etc)':\n",
      "         mean  std  min  max  count\n",
      "Cluster                            \n",
      "0         0.0  0.0    0    0     20\n",
      "1         0.0  0.0    0    0   1577\n",
      "2         0.0  0.0    0    0     76\n",
      "3         0.0  0.0    0    0   1551\n",
      "4         0.0  0.0    0    0    241\n",
      "...       ...  ...  ...  ...    ...\n",
      "203       0.0  0.0    0    0     10\n",
      "204       0.0  0.0    0    0     10\n",
      "205       0.0  0.0    0    0     10\n",
      "206       0.0  0.0    0    0      9\n",
      "207       0.0  0.0    0    0     10\n",
      "\n",
      "[208 rows x 5 columns]\n",
      "\n",
      "Статистика для признака 'native-country_Peru':\n",
      "         mean  std  min  max  count\n",
      "Cluster                            \n",
      "0         0.0  0.0    0    0     20\n",
      "1         0.0  0.0    0    0   1577\n",
      "2         0.0  0.0    0    0     76\n",
      "3         0.0  0.0    0    0   1551\n",
      "4         0.0  0.0    0    0    241\n",
      "...       ...  ...  ...  ...    ...\n",
      "203       0.0  0.0    0    0     10\n",
      "204       0.0  0.0    0    0     10\n",
      "205       0.0  0.0    0    0     10\n",
      "206       0.0  0.0    0    0      9\n",
      "207       0.0  0.0    0    0     10\n",
      "\n",
      "[208 rows x 5 columns]\n",
      "\n",
      "Статистика для признака 'native-country_Philippines':\n",
      "         mean  std  min  max  count\n",
      "Cluster                            \n",
      "0         0.0  0.0    0    0     20\n",
      "1         0.0  0.0    0    0   1577\n",
      "2         0.0  0.0    0    0     76\n",
      "3         0.0  0.0    0    0   1551\n",
      "4         0.0  0.0    0    0    241\n",
      "...       ...  ...  ...  ...    ...\n",
      "203       0.0  0.0    0    0     10\n",
      "204       0.0  0.0    0    0     10\n",
      "205       0.0  0.0    0    0     10\n",
      "206       0.0  0.0    0    0      9\n",
      "207       0.0  0.0    0    0     10\n",
      "\n",
      "[208 rows x 5 columns]\n",
      "\n",
      "Статистика для признака 'native-country_Poland':\n",
      "         mean  std  min  max  count\n",
      "Cluster                            \n",
      "0         0.0  0.0    0    0     20\n",
      "1         0.0  0.0    0    0   1577\n",
      "2         0.0  0.0    0    0     76\n",
      "3         0.0  0.0    0    0   1551\n",
      "4         0.0  0.0    0    0    241\n",
      "...       ...  ...  ...  ...    ...\n",
      "203       0.0  0.0    0    0     10\n",
      "204       0.0  0.0    0    0     10\n",
      "205       0.0  0.0    0    0     10\n",
      "206       0.0  0.0    0    0      9\n",
      "207       0.0  0.0    0    0     10\n",
      "\n",
      "[208 rows x 5 columns]\n",
      "\n",
      "Статистика для признака 'native-country_Portugal':\n",
      "         mean  std  min  max  count\n",
      "Cluster                            \n",
      "0         0.0  0.0    0    0     20\n",
      "1         0.0  0.0    0    0   1577\n",
      "2         0.0  0.0    0    0     76\n",
      "3         0.0  0.0    0    0   1551\n",
      "4         0.0  0.0    0    0    241\n",
      "...       ...  ...  ...  ...    ...\n",
      "203       0.0  0.0    0    0     10\n",
      "204       0.0  0.0    0    0     10\n",
      "205       0.0  0.0    0    0     10\n",
      "206       0.0  0.0    0    0      9\n",
      "207       0.0  0.0    0    0     10\n",
      "\n",
      "[208 rows x 5 columns]\n",
      "\n",
      "Статистика для признака 'native-country_Puerto-Rico':\n",
      "         mean  std  min  max  count\n",
      "Cluster                            \n",
      "0         0.0  0.0    0    0     20\n",
      "1         0.0  0.0    0    0   1577\n",
      "2         0.0  0.0    0    0     76\n",
      "3         0.0  0.0    0    0   1551\n",
      "4         0.0  0.0    0    0    241\n",
      "...       ...  ...  ...  ...    ...\n",
      "203       0.0  0.0    0    0     10\n",
      "204       0.0  0.0    0    0     10\n",
      "205       0.0  0.0    0    0     10\n",
      "206       0.0  0.0    0    0      9\n",
      "207       0.0  0.0    0    0     10\n",
      "\n",
      "[208 rows x 5 columns]\n",
      "\n",
      "Статистика для признака 'native-country_Scotland':\n",
      "         mean  std  min  max  count\n",
      "Cluster                            \n",
      "0         0.0  0.0    0    0     20\n",
      "1         0.0  0.0    0    0   1577\n",
      "2         0.0  0.0    0    0     76\n",
      "3         0.0  0.0    0    0   1551\n",
      "4         0.0  0.0    0    0    241\n",
      "...       ...  ...  ...  ...    ...\n",
      "203       0.0  0.0    0    0     10\n",
      "204       0.0  0.0    0    0     10\n",
      "205       0.0  0.0    0    0     10\n",
      "206       0.0  0.0    0    0      9\n",
      "207       0.0  0.0    0    0     10\n",
      "\n",
      "[208 rows x 5 columns]\n",
      "\n",
      "Статистика для признака 'native-country_South':\n",
      "         mean  std  min  max  count\n",
      "Cluster                            \n",
      "0         0.0  0.0    0    0     20\n",
      "1         0.0  0.0    0    0   1577\n",
      "2         0.0  0.0    0    0     76\n",
      "3         0.0  0.0    0    0   1551\n",
      "4         0.0  0.0    0    0    241\n",
      "...       ...  ...  ...  ...    ...\n",
      "203       0.0  0.0    0    0     10\n",
      "204       0.0  0.0    0    0     10\n",
      "205       0.0  0.0    0    0     10\n",
      "206       0.0  0.0    0    0      9\n",
      "207       0.0  0.0    0    0     10\n",
      "\n",
      "[208 rows x 5 columns]\n",
      "\n",
      "Статистика для признака 'native-country_Taiwan':\n",
      "         mean  std  min  max  count\n",
      "Cluster                            \n",
      "0         0.0  0.0    0    0     20\n",
      "1         0.0  0.0    0    0   1577\n",
      "2         0.0  0.0    0    0     76\n",
      "3         0.0  0.0    0    0   1551\n",
      "4         0.0  0.0    0    0    241\n",
      "...       ...  ...  ...  ...    ...\n",
      "203       0.0  0.0    0    0     10\n",
      "204       0.0  0.0    0    0     10\n",
      "205       0.0  0.0    0    0     10\n",
      "206       0.0  0.0    0    0      9\n",
      "207       0.0  0.0    0    0     10\n",
      "\n",
      "[208 rows x 5 columns]\n",
      "\n",
      "Статистика для признака 'native-country_Thailand':\n",
      "         mean  std  min  max  count\n",
      "Cluster                            \n",
      "0         0.0  0.0    0    0     20\n",
      "1         0.0  0.0    0    0   1577\n",
      "2         0.0  0.0    0    0     76\n",
      "3         0.0  0.0    0    0   1551\n",
      "4         0.0  0.0    0    0    241\n",
      "...       ...  ...  ...  ...    ...\n",
      "203       0.0  0.0    0    0     10\n",
      "204       0.0  0.0    0    0     10\n",
      "205       0.0  0.0    0    0     10\n",
      "206       0.0  0.0    0    0      9\n",
      "207       0.0  0.0    0    0     10\n",
      "\n",
      "[208 rows x 5 columns]\n",
      "\n",
      "Статистика для признака 'native-country_Trinadad&Tobago':\n",
      "         mean  std  min  max  count\n",
      "Cluster                            \n",
      "0         0.0  0.0    0    0     20\n",
      "1         0.0  0.0    0    0   1577\n",
      "2         0.0  0.0    0    0     76\n",
      "3         0.0  0.0    0    0   1551\n",
      "4         0.0  0.0    0    0    241\n",
      "...       ...  ...  ...  ...    ...\n",
      "203       0.0  0.0    0    0     10\n",
      "204       0.0  0.0    0    0     10\n",
      "205       0.0  0.0    0    0     10\n",
      "206       0.0  0.0    0    0      9\n",
      "207       0.0  0.0    0    0     10\n",
      "\n",
      "[208 rows x 5 columns]\n",
      "\n",
      "Статистика для признака 'native-country_United-States':\n",
      "             mean       std  min  max  count\n",
      "Cluster                                     \n",
      "0        1.000000  0.000000    1    1     20\n",
      "1        0.999366  0.025182    0    1   1577\n",
      "2        1.000000  0.000000    1    1     76\n",
      "3        0.992908  0.083943    0    1   1551\n",
      "4        1.000000  0.000000    1    1    241\n",
      "...           ...       ...  ...  ...    ...\n",
      "203      1.000000  0.000000    1    1     10\n",
      "204      0.000000  0.000000    0    0     10\n",
      "205      1.000000  0.000000    1    1     10\n",
      "206      1.000000  0.000000    1    1      9\n",
      "207      1.000000  0.000000    1    1     10\n",
      "\n",
      "[208 rows x 5 columns]\n",
      "\n",
      "Статистика для признака 'native-country_Vietnam':\n",
      "         mean  std  min  max  count\n",
      "Cluster                            \n",
      "0         0.0  0.0    0    0     20\n",
      "1         0.0  0.0    0    0   1577\n",
      "2         0.0  0.0    0    0     76\n",
      "3         0.0  0.0    0    0   1551\n",
      "4         0.0  0.0    0    0    241\n",
      "...       ...  ...  ...  ...    ...\n",
      "203       0.0  0.0    0    0     10\n",
      "204       0.0  0.0    0    0     10\n",
      "205       0.0  0.0    0    0     10\n",
      "206       0.0  0.0    0    0      9\n",
      "207       0.0  0.0    0    0     10\n",
      "\n",
      "[208 rows x 5 columns]\n",
      "\n",
      "Статистика для признака 'native-country_Yugoslavia':\n",
      "         mean  std  min  max  count\n",
      "Cluster                            \n",
      "0         0.0  0.0    0    0     20\n",
      "1         0.0  0.0    0    0   1577\n",
      "2         0.0  0.0    0    0     76\n",
      "3         0.0  0.0    0    0   1551\n",
      "4         0.0  0.0    0    0    241\n",
      "...       ...  ...  ...  ...    ...\n",
      "203       0.0  0.0    0    0     10\n",
      "204       0.0  0.0    0    0     10\n",
      "205       0.0  0.0    0    0     10\n",
      "206       0.0  0.0    0    0      9\n",
      "207       0.0  0.0    0    0     10\n",
      "\n",
      "[208 rows x 5 columns]\n",
      "\n",
      "Коэффициент силуэта для DBSCAN: 0.1172\n"
     ]
    },
    {
     "data": {
      "image/png": "[encoded data removed]",
      "text/plain": [
       "<Figure size 800x600 with 1 Axes>"
      ]
     },
     "metadata": {},
     "output_type": "display_data"
    }
   ],
   "source": [
    "import numpy as np\n",
    "import pandas as pd\n",
    "import matplotlib.pyplot as plt\n",
    "from sklearn.cluster import DBSCAN\n",
    "from sklearn.metrics import silhouette_score\n",
    "\n",
    "# Параметры DBSCAN\n",
    "eps = 1.0\n",
    "min_samples = 10\n",
    "metric = 'euclidean'\n",
    "\n",
    "# Обучение модели DBSCAN\n",
    "db = DBSCAN(eps=eps, min_samples=min_samples, metric=metric)\n",
    "labels = db.fit_predict(df)\n",
    "\n",
    "# Добавляем метки кластеров в DataFrame\n",
    "df_dbscan = df.copy()\n",
    "df_dbscan['Cluster'] = labels\n",
    "\n",
    "# Количество кластеров (исключая шум)\n",
    "n_clusters_ = len(set(labels)) - (1 if -1 in labels else 0)\n",
    "print(f\"Количество кластеров: {n_clusters_}\")\n",
    "\n",
    "# Вывод статистики по кластерам\n",
    "print(\"Статистика по кластерам:\")\n",
    "for column in df.columns:\n",
    "    print(f\"\\nСтатистика для признака '{column}':\")\n",
    "    cluster_stats = df_dbscan[df_dbscan['Cluster'] != -1].groupby('Cluster')[column].agg(['mean', 'std', 'min', 'max', 'count'])\n",
    "    print(cluster_stats)\n",
    "\n",
    "# Вычисление коэффициента силуэта\n",
    "if n_clusters_ > 1:\n",
    "    silhouette_avg = silhouette_score(df[df_dbscan['Cluster'] != -1], labels[df_dbscan['Cluster'] != -1])\n",
    "    print(f\"\\nКоэффициент силуэта для DBSCAN: {silhouette_avg:.4f}\")\n",
    "else:\n",
    "    print(\"\\nКоэффициент силуэта не определен, так как найден один кластер или данные являются шумом.\")\n",
    "\n",
    "\n",
    "# Визуализация результатов (с использованием PCA для снижения размерности)\n",
    "from sklearn.decomposition import PCA\n",
    "pca = PCA(n_components=2)\n",
    "principal_components = pca.fit_transform(df)\n",
    "df_pca = pd.DataFrame(data=principal_components, columns=['PC1', 'PC2'])\n",
    "df_pca['Cluster'] = labels\n",
    "\n",
    "plt.figure(figsize=(8, 6))\n",
    "unique_labels = set(labels)\n",
    "colors = [plt.cm.Spectral(each) for each in np.linspace(0, 1, len(unique_labels))]\n",
    "\n",
    "for k, col in zip(unique_labels, colors):\n",
    "    class_member_mask = (labels == k)\n",
    "    if k == -1:\n",
    "        # Черный цвет для шума\n",
    "        col = [0, 0, 0, 1]\n",
    "    plt.plot(df_pca.loc[class_member_mask, 'PC1'],\n",
    "             df_pca.loc[class_member_mask, 'PC2'],\n",
    "             'o', markerfacecolor=tuple(col),\n",
    "             markeredgecolor='k', markersize=6)\n",
    "\n",
    "plt.title(f'DBSCAN: eps={eps}, min_samples={min_samples}, metric={metric}')\n",
    "plt.xlabel('Главная компонента 1')\n",
    "plt.ylabel('Главная компонента 2')\n",
    "plt.show()\n"
   ]
  },
  {
   "cell_type": "markdown",
   "metadata": {
    "id": "fXlS-YfPFvrX"
   },
   "source": [
    "#### **Анализ кластеров**"
   ]
  },
  {
   "cell_type": "markdown",
   "metadata": {
    "id": "hVs60mXYFqdi"
   },
   "source": [
    "После применения алгоритма DBSCAN мы получили **очень много кластеров**, которых почни не видно за шумами. Рассмотрим три наиболее значимых признака:\n",
    "\n",
    "Не знаю как это нормально проанализировать. Многие признаки вообще по нулям. Неудивительно, что столько шумов. Параметры я потрогал: eps и min_samples - практически ничего не меняет. Только может если очень большие значения ввести.\n",
    "\n",
    "1. **Возраст(age)**:\n",
    "\n",
    "2. **Образование (education-num)**:\n",
    "\n",
    "3. **hours-per-week**:\n",
    "\n",
    "\n",
    "**Коэффициент силуэта для DBSCAN:** 0.1172\n",
    "\n",
    "**Общее заключение:**\n",
    "\n",
    "Алгоритм DBSCAN разделил датафрейм на кластеры, но сложно судить. Вероятно я как обычно не разобюрался."
   ]
  },
  {
   "cell_type": "markdown",
   "metadata": {
    "id": "FZBFse_OGA-Q"
   },
   "source": [
    "### Метрики качества кластеризации"
   ]
  },
  {
   "cell_type": "markdown",
   "metadata": {
    "id": "vzWiOXOQGZys"
   },
   "source": [
    "**Дополнительные метрики для оценки качества кластеризации**\n",
    "\n",
    "Кроме коэффициента силуэта, существуют и другие метрики, которые помогают оценить качество кластеризации. Вот некоторые из них:\n",
    "\n",
    "1. **Индекс Калински-Харабаза (Calinski-Harabasz Index):**\n",
    "   - **Описание:** Измеряет отношение между разбросом между кластерами и разбросом внутри кластеров.\n",
    "   - **Диапазон значений:** От 0 до бесконечности.\n",
    "   - **Интерпретация:** Чем ближе к бесконечности больше, тем лучше раздленеие между кластерами\n",
    "\n",
    "2. **Индекс Дэвиса-Болдина (Davies-Bouldin Index):**\n",
    "   - **Описание:** Оценивает среднее \"сходство\" между каждым кластером и наиболее похожим на него другим кластером. Сходство основано на расстоянии между кластерами и их размером.\n",
    "   - **Диапазон значений:** От 0 до бесконечности.\n",
    "   - **Интерпретация:** Чем ближе к 0, тем лучшее разделение между кластерами.\n",
    "\n",
    "3. **Коэффициент силуэта (Silhouette Score):**\n",
    "\n",
    "    - **Описание:** Измеряет, насколько объект похож на свой кластер по сравнению с другими кластерами.\n",
    "    - **Диапазон значений:** От -1 до 1.\n",
    "    - **Интерпретация:** Значения, близкие к 1, указывают на хорошую кластеризацию. Значения около 0 означают, что кластеры перекрываются. Отрицательные значения указывают на возможные ошибки в кластеризации."
   ]
  },
  {
   "cell_type": "code",
   "execution_count": 9,
   "metadata": {
    "colab": {
     "base_uri": "https://localhost:8080/"
    },
    "id": "1kGxd0D0GAlb",
    "outputId": "95b40caa-643a-4203-e300-298b329d326f"
   },
   "outputs": [
    {
     "name": "stdout",
     "output_type": "stream",
     "text": [
      "Индекс Калински-Харабаза для K-means: 3302.3146\n",
      "Индекс Дэвиса-Болдина для K-means: 2.7723\n",
      "Коэффициент силуэта для K-means: 0.0909\n"
     ]
    }
   ],
   "source": [
    "from sklearn.metrics import calinski_harabasz_score, davies_bouldin_score\n",
    "# Кластеризация K-means\n",
    "k = 3\n",
    "kmeans = KMeans(n_clusters=k, random_state=42)\n",
    "labels_kmeans = kmeans.fit_predict(df)\n",
    "\n",
    "# Индекс Калински-Харабаза\n",
    "ch_score_kmeans = calinski_harabasz_score(df, labels_kmeans)\n",
    "print(f\"Индекс Калински-Харабаза для K-means: {ch_score_kmeans:.4f}\")\n",
    "\n",
    "# Индекс Дэвиса-Болдина\n",
    "db_score_kmeans = davies_bouldin_score(df, labels_kmeans)\n",
    "print(f\"Индекс Дэвиса-Болдина для K-means: {db_score_kmeans:.4f}\")\n",
    "\n",
    "# Коэффициент силуэта\n",
    "sh_score_kmeans = silhouette_score(df, labels_kmeans)\n",
    "print(f\"Коэффициент силуэта для K-means: {sh_score_kmeans:.4f}\")"
   ]
  },
  {
   "cell_type": "code",
   "execution_count": 10,
   "metadata": {
    "colab": {
     "base_uri": "https://localhost:8080/"
    },
    "id": "htCbgjAnG3Qu",
    "outputId": "53957e38-4ae6-44bd-b919-0c93ddd74ea7"
   },
   "outputs": [
    {
     "name": "stdout",
     "output_type": "stream",
     "text": [
      "Индекс Калински-Харабаза для DBSCAN: 1742.8784\n",
      "Индекс Дэвиса-Болдина для DBSCAN: 0.3139\n",
      "Коэффициент силуэта для DBSCAN: 0.7829\n"
     ]
    }
   ],
   "source": [
    "from sklearn.metrics import calinski_harabasz_score, davies_bouldin_score\n",
    "\n",
    "eps = 0.5\n",
    "min_samples = 5\n",
    "\n",
    "dbscan = DBSCAN(eps=eps, min_samples=min_samples)\n",
    "labels_dbscan = dbscan.fit_predict(df)\n",
    "\n",
    "# Исключаем шумовые точки (метки -1)\n",
    "mask = labels_dbscan != -1\n",
    "df_scaled_dbscan = df[mask]\n",
    "labels_dbscan_filtered = labels_dbscan[mask]\n",
    "\n",
    "# Проверяем, есть ли достаточное количество кластеров для расчета метрик\n",
    "if len(set(labels_dbscan_filtered)) > 1:\n",
    "    # Индекс Калински-Харабаза\n",
    "    ch_score_dbscan = calinski_harabasz_score(df_scaled_dbscan, labels_dbscan_filtered)\n",
    "    print(f\"Индекс Калински-Харабаза для DBSCAN: {ch_score_dbscan:.4f}\")\n",
    "\n",
    "    # Индекс Дэвиса-Болдина\n",
    "    db_score_dbscan = davies_bouldin_score(df_scaled_dbscan, labels_dbscan_filtered)\n",
    "    print(f\"Индекс Дэвиса-Болдина для DBSCAN: {db_score_dbscan:.4f}\")\n",
    "\n",
    "    # Коэффициент силуэта\n",
    "    sh_score_dbscan = silhouette_score(df_scaled_dbscan, labels_dbscan_filtered)\n",
    "    print(f\"Коэффициент силуэта для DBSCAN: {sh_score_dbscan:.4f}\")\n",
    "else:\n",
    "    print(\"Недостаточно кластеров для вычисления метрик для DBSCAN.\")\n"
   ]
  },
  {
   "cell_type": "markdown",
   "metadata": {
    "id": "t-UH4O6FHpYm"
   },
   "source": [
    "#### Визуальный пример"
   ]
  },
  {
   "cell_type": "code",
   "execution_count": 11,
   "metadata": {
    "colab": {
     "base_uri": "https://localhost:8080/",
     "height": 213
    },
    "id": "6Wigzyn6HrxF",
    "outputId": "39acda1d-913a-4c71-c3d8-84c337962929"
   },
   "outputs": [
    {
     "data": {
      "image/png": "[encoded data removed]",
      "text/plain": [
       "<Figure size 1800x500 with 3 Axes>"
      ]
     },
     "metadata": {},
     "output_type": "display_data"
    }
   ],
   "source": [
    "# Диапазон значений k\n",
    "k_range = range(2, 13)\n",
    "\n",
    "# Списки для хранения метрик\n",
    "ch_scores = []\n",
    "db_scores = []\n",
    "silhouette_scores = []\n",
    "\n",
    "for k in k_range:\n",
    "    # Создаем и обучаем модель KMeans\n",
    "    kmeans = KMeans(n_clusters=k, random_state=42)\n",
    "    labels = kmeans.fit_predict(df)\n",
    "\n",
    "    # Вычисляем метрики\n",
    "    ch_score = calinski_harabasz_score(df, labels)\n",
    "    db_score = davies_bouldin_score(df, labels)\n",
    "    silhouette_avg = silhouette_score(df, labels)\n",
    "\n",
    "    # Сохраняем метрики\n",
    "    ch_scores.append(ch_score)\n",
    "    db_scores.append(db_score)\n",
    "    silhouette_scores.append(silhouette_avg)\n",
    "\n",
    "# Построение графиков\n",
    "plt.figure(figsize=(18, 5))\n",
    "\n",
    "# График Индекса Калински-Харабаза\n",
    "plt.subplot(1, 3, 1)\n",
    "plt.plot(k_range, ch_scores, marker='o')\n",
    "plt.title('Индекс Калински-Харабаза')\n",
    "plt.xlabel('Количество кластеров k')\n",
    "plt.ylabel('Значение метрики')\n",
    "\n",
    "# График Индекса Дэвиса-Болдина\n",
    "plt.subplot(1, 3, 2)\n",
    "plt.plot(k_range, db_scores, marker='o')\n",
    "plt.title('Индекс Дэвиса-Болдина')\n",
    "plt.xlabel('Количество кластеров k')\n",
    "plt.ylabel('Значение метрики')\n",
    "\n",
    "# График Коэффициента силуэта\n",
    "plt.subplot(1, 3, 3)\n",
    "plt.plot(k_range, silhouette_scores, marker='o')\n",
    "plt.title('Коэффициент силуэта')\n",
    "plt.xlabel('Количество кластеров k')\n",
    "plt.ylabel('Значение метрики')\n",
    "\n",
    "plt.tight_layout()\n",
    "plt.show()\n"
   ]
  },
  {
   "cell_type": "markdown",
   "metadata": {},
   "source": [
    "- По индексу Калински-Харабаза, при минимальном к, т.е. количестве кластеров, значения наивысшие.\n",
    "- По индексу Дэвида-Болдина, максимальное значение при к=4, а минимальное при к=2.\n",
    "- По коэффициенту силуета, максимальное при к=2, как на первом графике, минимальное же на к=3. В целом он самый кривой из всех трех."
   ]
  },
  {
   "cell_type": "markdown",
   "metadata": {
    "id": "-TGXP3GwI2zZ"
   },
   "source": [
    "# Пример обработки текстовых данных"
   ]
  },
  {
   "cell_type": "markdown",
   "metadata": {
    "id": "GfM895RaI7s4"
   },
   "source": []
  },
  {
   "cell_type": "code",
   "execution_count": 12,
   "metadata": {
    "colab": {
     "base_uri": "https://localhost:8080/"
    },
    "id": "XjF3rU9PKV-a",
    "outputId": "ed3b2cdd-0d73-4fd9-81e8-fe1bbc5c3528"
   },
   "outputs": [
    {
     "name": "stderr",
     "output_type": "stream",
     "text": [
      "[nltk_data] Downloading package stopwords to\n",
      "[nltk_data]     /home/ayanami/nltk_data...\n",
      "[nltk_data]   Package stopwords is already up-to-date!\n"
     ]
    }
   ],
   "source": [
    "import numpy as np\n",
    "import pandas as pd\n",
    "import re\n",
    "import nltk\n",
    "nltk.download('stopwords')\n",
    "from nltk.corpus import stopwords\n",
    "import pymorphy3"
   ]
  },
  {
   "cell_type": "markdown",
   "metadata": {
    "id": "c7mS2DVlK6I8"
   },
   "source": [
    "#### Инициализация текстовых анализаторов"
   ]
  },
  {
   "cell_type": "code",
   "execution_count": 24,
   "metadata": {
    "id": "jhG_ZWyjKfi6"
   },
   "outputs": [],
   "source": [
    "# Инициализируем лемматизатор и список стоп-слов\n",
    "morph = pymorphy3.MorphAnalyzer()\n",
    "russian_stopwords = stopwords.words('russian')\n",
    "\n",
    "# Чтение данных из файла\n",
    "with open('content/articles.txt', 'r', encoding='utf-8') as f:\n",
    "    content = f.read()\n",
    "\n",
    "# Удаляем лишние символы\n",
    "content = content.replace('\\xa0', ' ')\n",
    "\n",
    "# Разделяем данные на статьи\n",
    "articles_raw = content.split('--------------------------------------------------')\n",
    "\n",
    "# Извлекаем заголовки и тексты статей\n",
    "titles = []\n",
    "texts = []\n",
    "\n",
    "for article in articles_raw:\n",
    "    lines = article.strip().split('\\n')\n",
    "    if len(lines) >= 3:\n",
    "        # Извлекаем заголовок и текст статьи\n",
    "        title = lines[2]\n",
    "        text = ' '.join(lines[3:])\n",
    "        if text.lower().startswith('content:'):\n",
    "            text = text[8:].strip()\n",
    "        if title.lower().startswith('title:'):\n",
    "            title = title[7:].strip()\n",
    "        titles.append(title)\n",
    "        texts.append(text)"
   ]
  },
  {
   "cell_type": "code",
   "execution_count": 25,
   "metadata": {
    "colab": {
     "base_uri": "https://localhost:8080/"
    },
    "id": "oFpnNBJIKnTv",
    "outputId": "8878fe7b-110e-4375-e269-997b2bf8167b"
   },
   "outputs": [
    {
     "data": {
      "text/plain": [
       "['nanoCAD GeoniCS 24.1 – второе техническое обновление на базе Платформы nanoCAD 24.1 под Windows']"
      ]
     },
     "execution_count": 25,
     "metadata": {},
     "output_type": "execute_result"
    }
   ],
   "source": [
    "titles[:1]"
   ]
  },
  {
   "cell_type": "code",
   "execution_count": 26,
   "metadata": {},
   "outputs": [
    {
     "data": {
      "text/plain": [
       "['Компания «Нанософт» – разработчик продуктов линейки nanoCAD – представляет второе техническое обновление nanoCAD GeoniCS 24.1 на Платформе nanoCAD 24.1 под Windows.nanoCAD GeoniCS 24.1 – это специализированное решение на базе версии 24.1 Платформы nanoCAD, предназначенное для специалистов отделов изысканий и генплана, проектировщиков инженерных коммуникаций и автодорог.Область применения продукта – автоматизация проектно-изыскательских работ.При подготовке обновления устранена ошибка расчета по методу призм, исправлены мелкие ошибки и недочеты.Подробная информация о возможностях nanoCAD GeoniCS представлена на сайте nanocad.ru.Бесплатная оценочная версияБесплатно скачать nanoCAD GeoniCS можно на официальном сайте nanocad.ru – в течение месяца вам будут доступны все возможности программного продукта.Оцените преимущества nanoCAD GeoniCS перед покупкой!Купить nanoCAD GeoniCSПользователи nanoCAD GeoniCS 24 с временными лицензиями, а также владельцы постоянных лицензий с действующими подписками получают nanoCAD GeoniCS 24.1 бесплатно. В других случаях можно воспользоваться бесплатными оценочными лицензиями и в течение месяца принять решение о покупке.Действующий прайс-лист представлен в разделе «Цены».']"
      ]
     },
     "execution_count": 26,
     "metadata": {},
     "output_type": "execute_result"
    }
   ],
   "source": [
    "texts[:1]"
   ]
  },
  {
   "cell_type": "markdown",
   "metadata": {
    "id": "SNtJGhGxK_yL"
   },
   "source": [
    "#### Предварительная обработка текстовых данных"
   ]
  },
  {
   "cell_type": "markdown",
   "metadata": {
    "id": "0gQAm2CTLDR4"
   },
   "source": [
    "1. преобразуем в lowercase\n",
    "2. оставляем только слова\n",
    "3. токенизируем текста\n",
    "4. преобразуем слова в начальную форму"
   ]
  },
  {
   "cell_type": "code",
   "execution_count": 27,
   "metadata": {
    "colab": {
     "base_uri": "https://localhost:8080/"
    },
    "id": "qDBSxrnKk8Ju",
    "outputId": "6ef94b5e-0dcf-40f6-eb0e-273382f9e3f3"
   },
   "outputs": [
    {
     "data": {
      "text/plain": [
       "['и',\n",
       " 'в',\n",
       " 'во',\n",
       " 'не',\n",
       " 'что',\n",
       " 'он',\n",
       " 'на',\n",
       " 'я',\n",
       " 'с',\n",
       " 'со',\n",
       " 'как',\n",
       " 'а',\n",
       " 'то',\n",
       " 'все',\n",
       " 'она',\n",
       " 'так',\n",
       " 'его',\n",
       " 'но',\n",
       " 'да',\n",
       " 'ты',\n",
       " 'к',\n",
       " 'у',\n",
       " 'же',\n",
       " 'вы',\n",
       " 'за',\n",
       " 'бы',\n",
       " 'по',\n",
       " 'только',\n",
       " 'ее',\n",
       " 'мне',\n",
       " 'было',\n",
       " 'вот',\n",
       " 'от',\n",
       " 'меня',\n",
       " 'еще',\n",
       " 'нет',\n",
       " 'о',\n",
       " 'из',\n",
       " 'ему',\n",
       " 'теперь',\n",
       " 'когда',\n",
       " 'даже',\n",
       " 'ну',\n",
       " 'вдруг',\n",
       " 'ли',\n",
       " 'если',\n",
       " 'уже',\n",
       " 'или',\n",
       " 'ни',\n",
       " 'быть',\n",
       " 'был',\n",
       " 'него',\n",
       " 'до',\n",
       " 'вас',\n",
       " 'нибудь',\n",
       " 'опять',\n",
       " 'уж',\n",
       " 'вам',\n",
       " 'ведь',\n",
       " 'там',\n",
       " 'потом',\n",
       " 'себя',\n",
       " 'ничего',\n",
       " 'ей',\n",
       " 'может',\n",
       " 'они',\n",
       " 'тут',\n",
       " 'где',\n",
       " 'есть',\n",
       " 'надо',\n",
       " 'ней',\n",
       " 'для',\n",
       " 'мы',\n",
       " 'тебя',\n",
       " 'их',\n",
       " 'чем',\n",
       " 'была',\n",
       " 'сам',\n",
       " 'чтоб',\n",
       " 'без',\n",
       " 'будто',\n",
       " 'чего',\n",
       " 'раз',\n",
       " 'тоже',\n",
       " 'себе',\n",
       " 'под',\n",
       " 'будет',\n",
       " 'ж',\n",
       " 'тогда',\n",
       " 'кто',\n",
       " 'этот',\n",
       " 'того',\n",
       " 'потому',\n",
       " 'этого',\n",
       " 'какой',\n",
       " 'совсем',\n",
       " 'ним',\n",
       " 'здесь',\n",
       " 'этом',\n",
       " 'один',\n",
       " 'почти',\n",
       " 'мой',\n",
       " 'тем',\n",
       " 'чтобы',\n",
       " 'нее',\n",
       " 'сейчас',\n",
       " 'были',\n",
       " 'куда',\n",
       " 'зачем',\n",
       " 'всех',\n",
       " 'никогда',\n",
       " 'можно',\n",
       " 'при',\n",
       " 'наконец',\n",
       " 'два',\n",
       " 'об',\n",
       " 'другой',\n",
       " 'хоть',\n",
       " 'после',\n",
       " 'над',\n",
       " 'больше',\n",
       " 'тот',\n",
       " 'через',\n",
       " 'эти',\n",
       " 'нас',\n",
       " 'про',\n",
       " 'всего',\n",
       " 'них',\n",
       " 'какая',\n",
       " 'много',\n",
       " 'разве',\n",
       " 'три',\n",
       " 'эту',\n",
       " 'моя',\n",
       " 'впрочем',\n",
       " 'хорошо',\n",
       " 'свою',\n",
       " 'этой',\n",
       " 'перед',\n",
       " 'иногда',\n",
       " 'лучше',\n",
       " 'чуть',\n",
       " 'том',\n",
       " 'нельзя',\n",
       " 'такой',\n",
       " 'им',\n",
       " 'более',\n",
       " 'всегда',\n",
       " 'конечно',\n",
       " 'всю',\n",
       " 'между']"
      ]
     },
     "execution_count": 27,
     "metadata": {},
     "output_type": "execute_result"
    }
   ],
   "source": [
    "russian_stopwords"
   ]
  },
  {
   "cell_type": "code",
   "execution_count": 28,
   "metadata": {
    "id": "BanRndzhKrlB"
   },
   "outputs": [],
   "source": [
    "def preprocess_text(text):\n",
    "    # Приводим к нижнему регистру\n",
    "    text = text.lower()\n",
    "    # Удаляем пунктуацию и цифры\n",
    "    text = re.sub(r'[^а-яё\\s]', '', text)\n",
    "    # Токенизация\n",
    "    words = text.split()\n",
    "    # Удаление стоп-слов и лемматизация\n",
    "    lemmatized = []\n",
    "    for word in words:\n",
    "        if word not in russian_stopwords:\n",
    "            lemma = morph.parse(word)[0].normal_form\n",
    "            lemmatized.append(lemma)\n",
    "    return ' '.join(lemmatized)\n",
    "\n",
    "# Применяем предобработку к каждому тексту\n",
    "texts_preprocessed = [preprocess_text(text) for text in texts]\n"
   ]
  },
  {
   "cell_type": "code",
   "execution_count": 29,
   "metadata": {
    "id": "YxbNvsISKtls"
   },
   "outputs": [
    {
     "data": {
      "text/plain": [
       "['компания нанософт разработчик продукт линейка представлять второе технический обновление платформа это специализировать решение база версия платформа предназначить специалист отдел изыскание генплан проектировщик инженерный коммуникация автодорогобласть применение продукт автоматизация проектноизыскательский работпереть подготовка обновление устранить ошибка расчёт метод призма исправить мелкий ошибка недочетыподробный информация возможность представить сайт бесплатный оценочный версиябесплатный скачать официальный сайт течение месяц быть доступный возможность программный продуктаоценить преимущество покупкойкупить пользователь временной лицензия также владелец постоянный лицензия действовать подписка получать бесплатно другой случай воспользоваться бесплатный оценочный лицензия течение месяц принять решение покупкедействовать прайслист представить раздел цена',\n",
       " '']"
      ]
     },
     "execution_count": 29,
     "metadata": {},
     "output_type": "execute_result"
    }
   ],
   "source": [
    "texts_preprocessed[:2]"
   ]
  },
  {
   "cell_type": "markdown",
   "metadata": {
    "id": "3xV0o7xfLO2e"
   },
   "source": [
    "#### Преобразуем в векторный вид"
   ]
  },
  {
   "cell_type": "code",
   "execution_count": 30,
   "metadata": {
    "id": "Zj-69jzCK3LI"
   },
   "outputs": [],
   "source": [
    "\n",
    "from sklearn.feature_extraction.text import TfidfVectorizer\n",
    "\n",
    "vectorizer = TfidfVectorizer()\n",
    "X = vectorizer.fit_transform(texts_preprocessed)\n"
   ]
  },
  {
   "cell_type": "code",
   "execution_count": 31,
   "metadata": {
    "id": "xeJaZGVdLRoG"
   },
   "outputs": [],
   "source": [
    "# Параметры DBSCAN могут требовать подбора\n",
    "dbscan = DBSCAN(eps=0.5, min_samples=2, metric='cosine')\n",
    "labels = dbscan.fit_predict(X)\n"
   ]
  },
  {
   "cell_type": "code",
   "execution_count": 32,
   "metadata": {
    "colab": {
     "base_uri": "https://localhost:8080/"
    },
    "id": "9RPD6MXzLXpM",
    "outputId": "b6db5fac-777b-40a4-fcda-68b221549990"
   },
   "outputs": [
    {
     "name": "stdout",
     "output_type": "stream",
     "text": [
      "Количество кластеров: 3\n",
      "\n",
      "Кластер 0:\n",
      "- РКН: магистральный кабель повреждён в Татарстане, снижена скорость интернета у 3,8 млн россиян в 21 регионе\n",
      "- Минцифры Татарстана: повреждение волоконно-оптического магистрального кабеля на территории республики устранено\n",
      "\n",
      "Кластер 1:\n",
      "- OpenAI тестирует регистрацию в ChatGPT только по номеру телефона\n",
      "- OpenAI тестирует регистрацию ChatGPT только по номеру телефона\n",
      "\n",
      "Кластер 2:\n",
      "- В VK Cloud добавили полнотекстовый поисковый движок MeiliSearch\n",
      "- В VK Cloud добавили полнотекстовый поисковый движок MeiliSearch\n"
     ]
    }
   ],
   "source": [
    "# Создаем DataFrame с заголовками и метками кластеров\n",
    "df = pd.DataFrame({'title': titles, 'label': labels})\n",
    "\n",
    "# Выводим количество кластеров\n",
    "unique_labels = set(labels)\n",
    "n_clusters = len(unique_labels) - (1 if -1 in labels else 0)\n",
    "print(f'Количество кластеров: {n_clusters}')\n",
    "\n",
    "# Анализируем кластеры\n",
    "for label in unique_labels:\n",
    "    if label == -1:\n",
    "        continue  # Пропускаем шум\n",
    "    cluster_titles = df[df['label'] == label]['title'].head(3)\n",
    "    print(f'\\nКластер {label}:')\n",
    "    for title in cluster_titles:\n",
    "        print(f'- {title}')\n"
   ]
  },
  {
   "cell_type": "code",
   "execution_count": 33,
   "metadata": {
    "colab": {
     "base_uri": "https://localhost:8080/",
     "height": 542
    },
    "id": "rbFM1wDBMYfQ",
    "outputId": "cd2e340a-1527-44c1-c2da-edb111d493a0"
   },
   "outputs": [
    {
     "data": {
      "application/vnd.plotly.v1+json": {
       "config": {
        "plotlyServerURL": "https://plot.ly"
       },
       "data": [
        {
         "hovertemplate": "%{text}<extra></extra>",
         "marker": {
          "color": [
           -1,
           -1,
           -1,
           -1,
           -1,
           -1,
           -1,
           -1,
           -1,
           -1,
           -1,
           0,
           -1,
           -1,
           -1,
           -1,
           -1,
           -1,
           -1,
           -1,
           -1,
           -1,
           1,
           -1,
           -1,
           -1,
           -1,
           -1,
           -1,
           -1,
           -1,
           -1,
           -1,
           -1,
           0,
           -1,
           -1,
           -1,
           -1,
           -1,
           -1,
           -1,
           -1,
           1,
           -1,
           -1,
           -1,
           -1,
           -1,
           -1,
           -1,
           -1,
           -1,
           -1,
           -1,
           -1,
           -1,
           -1,
           -1,
           -1,
           -1,
           -1,
           -1,
           -1,
           -1,
           -1,
           -1,
           -1,
           -1,
           -1,
           -1,
           -1,
           -1,
           -1,
           -1,
           -1,
           -1,
           -1,
           -1,
           -1,
           -1,
           -1,
           -1,
           -1,
           -1,
           -1,
           2,
           -1,
           -1,
           -1,
           -1,
           -1,
           -1,
           -1,
           -1,
           -1,
           2,
           -1,
           -1,
           -1
          ],
          "colorscale": [
           [
            0,
            "#440154"
           ],
           [
            0.1111111111111111,
            "#482878"
           ],
           [
            0.2222222222222222,
            "#3e4989"
           ],
           [
            0.3333333333333333,
            "#31688e"
           ],
           [
            0.4444444444444444,
            "#26828e"
           ],
           [
            0.5555555555555556,
            "#1f9e89"
           ],
           [
            0.6666666666666666,
            "#35b779"
           ],
           [
            0.7777777777777778,
            "#6ece58"
           ],
           [
            0.8888888888888888,
            "#b5de2b"
           ],
           [
            1,
            "#fde725"
           ]
          ],
          "opacity": 0.8,
          "size": 5
         },
         "mode": "markers",
         "text": [
          "nanoCAD GeoniCS 24.1 – второе техническое обновление на базе Платформы nanoCAD 24.1 под Windows",
          "–õ—É—á—à–µ–µ –∑–∞ –Ω–µ–¥–µ–ª—é (23.12 ‚Äî 28.12)",
          "Операторы связи наладили пресечение незаконного доступа к «Госуслугам»",
          "СК расширил штат IT-специалистов и намерен развивать биометрическую идентификацию для сыска",
          "В Intel выяснили, что принятый без проверки в код ядра Linux 6.13 патч от сотрудника Microsoft оказался проблемным",
          "AWS в течение 15 лет инвестирует $5 млрд в технологическое развитие Мексики",
          "К 2030 году в России планируют выделить 15 млрд рублей на создание более 30 центров развития робототехники",
          "НИУ ВШЭ опубликовал свой ежегодный «Мониторинг качества приёма в вузы»",
          "Российские химики создали новый фотокатализатор для очистки воды",
          "В платформе OpenAI появилась возможность «бесплатно» воспользоваться токенами",
          "Deckhouse Conf 2025: новая техническая конференция о DevOps, Kubernetes и платформенной разработке",
          "РКН: магистральный кабель повреждён в Татарстане, снижена скорость интернета у 3,8 млн россиян в 21 регионе",
          "Мой Дом — моя крепость и в нём есть сеть",
          "Meta* планирует сократить 5% сотрудников в рамках подготовки к новому этапу развития",
          "Группа «Эталон» заменила Jira на российскую систему управления ИТ-услугами SimpleOne",
          "Новейший план Microsoft Copilot для бизнеса — это оплата по факту использования",
          "Будущее AI в бизнесе: только 25% предприятий внедрили его, и лишь немногие получают выгоду",
          "Частое использование AI может снижать навыки критического мышления, особенно у молодежи",
          "В ChatGPT новая функция «Запланированные задачи» для планирования и автоматизации",
          "Авторы телеграм-каналов заработали с «Яндексом» в 2024 году 1,7 млрд рублей",
          "Минцифры РФ расширит программу «Кода будущего», включив в неё дисциплины по ИИ и робототехнике",
          "MiniMax представляет AI-модели с самой большой длиной контекста для агентов с «долговременной памятью»",
          "OpenAI тестирует регистрацию в ChatGPT только по номеру телефона",
          "«Окружающие агенты»: автоматизация повседневных задач и будущее AGI",
          "Google включает AI в Workspace бесплатно, но повышает стоимость подписки",
          "Google заключает сделку с Associated Press, чтобы предоставить Gemini больше информации в режиме реального времени",
          "Исследователь Франсуа Шолле основал новую лабораторию AI, ориентированную на создание AGI",
          "Новая функция ChatGPT под названием «Tasks» приближает его к тому, чтобы стать полноценным AI-ассистентом",
          "OpenAI сотрудничает с Axios в последней медиасделке",
          "Спокойной ночи, «Гайя»! Космический аппарат отключился после 12 лет картографирования Млечного Пути",
          "Система навигации автопилота Tesla FSD (Full Self-Driving) отображает поезд как сплющенные автомобили",
          "Nvidia поддерживает MetAI, тайваньский стартап, создающий цифровых близнецов на базе искусственного интеллекта",
          "Проект DIY FOSS-киборга позволяет работать с Linux, включая Guix и Emacs, в режиме передвижения",
          "Роскомнадзор зафиксировал за 2024 год 135 случаев утечек данных, в которых содержалось более 710 млн записей о россиянах",
          "Минцифры Татарстана: повреждение волоконно-оптического магистрального кабеля на территории республики устранено",
          "Прокуратура организовала проверку «Аэрофлота» из-за жалоб пилотов на плохую работу российского аэронавигационного ПО",
          "Вышла версия инструмента мониторинга HWiNFO 8.20",
          "Билет, которого нет: специалисты F.A.C.C.T. обнаружили новую угрозу – FakeTicketer",
          "Google сделала ИИ в Gmail и Docs бесплатным и повысила цену на Workspace",
          "«Ъ»: в крупных российских IT-компаниях сокращается количество вакансий",
          "Авиарейсы между Африкой и Австралией задерживаются из-за обломков ракет SpaceX",
          "Huawei показала зарядку для электромобилей с роборукой, которая сама подключает кабель",
          "Россияне всё чаще переходят на авторизацию в интернет-сервисах без паролей",
          "OpenAI тестирует регистрацию ChatGPT только по номеру телефона",
          "Bing перестал «притворяться» поисковиком Google",
          "Microsoft осталась лидером рынка софта для управления проектами",
          "Исследователь обнаружил обошедшее спам-фильтры Gmail фишинговое письмо",
          "Blue Origin впервые запустила ракету New Glenn, первая ступень не смогла сесть на морскую платформу и упала в море",
          "Motorola представила смартфоны Moto G 2025 и Moto G Power 2025",
          "Reuters: китайские автопроизводители хотят выкупить закрывающиеся заводы Volkswagen в Германии",
          "Google Colab обновился до Python 3.11.11",
          "О том, как в МТУСИ предложили новый метод анализа юридических текстов с помощью дерева решений и технологии TF-IDF",
          "ИТ-эксперты разработали сравнительную карту телеком-решений",
          "Электронная коммерция выросла на четверть по всей России",
          "Новый релиз Luxms BI 10.3",
          "Это небезопасно: Nintendo попросила не использовать сторонние сервисы для онлайн-игр на Wii U",
          "За 2024 год белые хакеры обнаружили более 6 тыс. уязвимостей в российских IТ-системах",
          "С 1 марта 2025 года мобильное приложение Keenetic и система удалённого мониторинга и управления перестанут работать в РФ",
          "–í 2024 –≥–æ–¥—É –Ω–∞ –ø–ª–∞—Ç—Ñ–æ—Ä–º–µ Standoff Bug Bounty –¥–æ–ª—è –æ—Ç—á–µ—Ç–æ–≤ –æ —Å–∞–º—ã—Ö –æ–ø–∞—Å–Ω—ã—Ö —É—è–∑–≤–∏–º–æ—Å—Ç—è—Ö –≤–¥–≤–æ–µ –ø—Ä–µ–≤—ã—Å–∏–ª–∞ –º–∏—Ä–æ–≤–æ–π –ø–æ–∫–∞–∑–∞—Ç–µ–ª—å",
          "Google представили Titan: архитектуру нейросетей, которая может стать новой серебряной пулей LLM",
          "–ù–∞ Admin MeetUp –æ–±—Å—É–¥–∏–ª–∏ –≤—Å–µ, —á—Ç–æ –≤–æ–ª–Ω—É–µ—Ç —Å–∏—Å–∞–¥–º–∏–Ω–æ–≤, DevOps, —Ç–µ—Ö–ª–∏–¥–æ–≤ –∏ —Ç–∏–º–ª–∏–¥–æ–≤",
          "Nintendo анонсировала Switch 2",
          "Microsoft исправила двухлетнюю ошибку безопасности Windows 11, которая отключала защиту от фишинга",
          "Тест чернильной ручки, которая делает цифровую копию рукописного текста",
          "Минцифры позволит россиянам устанавливать запрет на покупку сим‑карт без их присутствия",
          "Bluesky запускает приложение для обмена фотографиями Flashes",
          "Тест Starship Flight 7: SpaceX смогла поймать Super Heavy Booster «Мехадзиллой»",
          "Hugging Face представила бесплатный курс по работе с нейросетевыми агентами",
          "Мигающие радиоимпульсы из космоса намекают на космический объект, которого «не должно быть»",
          "Опубликовано решение первых 100 задач Проекта Эйлера с использованием 100 разных языков программирования",
          "AT&T закрыла свой домашний интернет в Нью-Йорке из-за закона, требующего тарифы по $15 пользователям с низким доходом",
          "GM запретили продавать клиентскую информацию сторонним брокерам данных и страховым компаниям в течение пяти лет",
          "Саундтреки Super Mario Bros выйдут на виниле в Японии",
          "Microsoft: обновление до Windows 11 для ПК на Windows 10 будет бесплатно всё время",
          "За 2024 год продажи умных колонок в РФ выросли на 25% и превысили 6 млн устройств",
          "Полиция Японии арестовала продавца модифицированной Nintendo Switch с пиратскими играми",
          "Российские пользователи iPhone столкнулись с проблемами в работе модуля eSIM",
          "Microsoft расширила программу ремонтопригодности Xbox",
          "Гендиректор Replit о прорывах ИИ: «Мы больше не заботимся о профессиональных кодерах»",
          "Google решила не соблюдать закон ЕС о проверке фактов",
          "LinkedIn внедрила ИИ-функцию Job Match для отсева нерелевантных откликов",
          "Роскомнадзор будет автоматически отслеживать нарушения в обороте персональных данных",
          "Суд отклонил иск инвестора, недовольного ходом реструктуризации «Яндекса»",
          "Представлена технология управления мобильными приложениями на ходу с помощью ног",
          "Вышел Chrome 132",
          "В РФ продлили право бесплатного проезда по платным трассам только для электромобилей российской сборки",
          "В VK Cloud добавили полнотекстовый поисковый движок MeiliSearch",
          "В Huawei заявили о нарушении дуополии Android и iOS на рынке ОС",
          "VK Education назвала навыки года среди студентов и выпускников",
          "Oracle анонсировала новый проект для улучшения отладки ядра Linux под названием Oracle Linux Enhanced Diagnostics",
          "Глобальный сбой в работе Steam, игровые сервисы начали возвращаться к работе",
          "Энтузиаст создал ювелирное изделие в виде цифровой подвески с имитацией жидкости",
          "Приглашаем на вебинар «Управляй и развивай: роль систем класса IdM в оптимизации бизнес-процессов»",
          "Kama Flow: потенциал частных инвестиций в электронику составляет 336 млрд рублей",
          "FAA пришлось замедлить и перенаправить самолёты вблизи района, где заметили падающие обломки Starship",
          "«Лаборатория Касперского» подписала пакт Европейской комиссии об искусственном интеллекте",
          "В VK Cloud добавили полнотекстовый поисковый движок MeiliSearch",
          "Роскомнадзор пояснил проблемы в работе сервиса Steam со сбоем в его инфраструктуре",
          "Сервис для борьбы с мошенничеством на основе ИИ AI or Not привлёк 5 миллионов долларов",
          "Резидент Сколково разработал технологию выделения изотопа углерода для создания ядерных батареек"
         ],
         "type": "scatter3d",
         "x": [
          0.09366294981720216,
          -0.045799566078337725,
          -0.05176126311599336,
          -0.08760483446835522,
          0.024670710017774163,
          -0.01885235574914717,
          -0.12329496861100842,
          -0.17303933645012692,
          -0.0003478518546946686,
          -0.013211035917000884,
          0.03994573951207628,
          -0.2904920290622265,
          0.042082399237681284,
          -0.006467118034415762,
          0.043627255876380215,
          0.3942876014709611,
          0.19068894620446358,
          -0.0200684678898815,
          0.28762176411188745,
          -0.11602931884825261,
          -0.11922004524777251,
          0.09865123607492418,
          0.3677428850316123,
          0.20776629463353366,
          0.3850058201508993,
          0.14870165218494277,
          0.11488727444568488,
          0.3291568814857743,
          0.0631781625834928,
          -0.11502916583243042,
          -0.07889179799988463,
          0.09355896100637062,
          -0.04142503448442813,
          -0.23364987508127155,
          -0.29376192331490464,
          -0.09403824125116934,
          -0.02342997298105248,
          0.005901336414084828,
          0.33966105402862046,
          -0.1535058075436645,
          -0.118828405888632,
          -0.1228908598624972,
          -0.03680292892760022,
          0.43742848356099656,
          0.07459588294687305,
          -0.16369264096210231,
          0.07877005102794964,
          -0.10356935781655727,
          -0.03459492575648622,
          -0.10856982031249864,
          -0.010133895340731747,
          0.006420805824010375,
          -0.09092560709357785,
          -0.2545187692169447,
          0.03072774255737438,
          -0.037230048027206086,
          -0.1494481386259834,
          0.014059378992867386,
          -0.04579956607833753,
          0.04866878551357767,
          -0.04579956607833753,
          -0.08953710719730715,
          0.09124113367794223,
          0.07755639155873346,
          -0.04735781676978546,
          0.08165188345942866,
          -0.14849955239239995,
          -0.030038799283692384,
          -0.042525152158454996,
          -0.004471340896240613,
          0.13435716772565598,
          -0.0009846007670342898,
          -0.09371654453244471,
          0.11375734379424701,
          -0.23324409715487948,
          -0.11235769176603148,
          -0.01998413523600663,
          0.0344983056848951,
          0.125637170327311,
          0.03760079815039654,
          0.1539889755959788,
          -0.11962238283395302,
          -0.12758775030076072,
          0.012688964789846345,
          0.1146058118520811,
          -0.14174932731199014,
          0.05070670344396897,
          0.06747417654213494,
          -0.10759314206732418,
          0.1101129048518722,
          -0.13085003281954496,
          -0.030329296420034117,
          -0.03442292816943771,
          -0.1945862114564225,
          -0.12995495672409288,
          0.10006035989466137,
          0.043637419273656025,
          -0.17670930935773915,
          0.15826571279813675,
          -0.030464562713872104
         ],
         "y": [
          0.02748544312506387,
          0.006419923508236751,
          0.16491661050299877,
          -0.08312228015417242,
          -0.07936011902361718,
          -0.10625693631591158,
          -0.10671731275901988,
          -0.13051886788076603,
          -0.14688763376105954,
          -0.01909016476397321,
          -0.10918344521255806,
          0.5361276350517424,
          -0.02248601995982535,
          -0.06869643830240733,
          -0.10654690464574457,
          0.02218982326658623,
          -0.16589981495345976,
          -0.1213767377574182,
          0.1116160330053902,
          -0.022292944679651802,
          -0.1923005080306463,
          -0.20484451800091477,
          0.2311343591302247,
          -0.08203497764676652,
          0.20790276261139848,
          -0.04190782819502033,
          -0.14755464185876166,
          0.08029982348903895,
          -0.022075252405045997,
          -0.04590331450380284,
          0.10961225282233131,
          -0.17708593081120322,
          -0.02589162907237112,
          0.12922119892081202,
          0.5311634264816012,
          0.003784616191956252,
          -0.022435137378976542,
          -0.01945282530971521,
          0.1713792594355425,
          -0.030461695930474878,
          -0.004425974477478153,
          0.208376776400742,
          0.06986505090376763,
          0.2870201998624626,
          0.0009160058546913061,
          -0.10781454583825521,
          0.13893434030168791,
          -0.05273276999183515,
          -0.0077484077922890075,
          0.009080472585732186,
          0.007975899465307542,
          -0.20862615692532488,
          -0.13070274092886705,
          -0.04499973455808623,
          -0.03977941728999275,
          0.09832303185834892,
          -0.020971027392640604,
          0.11537756627036606,
          0.006419923508236815,
          -0.1252544677360013,
          0.006419923508236815,
          -0.01278137402823208,
          0.043615515916727104,
          -0.06253162803676017,
          0.23368880880420775,
          0.010167495381704854,
          -0.060151991944792885,
          -0.17932222750859647,
          -0.007051882689221774,
          -0.12016514481401866,
          0.21307104404994145,
          0.0671070187200177,
          -0.01838998033951629,
          0.1696856125177739,
          -0.02148634041829185,
          0.051986169434477675,
          0.11767424800554828,
          0.035730647538038375,
          -0.11671749337394416,
          -0.011958929162794365,
          0.030093257876272716,
          0.049833770367667916,
          -0.0541187165689251,
          -0.07048251907149207,
          0.0872482219767635,
          0.039263103617337335,
          -0.10445948501392927,
          -0.13323017129718454,
          -0.18360596706623614,
          -0.1362340260209972,
          0.24212107558118856,
          -0.015867967103206534,
          -0.008775845880613404,
          -0.13388026938247755,
          -0.06553076697252161,
          -0.11687286894960473,
          -0.123732076805868,
          0.3148593411448685,
          -0.08943662216874408,
          -0.09788427213301361
         ],
         "z": [
          0.07375729440466477,
          -0.02663657601799843,
          -0.035053357409243494,
          -0.01038390243398408,
          0.05192203913635611,
          -0.03758951506675314,
          -0.016816374798938334,
          -0.09257501492201545,
          -0.00995243921114141,
          -0.010916294172720472,
          0.02360559048102391,
          0.13911304966252042,
          -0.008756043158295822,
          -0.03723445745519569,
          0.16390410546218911,
          -0.00034628532693662225,
          0.015851968344342455,
          -0.0536572267178199,
          -0.04098306844528682,
          -0.04629164256736241,
          -0.025567997841126858,
          0.06377303502558697,
          -0.10959234889710605,
          -0.014038082630561156,
          -0.10669590112245032,
          0.11168938522802567,
          -0.05598586706231639,
          -0.03162933685756666,
          0.12058930879433744,
          -0.18265790986315028,
          -0.11667900715792424,
          0.0019862799444176293,
          -0.015847851861932487,
          0.01297918094271718,
          0.10994774933502711,
          0.015549931578016762,
          0.06421846104804523,
          -0.06486058128561349,
          -0.06924676957883288,
          0.03363950457778582,
          -0.26240640401205767,
          -0.0848758441829473,
          -0.013733039508319807,
          -0.12974646316245944,
          0.1606945305396912,
          0.11359711084884863,
          -0.11428835917746641,
          -0.22874569757007415,
          -0.08654772279070398,
          -0.10990360983272214,
          0.004046820234693475,
          0.06457512024836394,
          0.10057036504172048,
          0.010472297991291115,
          0.15489171779146169,
          0.0013690440404650174,
          0.014205910845748645,
          0.11463617036300437,
          -0.026636576017998393,
          0.06174415933661789,
          -0.026636576017998393,
          -0.1411209845709364,
          -0.03903722277061318,
          -0.04675079698910059,
          -0.03524594121048311,
          -0.09374486931902831,
          -0.3508072413478403,
          -0.060578742200607105,
          -0.13694507475195378,
          -0.0009647379978947195,
          -0.06519599625841552,
          -0.08979544044257186,
          -0.07537537432508772,
          -0.07883375775978649,
          0.02187070941640664,
          -0.11968307846050197,
          0.07682886175549183,
          -0.03289861333255143,
          -0.07593451474899736,
          0.13207986248237563,
          0.021578877883059316,
          0.08491565234066929,
          -0.05385869567276142,
          -0.040201276583402196,
          0.07543579262874049,
          -0.1430538048200095,
          0.5818663371028702,
          0.00424243935125546,
          0.037312630033224894,
          0.1293649562441404,
          0.2783438241441061,
          -0.033914269644881964,
          0.08375345835122469,
          -0.00789420624074467,
          -0.2978352428333068,
          0.04926441977161331,
          0.551179700534907,
          0.3328751339405407,
          0.06670688995295981,
          -0.007765650764050554
         ]
        }
       ],
       "frames": [
        {
         "layout": {
          "scene": {
           "camera": {
            "eye": {
             "x": 2,
             "y": 0,
             "z": 1.5
            }
           }
          }
         }
        },
        {
         "layout": {
          "scene": {
           "camera": {
            "eye": {
             "x": 1.969615506024416,
             "y": 0.34729635533386066,
             "z": 1.5
            }
           }
          }
         }
        },
        {
         "layout": {
          "scene": {
           "camera": {
            "eye": {
             "x": 1.8793852415718169,
             "y": 0.6840402866513374,
             "z": 1.5
            }
           }
          }
         }
        },
        {
         "layout": {
          "scene": {
           "camera": {
            "eye": {
             "x": 1.7320508075688774,
             "y": 0.9999999999999999,
             "z": 1.5
            }
           }
          }
         }
        },
        {
         "layout": {
          "scene": {
           "camera": {
            "eye": {
             "x": 1.532088886237956,
             "y": 1.2855752193730785,
             "z": 1.5
            }
           }
          }
         }
        },
        {
         "layout": {
          "scene": {
           "camera": {
            "eye": {
             "x": 1.2855752193730787,
             "y": 1.532088886237956,
             "z": 1.5
            }
           }
          }
         }
        },
        {
         "layout": {
          "scene": {
           "camera": {
            "eye": {
             "x": 1.0000000000000002,
             "y": 1.7320508075688772,
             "z": 1.5
            }
           }
          }
         }
        },
        {
         "layout": {
          "scene": {
           "camera": {
            "eye": {
             "x": 0.6840402866513376,
             "y": 1.8793852415718166,
             "z": 1.5
            }
           }
          }
         }
        },
        {
         "layout": {
          "scene": {
           "camera": {
            "eye": {
             "x": 0.34729635533386083,
             "y": 1.969615506024416,
             "z": 1.5
            }
           }
          }
         }
        },
        {
         "layout": {
          "scene": {
           "camera": {
            "eye": {
             "x": 1.2246467991473532e-16,
             "y": 2,
             "z": 1.5
            }
           }
          }
         }
        },
        {
         "layout": {
          "scene": {
           "camera": {
            "eye": {
             "x": -0.3472963553338606,
             "y": 1.969615506024416,
             "z": 1.5
            }
           }
          }
         }
        },
        {
         "layout": {
          "scene": {
           "camera": {
            "eye": {
             "x": -0.6840402866513374,
             "y": 1.8793852415718169,
             "z": 1.5
            }
           }
          }
         }
        },
        {
         "layout": {
          "scene": {
           "camera": {
            "eye": {
             "x": -0.9999999999999996,
             "y": 1.7320508075688774,
             "z": 1.5
            }
           }
          }
         }
        },
        {
         "layout": {
          "scene": {
           "camera": {
            "eye": {
             "x": -1.2855752193730787,
             "y": 1.532088886237956,
             "z": 1.5
            }
           }
          }
         }
        },
        {
         "layout": {
          "scene": {
           "camera": {
            "eye": {
             "x": -1.5320888862379558,
             "y": 1.285575219373079,
             "z": 1.5
            }
           }
          }
         }
        },
        {
         "layout": {
          "scene": {
           "camera": {
            "eye": {
             "x": -1.7320508075688774,
             "y": 0.9999999999999999,
             "z": 1.5
            }
           }
          }
         }
        },
        {
         "layout": {
          "scene": {
           "camera": {
            "eye": {
             "x": -1.8793852415718166,
             "y": 0.6840402866513378,
             "z": 1.5
            }
           }
          }
         }
        },
        {
         "layout": {
          "scene": {
           "camera": {
            "eye": {
             "x": -1.969615506024416,
             "y": 0.34729635533386055,
             "z": 1.5
            }
           }
          }
         }
        },
        {
         "layout": {
          "scene": {
           "camera": {
            "eye": {
             "x": -2,
             "y": 2.4492935982947064e-16,
             "z": 1.5
            }
           }
          }
         }
        },
        {
         "layout": {
          "scene": {
           "camera": {
            "eye": {
             "x": -1.969615506024416,
             "y": -0.34729635533386094,
             "z": 1.5
            }
           }
          }
         }
        },
        {
         "layout": {
          "scene": {
           "camera": {
            "eye": {
             "x": -1.8793852415718169,
             "y": -0.6840402866513373,
             "z": 1.5
            }
           }
          }
         }
        },
        {
         "layout": {
          "scene": {
           "camera": {
            "eye": {
             "x": -1.7320508075688772,
             "y": -1.0000000000000002,
             "z": 1.5
            }
           }
          }
         }
        },
        {
         "layout": {
          "scene": {
           "camera": {
            "eye": {
             "x": -1.532088886237956,
             "y": -1.2855752193730785,
             "z": 1.5
            }
           }
          }
         }
        },
        {
         "layout": {
          "scene": {
           "camera": {
            "eye": {
             "x": -1.285575219373079,
             "y": -1.5320888862379558,
             "z": 1.5
            }
           }
          }
         }
        },
        {
         "layout": {
          "scene": {
           "camera": {
            "eye": {
             "x": -1.0000000000000009,
             "y": -1.7320508075688767,
             "z": 1.5
            }
           }
          }
         }
        },
        {
         "layout": {
          "scene": {
           "camera": {
            "eye": {
             "x": -0.6840402866513371,
             "y": -1.8793852415718169,
             "z": 1.5
            }
           }
          }
         }
        },
        {
         "layout": {
          "scene": {
           "camera": {
            "eye": {
             "x": -0.34729635533386066,
             "y": -1.969615506024416,
             "z": 1.5
            }
           }
          }
         }
        },
        {
         "layout": {
          "scene": {
           "camera": {
            "eye": {
             "x": -3.6739403974420594e-16,
             "y": -2,
             "z": 1.5
            }
           }
          }
         }
        },
        {
         "layout": {
          "scene": {
           "camera": {
            "eye": {
             "x": 0.34729635533385994,
             "y": -1.9696155060244163,
             "z": 1.5
            }
           }
          }
         }
        },
        {
         "layout": {
          "scene": {
           "camera": {
            "eye": {
             "x": 0.684040286651338,
             "y": -1.8793852415718166,
             "z": 1.5
            }
           }
          }
         }
        },
        {
         "layout": {
          "scene": {
           "camera": {
            "eye": {
             "x": 1.0000000000000002,
             "y": -1.7320508075688772,
             "z": 1.5
            }
           }
          }
         }
        },
        {
         "layout": {
          "scene": {
           "camera": {
            "eye": {
             "x": 1.2855752193730785,
             "y": -1.5320888862379562,
             "z": 1.5
            }
           }
          }
         }
        },
        {
         "layout": {
          "scene": {
           "camera": {
            "eye": {
             "x": 1.5320888862379556,
             "y": -1.2855752193730792,
             "z": 1.5
            }
           }
          }
         }
        },
        {
         "layout": {
          "scene": {
           "camera": {
            "eye": {
             "x": 1.7320508075688767,
             "y": -1.0000000000000009,
             "z": 1.5
            }
           }
          }
         }
        },
        {
         "layout": {
          "scene": {
           "camera": {
            "eye": {
             "x": 1.8793852415718169,
             "y": -0.6840402866513372,
             "z": 1.5
            }
           }
          }
         }
        },
        {
         "layout": {
          "scene": {
           "camera": {
            "eye": {
             "x": 1.969615506024416,
             "y": -0.3472963553338608,
             "z": 1.5
            }
           }
          }
         }
        }
       ],
       "layout": {
        "margin": {
         "b": 0,
         "l": 0,
         "r": 0,
         "t": 50
        },
        "scene": {
         "xaxis": {
          "title": {
           "text": "PC1"
          }
         },
         "yaxis": {
          "title": {
           "text": "PC2"
          }
         },
         "zaxis": {
          "title": {
           "text": "PC3"
          }
         }
        },
        "template": {
         "data": {
          "bar": [
           {
            "error_x": {
             "color": "#2a3f5f"
            },
            "error_y": {
             "color": "#2a3f5f"
            },
            "marker": {
             "line": {
              "color": "#E5ECF6",
              "width": 0.5
             },
             "pattern": {
              "fillmode": "overlay",
              "size": 10,
              "solidity": 0.2
             }
            },
            "type": "bar"
           }
          ],
          "barpolar": [
           {
            "marker": {
             "line": {
              "color": "#E5ECF6",
              "width": 0.5
             },
             "pattern": {
              "fillmode": "overlay",
              "size": 10,
              "solidity": 0.2
             }
            },
            "type": "barpolar"
           }
          ],
          "carpet": [
           {
            "aaxis": {
             "endlinecolor": "#2a3f5f",
             "gridcolor": "white",
             "linecolor": "white",
             "minorgridcolor": "white",
             "startlinecolor": "#2a3f5f"
            },
            "baxis": {
             "endlinecolor": "#2a3f5f",
             "gridcolor": "white",
             "linecolor": "white",
             "minorgridcolor": "white",
             "startlinecolor": "#2a3f5f"
            },
            "type": "carpet"
           }
          ],
          "choropleth": [
           {
            "colorbar": {
             "outlinewidth": 0,
             "ticks": ""
            },
            "type": "choropleth"
           }
          ],
          "contour": [
           {
            "colorbar": {
             "outlinewidth": 0,
             "ticks": ""
            },
            "colorscale": [
             [
              0,
              "#0d0887"
             ],
             [
              0.1111111111111111,
              "#46039f"
             ],
             [
              0.2222222222222222,
              "#7201a8"
             ],
             [
              0.3333333333333333,
              "#9c179e"
             ],
             [
              0.4444444444444444,
              "#bd3786"
             ],
             [
              0.5555555555555556,
              "#d8576b"
             ],
             [
              0.6666666666666666,
              "#ed7953"
             ],
             [
              0.7777777777777778,
              "#fb9f3a"
             ],
             [
              0.8888888888888888,
              "#fdca26"
             ],
             [
              1,
              "#f0f921"
             ]
            ],
            "type": "contour"
           }
          ],
          "contourcarpet": [
           {
            "colorbar": {
             "outlinewidth": 0,
             "ticks": ""
            },
            "type": "contourcarpet"
           }
          ],
          "heatmap": [
           {
            "colorbar": {
             "outlinewidth": 0,
             "ticks": ""
            },
            "colorscale": [
             [
              0,
              "#0d0887"
             ],
             [
              0.1111111111111111,
              "#46039f"
             ],
             [
              0.2222222222222222,
              "#7201a8"
             ],
             [
              0.3333333333333333,
              "#9c179e"
             ],
             [
              0.4444444444444444,
              "#bd3786"
             ],
             [
              0.5555555555555556,
              "#d8576b"
             ],
             [
              0.6666666666666666,
              "#ed7953"
             ],
             [
              0.7777777777777778,
              "#fb9f3a"
             ],
             [
              0.8888888888888888,
              "#fdca26"
             ],
             [
              1,
              "#f0f921"
             ]
            ],
            "type": "heatmap"
           }
          ],
          "heatmapgl": [
           {
            "colorbar": {
             "outlinewidth": 0,
             "ticks": ""
            },
            "colorscale": [
             [
              0,
              "#0d0887"
             ],
             [
              0.1111111111111111,
              "#46039f"
             ],
             [
              0.2222222222222222,
              "#7201a8"
             ],
             [
              0.3333333333333333,
              "#9c179e"
             ],
             [
              0.4444444444444444,
              "#bd3786"
             ],
             [
              0.5555555555555556,
              "#d8576b"
             ],
             [
              0.6666666666666666,
              "#ed7953"
             ],
             [
              0.7777777777777778,
              "#fb9f3a"
             ],
             [
              0.8888888888888888,
              "#fdca26"
             ],
             [
              1,
              "#f0f921"
             ]
            ],
            "type": "heatmapgl"
           }
          ],
          "histogram": [
           {
            "marker": {
             "pattern": {
              "fillmode": "overlay",
              "size": 10,
              "solidity": 0.2
             }
            },
            "type": "histogram"
           }
          ],
          "histogram2d": [
           {
            "colorbar": {
             "outlinewidth": 0,
             "ticks": ""
            },
            "colorscale": [
             [
              0,
              "#0d0887"
             ],
             [
              0.1111111111111111,
              "#46039f"
             ],
             [
              0.2222222222222222,
              "#7201a8"
             ],
             [
              0.3333333333333333,
              "#9c179e"
             ],
             [
              0.4444444444444444,
              "#bd3786"
             ],
             [
              0.5555555555555556,
              "#d8576b"
             ],
             [
              0.6666666666666666,
              "#ed7953"
             ],
             [
              0.7777777777777778,
              "#fb9f3a"
             ],
             [
              0.8888888888888888,
              "#fdca26"
             ],
             [
              1,
              "#f0f921"
             ]
            ],
            "type": "histogram2d"
           }
          ],
          "histogram2dcontour": [
           {
            "colorbar": {
             "outlinewidth": 0,
             "ticks": ""
            },
            "colorscale": [
             [
              0,
              "#0d0887"
             ],
             [
              0.1111111111111111,
              "#46039f"
             ],
             [
              0.2222222222222222,
              "#7201a8"
             ],
             [
              0.3333333333333333,
              "#9c179e"
             ],
             [
              0.4444444444444444,
              "#bd3786"
             ],
             [
              0.5555555555555556,
              "#d8576b"
             ],
             [
              0.6666666666666666,
              "#ed7953"
             ],
             [
              0.7777777777777778,
              "#fb9f3a"
             ],
             [
              0.8888888888888888,
              "#fdca26"
             ],
             [
              1,
              "#f0f921"
             ]
            ],
            "type": "histogram2dcontour"
           }
          ],
          "mesh3d": [
           {
            "colorbar": {
             "outlinewidth": 0,
             "ticks": ""
            },
            "type": "mesh3d"
           }
          ],
          "parcoords": [
           {
            "line": {
             "colorbar": {
              "outlinewidth": 0,
              "ticks": ""
             }
            },
            "type": "parcoords"
           }
          ],
          "pie": [
           {
            "automargin": true,
            "type": "pie"
           }
          ],
          "scatter": [
           {
            "fillpattern": {
             "fillmode": "overlay",
             "size": 10,
             "solidity": 0.2
            },
            "type": "scatter"
           }
          ],
          "scatter3d": [
           {
            "line": {
             "colorbar": {
              "outlinewidth": 0,
              "ticks": ""
             }
            },
            "marker": {
             "colorbar": {
              "outlinewidth": 0,
              "ticks": ""
             }
            },
            "type": "scatter3d"
           }
          ],
          "scattercarpet": [
           {
            "marker": {
             "colorbar": {
              "outlinewidth": 0,
              "ticks": ""
             }
            },
            "type": "scattercarpet"
           }
          ],
          "scattergeo": [
           {
            "marker": {
             "colorbar": {
              "outlinewidth": 0,
              "ticks": ""
             }
            },
            "type": "scattergeo"
           }
          ],
          "scattergl": [
           {
            "marker": {
             "colorbar": {
              "outlinewidth": 0,
              "ticks": ""
             }
            },
            "type": "scattergl"
           }
          ],
          "scattermapbox": [
           {
            "marker": {
             "colorbar": {
              "outlinewidth": 0,
              "ticks": ""
             }
            },
            "type": "scattermapbox"
           }
          ],
          "scatterpolar": [
           {
            "marker": {
             "colorbar": {
              "outlinewidth": 0,
              "ticks": ""
             }
            },
            "type": "scatterpolar"
           }
          ],
          "scatterpolargl": [
           {
            "marker": {
             "colorbar": {
              "outlinewidth": 0,
              "ticks": ""
             }
            },
            "type": "scatterpolargl"
           }
          ],
          "scatterternary": [
           {
            "marker": {
             "colorbar": {
              "outlinewidth": 0,
              "ticks": ""
             }
            },
            "type": "scatterternary"
           }
          ],
          "surface": [
           {
            "colorbar": {
             "outlinewidth": 0,
             "ticks": ""
            },
            "colorscale": [
             [
              0,
              "#0d0887"
             ],
             [
              0.1111111111111111,
              "#46039f"
             ],
             [
              0.2222222222222222,
              "#7201a8"
             ],
             [
              0.3333333333333333,
              "#9c179e"
             ],
             [
              0.4444444444444444,
              "#bd3786"
             ],
             [
              0.5555555555555556,
              "#d8576b"
             ],
             [
              0.6666666666666666,
              "#ed7953"
             ],
             [
              0.7777777777777778,
              "#fb9f3a"
             ],
             [
              0.8888888888888888,
              "#fdca26"
             ],
             [
              1,
              "#f0f921"
             ]
            ],
            "type": "surface"
           }
          ],
          "table": [
           {
            "cells": {
             "fill": {
              "color": "#EBF0F8"
             },
             "line": {
              "color": "white"
             }
            },
            "header": {
             "fill": {
              "color": "#C8D4E3"
             },
             "line": {
              "color": "white"
             }
            },
            "type": "table"
           }
          ]
         },
         "layout": {
          "annotationdefaults": {
           "arrowcolor": "#2a3f5f",
           "arrowhead": 0,
           "arrowwidth": 1
          },
          "autotypenumbers": "strict",
          "coloraxis": {
           "colorbar": {
            "outlinewidth": 0,
            "ticks": ""
           }
          },
          "colorscale": {
           "diverging": [
            [
             0,
             "#8e0152"
            ],
            [
             0.1,
             "#c51b7d"
            ],
            [
             0.2,
             "#de77ae"
            ],
            [
             0.3,
             "#f1b6da"
            ],
            [
             0.4,
             "#fde0ef"
            ],
            [
             0.5,
             "#f7f7f7"
            ],
            [
             0.6,
             "#e6f5d0"
            ],
            [
             0.7,
             "#b8e186"
            ],
            [
             0.8,
             "#7fbc41"
            ],
            [
             0.9,
             "#4d9221"
            ],
            [
             1,
             "#276419"
            ]
           ],
           "sequential": [
            [
             0,
             "#0d0887"
            ],
            [
             0.1111111111111111,
             "#46039f"
            ],
            [
             0.2222222222222222,
             "#7201a8"
            ],
            [
             0.3333333333333333,
             "#9c179e"
            ],
            [
             0.4444444444444444,
             "#bd3786"
            ],
            [
             0.5555555555555556,
             "#d8576b"
            ],
            [
             0.6666666666666666,
             "#ed7953"
            ],
            [
             0.7777777777777778,
             "#fb9f3a"
            ],
            [
             0.8888888888888888,
             "#fdca26"
            ],
            [
             1,
             "#f0f921"
            ]
           ],
           "sequentialminus": [
            [
             0,
             "#0d0887"
            ],
            [
             0.1111111111111111,
             "#46039f"
            ],
            [
             0.2222222222222222,
             "#7201a8"
            ],
            [
             0.3333333333333333,
             "#9c179e"
            ],
            [
             0.4444444444444444,
             "#bd3786"
            ],
            [
             0.5555555555555556,
             "#d8576b"
            ],
            [
             0.6666666666666666,
             "#ed7953"
            ],
            [
             0.7777777777777778,
             "#fb9f3a"
            ],
            [
             0.8888888888888888,
             "#fdca26"
            ],
            [
             1,
             "#f0f921"
            ]
           ]
          },
          "colorway": [
           "#636efa",
           "#EF553B",
           "#00cc96",
           "#ab63fa",
           "#FFA15A",
           "#19d3f3",
           "#FF6692",
           "#B6E880",
           "#FF97FF",
           "#FECB52"
          ],
          "font": {
           "color": "#2a3f5f"
          },
          "geo": {
           "bgcolor": "white",
           "lakecolor": "white",
           "landcolor": "#E5ECF6",
           "showlakes": true,
           "showland": true,
           "subunitcolor": "white"
          },
          "hoverlabel": {
           "align": "left"
          },
          "hovermode": "closest",
          "mapbox": {
           "style": "light"
          },
          "paper_bgcolor": "white",
          "plot_bgcolor": "#E5ECF6",
          "polar": {
           "angularaxis": {
            "gridcolor": "white",
            "linecolor": "white",
            "ticks": ""
           },
           "bgcolor": "#E5ECF6",
           "radialaxis": {
            "gridcolor": "white",
            "linecolor": "white",
            "ticks": ""
           }
          },
          "scene": {
           "xaxis": {
            "backgroundcolor": "#E5ECF6",
            "gridcolor": "white",
            "gridwidth": 2,
            "linecolor": "white",
            "showbackground": true,
            "ticks": "",
            "zerolinecolor": "white"
           },
           "yaxis": {
            "backgroundcolor": "#E5ECF6",
            "gridcolor": "white",
            "gridwidth": 2,
            "linecolor": "white",
            "showbackground": true,
            "ticks": "",
            "zerolinecolor": "white"
           },
           "zaxis": {
            "backgroundcolor": "#E5ECF6",
            "gridcolor": "white",
            "gridwidth": 2,
            "linecolor": "white",
            "showbackground": true,
            "ticks": "",
            "zerolinecolor": "white"
           }
          },
          "shapedefaults": {
           "line": {
            "color": "#2a3f5f"
           }
          },
          "ternary": {
           "aaxis": {
            "gridcolor": "white",
            "linecolor": "white",
            "ticks": ""
           },
           "baxis": {
            "gridcolor": "white",
            "linecolor": "white",
            "ticks": ""
           },
           "bgcolor": "#E5ECF6",
           "caxis": {
            "gridcolor": "white",
            "linecolor": "white",
            "ticks": ""
           }
          },
          "title": {
           "x": 0.05
          },
          "xaxis": {
           "automargin": true,
           "gridcolor": "white",
           "linecolor": "white",
           "ticks": "",
           "title": {
            "standoff": 15
           },
           "zerolinecolor": "white",
           "zerolinewidth": 2
          },
          "yaxis": {
           "automargin": true,
           "gridcolor": "white",
           "linecolor": "white",
           "ticks": "",
           "title": {
            "standoff": 15
           },
           "zerolinecolor": "white",
           "zerolinewidth": 2
          }
         }
        },
        "title": {
         "text": "3D PCA визуализация статей"
        },
        "updatemenus": [
         {
          "buttons": [
           {
            "args": [
             null,
             {
              "frame": {
               "duration": 50,
               "redraw": true
              },
              "fromcurrent": true,
              "mode": "immediate",
              "transition": {
               "duration": 0
              }
             }
            ],
            "label": "Вращать",
            "method": "animate"
           }
          ],
          "showactive": false,
          "type": "buttons",
          "x": 1.05,
          "xanchor": "left",
          "y": 0.8,
          "yanchor": "top"
         }
        ]
       }
      },
      "image/png": "[encoded data removed]",
      "text/html": [
       "<div>                            <div id=\"fc2269fa-fa24-4617-998d-b4437357ec52\" class=\"plotly-graph-div\" style=\"height:525px; width:100%;\"></div>            <script type=\"text/javascript\">                require([\"plotly\"], function(Plotly) {                    window.PLOTLYENV=window.PLOTLYENV || {};                                    if (document.getElementById(\"fc2269fa-fa24-4617-998d-b4437357ec52\")) {                    Plotly.newPlot(                        \"fc2269fa-fa24-4617-998d-b4437357ec52\",                        [{\"hovertemplate\":\"%{text}\\u003cextra\\u003e\\u003c\\u002fextra\\u003e\",\"marker\":{\"color\":[-1,-1,-1,-1,-1,-1,-1,-1,-1,-1,-1,0,-1,-1,-1,-1,-1,-1,-1,-1,-1,-1,1,-1,-1,-1,-1,-1,-1,-1,-1,-1,-1,-1,0,-1,-1,-1,-1,-1,-1,-1,-1,1,-1,-1,-1,-1,-1,-1,-1,-1,-1,-1,-1,-1,-1,-1,-1,-1,-1,-1,-1,-1,-1,-1,-1,-1,-1,-1,-1,-1,-1,-1,-1,-1,-1,-1,-1,-1,-1,-1,-1,-1,-1,-1,2,-1,-1,-1,-1,-1,-1,-1,-1,-1,2,-1,-1,-1],\"colorscale\":[[0.0,\"#440154\"],[0.1111111111111111,\"#482878\"],[0.2222222222222222,\"#3e4989\"],[0.3333333333333333,\"#31688e\"],[0.4444444444444444,\"#26828e\"],[0.5555555555555556,\"#1f9e89\"],[0.6666666666666666,\"#35b779\"],[0.7777777777777778,\"#6ece58\"],[0.8888888888888888,\"#b5de2b\"],[1.0,\"#fde725\"]],\"opacity\":0.8,\"size\":5},\"mode\":\"markers\",\"text\":[\"nanoCAD GeoniCS 24.1 \\u2013 \\u0432\\u0442\\u043e\\u0440\\u043e\\u0435 \\u0442\\u0435\\u0445\\u043d\\u0438\\u0447\\u0435\\u0441\\u043a\\u043e\\u0435 \\u043e\\u0431\\u043d\\u043e\\u0432\\u043b\\u0435\\u043d\\u0438\\u0435 \\u043d\\u0430 \\u0431\\u0430\\u0437\\u0435 \\u041f\\u043b\\u0430\\u0442\\u0444\\u043e\\u0440\\u043c\\u044b nanoCAD 24.1 \\u043f\\u043e\\u0434 Windows\",\"\\u2013\\u00f5\\u2014\\u00c9\\u2014\\u00e1\\u2014\\u00e0\\u2013\\u00b5\\u2013\\u00b5 \\u2013\\u2211\\u2013\\u221e \\u2013\\u03a9\\u2013\\u00b5\\u2013\\u00a5\\u2013\\u00b5\\u2013\\u00aa\\u2014\\u00e9 (23.12 \\u201a\\u00c4\\u00ee 28.12)\",\"\\u041e\\u043f\\u0435\\u0440\\u0430\\u0442\\u043e\\u0440\\u044b \\u0441\\u0432\\u044f\\u0437\\u0438 \\u043d\\u0430\\u043b\\u0430\\u0434\\u0438\\u043b\\u0438 \\u043f\\u0440\\u0435\\u0441\\u0435\\u0447\\u0435\\u043d\\u0438\\u0435 \\u043d\\u0435\\u0437\\u0430\\u043a\\u043e\\u043d\\u043d\\u043e\\u0433\\u043e \\u0434\\u043e\\u0441\\u0442\\u0443\\u043f\\u0430 \\u043a \\u00ab\\u0413\\u043e\\u0441\\u0443\\u0441\\u043b\\u0443\\u0433\\u0430\\u043c\\u00bb\",\"\\u0421\\u041a \\u0440\\u0430\\u0441\\u0448\\u0438\\u0440\\u0438\\u043b \\u0448\\u0442\\u0430\\u0442 IT-\\u0441\\u043f\\u0435\\u0446\\u0438\\u0430\\u043b\\u0438\\u0441\\u0442\\u043e\\u0432 \\u0438 \\u043d\\u0430\\u043c\\u0435\\u0440\\u0435\\u043d \\u0440\\u0430\\u0437\\u0432\\u0438\\u0432\\u0430\\u0442\\u044c \\u0431\\u0438\\u043e\\u043c\\u0435\\u0442\\u0440\\u0438\\u0447\\u0435\\u0441\\u043a\\u0443\\u044e \\u0438\\u0434\\u0435\\u043d\\u0442\\u0438\\u0444\\u0438\\u043a\\u0430\\u0446\\u0438\\u044e \\u0434\\u043b\\u044f \\u0441\\u044b\\u0441\\u043a\\u0430\",\"\\u0412 Intel \\u0432\\u044b\\u044f\\u0441\\u043d\\u0438\\u043b\\u0438, \\u0447\\u0442\\u043e \\u043f\\u0440\\u0438\\u043d\\u044f\\u0442\\u044b\\u0439 \\u0431\\u0435\\u0437 \\u043f\\u0440\\u043e\\u0432\\u0435\\u0440\\u043a\\u0438 \\u0432 \\u043a\\u043e\\u0434 \\u044f\\u0434\\u0440\\u0430 Linux 6.13 \\u043f\\u0430\\u0442\\u0447 \\u043e\\u0442 \\u0441\\u043e\\u0442\\u0440\\u0443\\u0434\\u043d\\u0438\\u043a\\u0430 Microsoft \\u043e\\u043a\\u0430\\u0437\\u0430\\u043b\\u0441\\u044f \\u043f\\u0440\\u043e\\u0431\\u043b\\u0435\\u043c\\u043d\\u044b\\u043c\",\"AWS \\u0432 \\u0442\\u0435\\u0447\\u0435\\u043d\\u0438\\u0435 15 \\u043b\\u0435\\u0442 \\u0438\\u043d\\u0432\\u0435\\u0441\\u0442\\u0438\\u0440\\u0443\\u0435\\u0442 $5 \\u043c\\u043b\\u0440\\u0434 \\u0432 \\u0442\\u0435\\u0445\\u043d\\u043e\\u043b\\u043e\\u0433\\u0438\\u0447\\u0435\\u0441\\u043a\\u043e\\u0435 \\u0440\\u0430\\u0437\\u0432\\u0438\\u0442\\u0438\\u0435 \\u041c\\u0435\\u043a\\u0441\\u0438\\u043a\\u0438\",\"\\u041a 2030 \\u0433\\u043e\\u0434\\u0443 \\u0432 \\u0420\\u043e\\u0441\\u0441\\u0438\\u0438 \\u043f\\u043b\\u0430\\u043d\\u0438\\u0440\\u0443\\u044e\\u0442 \\u0432\\u044b\\u0434\\u0435\\u043b\\u0438\\u0442\\u044c 15 \\u043c\\u043b\\u0440\\u0434 \\u0440\\u0443\\u0431\\u043b\\u0435\\u0439 \\u043d\\u0430 \\u0441\\u043e\\u0437\\u0434\\u0430\\u043d\\u0438\\u0435 \\u0431\\u043e\\u043b\\u0435\\u0435 30 \\u0446\\u0435\\u043d\\u0442\\u0440\\u043e\\u0432 \\u0440\\u0430\\u0437\\u0432\\u0438\\u0442\\u0438\\u044f \\u0440\\u043e\\u0431\\u043e\\u0442\\u043e\\u0442\\u0435\\u0445\\u043d\\u0438\\u043a\\u0438\",\"\\u041d\\u0418\\u0423 \\u0412\\u0428\\u042d \\u043e\\u043f\\u0443\\u0431\\u043b\\u0438\\u043a\\u043e\\u0432\\u0430\\u043b \\u0441\\u0432\\u043e\\u0439 \\u0435\\u0436\\u0435\\u0433\\u043e\\u0434\\u043d\\u044b\\u0439 \\u00ab\\u041c\\u043e\\u043d\\u0438\\u0442\\u043e\\u0440\\u0438\\u043d\\u0433 \\u043a\\u0430\\u0447\\u0435\\u0441\\u0442\\u0432\\u0430 \\u043f\\u0440\\u0438\\u0451\\u043c\\u0430 \\u0432 \\u0432\\u0443\\u0437\\u044b\\u00bb\",\"\\u0420\\u043e\\u0441\\u0441\\u0438\\u0439\\u0441\\u043a\\u0438\\u0435 \\u0445\\u0438\\u043c\\u0438\\u043a\\u0438 \\u0441\\u043e\\u0437\\u0434\\u0430\\u043b\\u0438 \\u043d\\u043e\\u0432\\u044b\\u0439 \\u0444\\u043e\\u0442\\u043e\\u043a\\u0430\\u0442\\u0430\\u043b\\u0438\\u0437\\u0430\\u0442\\u043e\\u0440 \\u0434\\u043b\\u044f \\u043e\\u0447\\u0438\\u0441\\u0442\\u043a\\u0438 \\u0432\\u043e\\u0434\\u044b\",\"\\u0412 \\u043f\\u043b\\u0430\\u0442\\u0444\\u043e\\u0440\\u043c\\u0435 OpenAI \\u043f\\u043e\\u044f\\u0432\\u0438\\u043b\\u0430\\u0441\\u044c \\u0432\\u043e\\u0437\\u043c\\u043e\\u0436\\u043d\\u043e\\u0441\\u0442\\u044c \\u00ab\\u0431\\u0435\\u0441\\u043f\\u043b\\u0430\\u0442\\u043d\\u043e\\u00bb \\u0432\\u043e\\u0441\\u043f\\u043e\\u043b\\u044c\\u0437\\u043e\\u0432\\u0430\\u0442\\u044c\\u0441\\u044f \\u0442\\u043e\\u043a\\u0435\\u043d\\u0430\\u043c\\u0438\",\"Deckhouse Conf 2025: \\u043d\\u043e\\u0432\\u0430\\u044f \\u0442\\u0435\\u0445\\u043d\\u0438\\u0447\\u0435\\u0441\\u043a\\u0430\\u044f \\u043a\\u043e\\u043d\\u0444\\u0435\\u0440\\u0435\\u043d\\u0446\\u0438\\u044f \\u043e DevOps, Kubernetes \\u0438 \\u043f\\u043b\\u0430\\u0442\\u0444\\u043e\\u0440\\u043c\\u0435\\u043d\\u043d\\u043e\\u0439 \\u0440\\u0430\\u0437\\u0440\\u0430\\u0431\\u043e\\u0442\\u043a\\u0435\",\"\\u0420\\u041a\\u041d: \\u043c\\u0430\\u0433\\u0438\\u0441\\u0442\\u0440\\u0430\\u043b\\u044c\\u043d\\u044b\\u0439 \\u043a\\u0430\\u0431\\u0435\\u043b\\u044c \\u043f\\u043e\\u0432\\u0440\\u0435\\u0436\\u0434\\u0451\\u043d \\u0432 \\u0422\\u0430\\u0442\\u0430\\u0440\\u0441\\u0442\\u0430\\u043d\\u0435, \\u0441\\u043d\\u0438\\u0436\\u0435\\u043d\\u0430 \\u0441\\u043a\\u043e\\u0440\\u043e\\u0441\\u0442\\u044c \\u0438\\u043d\\u0442\\u0435\\u0440\\u043d\\u0435\\u0442\\u0430 \\u0443 3,8 \\u043c\\u043b\\u043d \\u0440\\u043e\\u0441\\u0441\\u0438\\u044f\\u043d \\u0432 21 \\u0440\\u0435\\u0433\\u0438\\u043e\\u043d\\u0435\",\"\\u041c\\u043e\\u0439 \\u0414\\u043e\\u043c \\u2014 \\u043c\\u043e\\u044f \\u043a\\u0440\\u0435\\u043f\\u043e\\u0441\\u0442\\u044c \\u0438 \\u0432 \\u043d\\u0451\\u043c \\u0435\\u0441\\u0442\\u044c \\u0441\\u0435\\u0442\\u044c\",\"Meta* \\u043f\\u043b\\u0430\\u043d\\u0438\\u0440\\u0443\\u0435\\u0442 \\u0441\\u043e\\u043a\\u0440\\u0430\\u0442\\u0438\\u0442\\u044c 5% \\u0441\\u043e\\u0442\\u0440\\u0443\\u0434\\u043d\\u0438\\u043a\\u043e\\u0432 \\u0432 \\u0440\\u0430\\u043c\\u043a\\u0430\\u0445 \\u043f\\u043e\\u0434\\u0433\\u043e\\u0442\\u043e\\u0432\\u043a\\u0438 \\u043a \\u043d\\u043e\\u0432\\u043e\\u043c\\u0443 \\u044d\\u0442\\u0430\\u043f\\u0443 \\u0440\\u0430\\u0437\\u0432\\u0438\\u0442\\u0438\\u044f\",\"\\u0413\\u0440\\u0443\\u043f\\u043f\\u0430 \\u00ab\\u042d\\u0442\\u0430\\u043b\\u043e\\u043d\\u00bb \\u0437\\u0430\\u043c\\u0435\\u043d\\u0438\\u043b\\u0430 Jira \\u043d\\u0430 \\u0440\\u043e\\u0441\\u0441\\u0438\\u0439\\u0441\\u043a\\u0443\\u044e \\u0441\\u0438\\u0441\\u0442\\u0435\\u043c\\u0443 \\u0443\\u043f\\u0440\\u0430\\u0432\\u043b\\u0435\\u043d\\u0438\\u044f \\u0418\\u0422-\\u0443\\u0441\\u043b\\u0443\\u0433\\u0430\\u043c\\u0438 SimpleOne\",\"\\u041d\\u043e\\u0432\\u0435\\u0439\\u0448\\u0438\\u0439 \\u043f\\u043b\\u0430\\u043d Microsoft Copilot \\u0434\\u043b\\u044f \\u0431\\u0438\\u0437\\u043d\\u0435\\u0441\\u0430 \\u2014 \\u044d\\u0442\\u043e \\u043e\\u043f\\u043b\\u0430\\u0442\\u0430 \\u043f\\u043e \\u0444\\u0430\\u043a\\u0442\\u0443 \\u0438\\u0441\\u043f\\u043e\\u043b\\u044c\\u0437\\u043e\\u0432\\u0430\\u043d\\u0438\\u044f\",\"\\u0411\\u0443\\u0434\\u0443\\u0449\\u0435\\u0435 AI \\u0432 \\u0431\\u0438\\u0437\\u043d\\u0435\\u0441\\u0435: \\u0442\\u043e\\u043b\\u044c\\u043a\\u043e 25% \\u043f\\u0440\\u0435\\u0434\\u043f\\u0440\\u0438\\u044f\\u0442\\u0438\\u0439 \\u0432\\u043d\\u0435\\u0434\\u0440\\u0438\\u043b\\u0438 \\u0435\\u0433\\u043e, \\u0438 \\u043b\\u0438\\u0448\\u044c \\u043d\\u0435\\u043c\\u043d\\u043e\\u0433\\u0438\\u0435 \\u043f\\u043e\\u043b\\u0443\\u0447\\u0430\\u044e\\u0442 \\u0432\\u044b\\u0433\\u043e\\u0434\\u0443\",\"\\u0427\\u0430\\u0441\\u0442\\u043e\\u0435 \\u0438\\u0441\\u043f\\u043e\\u043b\\u044c\\u0437\\u043e\\u0432\\u0430\\u043d\\u0438\\u0435 AI \\u043c\\u043e\\u0436\\u0435\\u0442 \\u0441\\u043d\\u0438\\u0436\\u0430\\u0442\\u044c \\u043d\\u0430\\u0432\\u044b\\u043a\\u0438 \\u043a\\u0440\\u0438\\u0442\\u0438\\u0447\\u0435\\u0441\\u043a\\u043e\\u0433\\u043e \\u043c\\u044b\\u0448\\u043b\\u0435\\u043d\\u0438\\u044f, \\u043e\\u0441\\u043e\\u0431\\u0435\\u043d\\u043d\\u043e \\u0443 \\u043c\\u043e\\u043b\\u043e\\u0434\\u0435\\u0436\\u0438\",\"\\u0412 ChatGPT \\u043d\\u043e\\u0432\\u0430\\u044f \\u0444\\u0443\\u043d\\u043a\\u0446\\u0438\\u044f \\u00ab\\u0417\\u0430\\u043f\\u043b\\u0430\\u043d\\u0438\\u0440\\u043e\\u0432\\u0430\\u043d\\u043d\\u044b\\u0435 \\u0437\\u0430\\u0434\\u0430\\u0447\\u0438\\u00bb \\u0434\\u043b\\u044f \\u043f\\u043b\\u0430\\u043d\\u0438\\u0440\\u043e\\u0432\\u0430\\u043d\\u0438\\u044f \\u0438 \\u0430\\u0432\\u0442\\u043e\\u043c\\u0430\\u0442\\u0438\\u0437\\u0430\\u0446\\u0438\\u0438\",\"\\u0410\\u0432\\u0442\\u043e\\u0440\\u044b \\u0442\\u0435\\u043b\\u0435\\u0433\\u0440\\u0430\\u043c-\\u043a\\u0430\\u043d\\u0430\\u043b\\u043e\\u0432 \\u0437\\u0430\\u0440\\u0430\\u0431\\u043e\\u0442\\u0430\\u043b\\u0438 \\u0441 \\u00ab\\u042f\\u043d\\u0434\\u0435\\u043a\\u0441\\u043e\\u043c\\u00bb \\u0432 2024 \\u0433\\u043e\\u0434\\u0443 1,7 \\u043c\\u043b\\u0440\\u0434 \\u0440\\u0443\\u0431\\u043b\\u0435\\u0439\",\"\\u041c\\u0438\\u043d\\u0446\\u0438\\u0444\\u0440\\u044b \\u0420\\u0424 \\u0440\\u0430\\u0441\\u0448\\u0438\\u0440\\u0438\\u0442 \\u043f\\u0440\\u043e\\u0433\\u0440\\u0430\\u043c\\u043c\\u0443 \\u00ab\\u041a\\u043e\\u0434\\u0430 \\u0431\\u0443\\u0434\\u0443\\u0449\\u0435\\u0433\\u043e\\u00bb, \\u0432\\u043a\\u043b\\u044e\\u0447\\u0438\\u0432 \\u0432 \\u043d\\u0435\\u0451 \\u0434\\u0438\\u0441\\u0446\\u0438\\u043f\\u043b\\u0438\\u043d\\u044b \\u043f\\u043e \\u0418\\u0418 \\u0438 \\u0440\\u043e\\u0431\\u043e\\u0442\\u043e\\u0442\\u0435\\u0445\\u043d\\u0438\\u043a\\u0435\",\"MiniMax \\u043f\\u0440\\u0435\\u0434\\u0441\\u0442\\u0430\\u0432\\u043b\\u044f\\u0435\\u0442 AI-\\u043c\\u043e\\u0434\\u0435\\u043b\\u0438 \\u0441 \\u0441\\u0430\\u043c\\u043e\\u0439 \\u0431\\u043e\\u043b\\u044c\\u0448\\u043e\\u0439 \\u0434\\u043b\\u0438\\u043d\\u043e\\u0439 \\u043a\\u043e\\u043d\\u0442\\u0435\\u043a\\u0441\\u0442\\u0430 \\u0434\\u043b\\u044f \\u0430\\u0433\\u0435\\u043d\\u0442\\u043e\\u0432 \\u0441 \\u00ab\\u0434\\u043e\\u043b\\u0433\\u043e\\u0432\\u0440\\u0435\\u043c\\u0435\\u043d\\u043d\\u043e\\u0439 \\u043f\\u0430\\u043c\\u044f\\u0442\\u044c\\u044e\\u00bb\",\"OpenAI \\u0442\\u0435\\u0441\\u0442\\u0438\\u0440\\u0443\\u0435\\u0442 \\u0440\\u0435\\u0433\\u0438\\u0441\\u0442\\u0440\\u0430\\u0446\\u0438\\u044e \\u0432 ChatGPT \\u0442\\u043e\\u043b\\u044c\\u043a\\u043e \\u043f\\u043e \\u043d\\u043e\\u043c\\u0435\\u0440\\u0443 \\u0442\\u0435\\u043b\\u0435\\u0444\\u043e\\u043d\\u0430\",\"\\u00ab\\u041e\\u043a\\u0440\\u0443\\u0436\\u0430\\u044e\\u0449\\u0438\\u0435 \\u0430\\u0433\\u0435\\u043d\\u0442\\u044b\\u00bb: \\u0430\\u0432\\u0442\\u043e\\u043c\\u0430\\u0442\\u0438\\u0437\\u0430\\u0446\\u0438\\u044f \\u043f\\u043e\\u0432\\u0441\\u0435\\u0434\\u043d\\u0435\\u0432\\u043d\\u044b\\u0445 \\u0437\\u0430\\u0434\\u0430\\u0447 \\u0438 \\u0431\\u0443\\u0434\\u0443\\u0449\\u0435\\u0435 AGI\",\"Google \\u0432\\u043a\\u043b\\u044e\\u0447\\u0430\\u0435\\u0442 AI \\u0432 Workspace \\u0431\\u0435\\u0441\\u043f\\u043b\\u0430\\u0442\\u043d\\u043e, \\u043d\\u043e \\u043f\\u043e\\u0432\\u044b\\u0448\\u0430\\u0435\\u0442 \\u0441\\u0442\\u043e\\u0438\\u043c\\u043e\\u0441\\u0442\\u044c \\u043f\\u043e\\u0434\\u043f\\u0438\\u0441\\u043a\\u0438\",\"Google \\u0437\\u0430\\u043a\\u043b\\u044e\\u0447\\u0430\\u0435\\u0442 \\u0441\\u0434\\u0435\\u043b\\u043a\\u0443 \\u0441 Associated Press, \\u0447\\u0442\\u043e\\u0431\\u044b \\u043f\\u0440\\u0435\\u0434\\u043e\\u0441\\u0442\\u0430\\u0432\\u0438\\u0442\\u044c Gemini \\u0431\\u043e\\u043b\\u044c\\u0448\\u0435 \\u0438\\u043d\\u0444\\u043e\\u0440\\u043c\\u0430\\u0446\\u0438\\u0438 \\u0432 \\u0440\\u0435\\u0436\\u0438\\u043c\\u0435 \\u0440\\u0435\\u0430\\u043b\\u044c\\u043d\\u043e\\u0433\\u043e \\u0432\\u0440\\u0435\\u043c\\u0435\\u043d\\u0438\",\"\\u0418\\u0441\\u0441\\u043b\\u0435\\u0434\\u043e\\u0432\\u0430\\u0442\\u0435\\u043b\\u044c \\u0424\\u0440\\u0430\\u043d\\u0441\\u0443\\u0430 \\u0428\\u043e\\u043b\\u043b\\u0435 \\u043e\\u0441\\u043d\\u043e\\u0432\\u0430\\u043b \\u043d\\u043e\\u0432\\u0443\\u044e \\u043b\\u0430\\u0431\\u043e\\u0440\\u0430\\u0442\\u043e\\u0440\\u0438\\u044e AI, \\u043e\\u0440\\u0438\\u0435\\u043d\\u0442\\u0438\\u0440\\u043e\\u0432\\u0430\\u043d\\u043d\\u0443\\u044e \\u043d\\u0430 \\u0441\\u043e\\u0437\\u0434\\u0430\\u043d\\u0438\\u0435 AGI\",\"\\u041d\\u043e\\u0432\\u0430\\u044f \\u0444\\u0443\\u043d\\u043a\\u0446\\u0438\\u044f ChatGPT \\u043f\\u043e\\u0434 \\u043d\\u0430\\u0437\\u0432\\u0430\\u043d\\u0438\\u0435\\u043c \\u00abTasks\\u00bb \\u043f\\u0440\\u0438\\u0431\\u043b\\u0438\\u0436\\u0430\\u0435\\u0442 \\u0435\\u0433\\u043e \\u043a \\u0442\\u043e\\u043c\\u0443, \\u0447\\u0442\\u043e\\u0431\\u044b \\u0441\\u0442\\u0430\\u0442\\u044c \\u043f\\u043e\\u043b\\u043d\\u043e\\u0446\\u0435\\u043d\\u043d\\u044b\\u043c AI-\\u0430\\u0441\\u0441\\u0438\\u0441\\u0442\\u0435\\u043d\\u0442\\u043e\\u043c\",\"OpenAI \\u0441\\u043e\\u0442\\u0440\\u0443\\u0434\\u043d\\u0438\\u0447\\u0430\\u0435\\u0442 \\u0441 Axios \\u0432 \\u043f\\u043e\\u0441\\u043b\\u0435\\u0434\\u043d\\u0435\\u0439 \\u043c\\u0435\\u0434\\u0438\\u0430\\u0441\\u0434\\u0435\\u043b\\u043a\\u0435\",\"\\u0421\\u043f\\u043e\\u043a\\u043e\\u0439\\u043d\\u043e\\u0439 \\u043d\\u043e\\u0447\\u0438, \\u00ab\\u0413\\u0430\\u0439\\u044f\\u00bb! \\u041a\\u043e\\u0441\\u043c\\u0438\\u0447\\u0435\\u0441\\u043a\\u0438\\u0439 \\u0430\\u043f\\u043f\\u0430\\u0440\\u0430\\u0442 \\u043e\\u0442\\u043a\\u043b\\u044e\\u0447\\u0438\\u043b\\u0441\\u044f \\u043f\\u043e\\u0441\\u043b\\u0435 12 \\u043b\\u0435\\u0442 \\u043a\\u0430\\u0440\\u0442\\u043e\\u0433\\u0440\\u0430\\u0444\\u0438\\u0440\\u043e\\u0432\\u0430\\u043d\\u0438\\u044f \\u041c\\u043b\\u0435\\u0447\\u043d\\u043e\\u0433\\u043e \\u041f\\u0443\\u0442\\u0438\",\"\\u0421\\u0438\\u0441\\u0442\\u0435\\u043c\\u0430 \\u043d\\u0430\\u0432\\u0438\\u0433\\u0430\\u0446\\u0438\\u0438 \\u0430\\u0432\\u0442\\u043e\\u043f\\u0438\\u043b\\u043e\\u0442\\u0430 Tesla FSD (Full Self-Driving) \\u043e\\u0442\\u043e\\u0431\\u0440\\u0430\\u0436\\u0430\\u0435\\u0442 \\u043f\\u043e\\u0435\\u0437\\u0434 \\u043a\\u0430\\u043a \\u0441\\u043f\\u043b\\u044e\\u0449\\u0435\\u043d\\u043d\\u044b\\u0435 \\u0430\\u0432\\u0442\\u043e\\u043c\\u043e\\u0431\\u0438\\u043b\\u0438\",\"Nvidia \\u043f\\u043e\\u0434\\u0434\\u0435\\u0440\\u0436\\u0438\\u0432\\u0430\\u0435\\u0442 MetAI, \\u0442\\u0430\\u0439\\u0432\\u0430\\u043d\\u044c\\u0441\\u043a\\u0438\\u0439 \\u0441\\u0442\\u0430\\u0440\\u0442\\u0430\\u043f, \\u0441\\u043e\\u0437\\u0434\\u0430\\u044e\\u0449\\u0438\\u0439 \\u0446\\u0438\\u0444\\u0440\\u043e\\u0432\\u044b\\u0445 \\u0431\\u043b\\u0438\\u0437\\u043d\\u0435\\u0446\\u043e\\u0432 \\u043d\\u0430 \\u0431\\u0430\\u0437\\u0435 \\u0438\\u0441\\u043a\\u0443\\u0441\\u0441\\u0442\\u0432\\u0435\\u043d\\u043d\\u043e\\u0433\\u043e \\u0438\\u043d\\u0442\\u0435\\u043b\\u043b\\u0435\\u043a\\u0442\\u0430\",\"\\u041f\\u0440\\u043e\\u0435\\u043a\\u0442 DIY FOSS-\\u043a\\u0438\\u0431\\u043e\\u0440\\u0433\\u0430 \\u043f\\u043e\\u0437\\u0432\\u043e\\u043b\\u044f\\u0435\\u0442 \\u0440\\u0430\\u0431\\u043e\\u0442\\u0430\\u0442\\u044c \\u0441 Linux, \\u0432\\u043a\\u043b\\u044e\\u0447\\u0430\\u044f Guix \\u0438 Emacs, \\u0432 \\u0440\\u0435\\u0436\\u0438\\u043c\\u0435 \\u043f\\u0435\\u0440\\u0435\\u0434\\u0432\\u0438\\u0436\\u0435\\u043d\\u0438\\u044f\",\"\\u0420\\u043e\\u0441\\u043a\\u043e\\u043c\\u043d\\u0430\\u0434\\u0437\\u043e\\u0440 \\u0437\\u0430\\u0444\\u0438\\u043a\\u0441\\u0438\\u0440\\u043e\\u0432\\u0430\\u043b \\u0437\\u0430 2024 \\u0433\\u043e\\u0434 135 \\u0441\\u043b\\u0443\\u0447\\u0430\\u0435\\u0432 \\u0443\\u0442\\u0435\\u0447\\u0435\\u043a \\u0434\\u0430\\u043d\\u043d\\u044b\\u0445, \\u0432 \\u043a\\u043e\\u0442\\u043e\\u0440\\u044b\\u0445 \\u0441\\u043e\\u0434\\u0435\\u0440\\u0436\\u0430\\u043b\\u043e\\u0441\\u044c \\u0431\\u043e\\u043b\\u0435\\u0435 710 \\u043c\\u043b\\u043d \\u0437\\u0430\\u043f\\u0438\\u0441\\u0435\\u0439 \\u043e \\u0440\\u043e\\u0441\\u0441\\u0438\\u044f\\u043d\\u0430\\u0445\",\"\\u041c\\u0438\\u043d\\u0446\\u0438\\u0444\\u0440\\u044b \\u0422\\u0430\\u0442\\u0430\\u0440\\u0441\\u0442\\u0430\\u043d\\u0430: \\u043f\\u043e\\u0432\\u0440\\u0435\\u0436\\u0434\\u0435\\u043d\\u0438\\u0435 \\u0432\\u043e\\u043b\\u043e\\u043a\\u043e\\u043d\\u043d\\u043e-\\u043e\\u043f\\u0442\\u0438\\u0447\\u0435\\u0441\\u043a\\u043e\\u0433\\u043e \\u043c\\u0430\\u0433\\u0438\\u0441\\u0442\\u0440\\u0430\\u043b\\u044c\\u043d\\u043e\\u0433\\u043e \\u043a\\u0430\\u0431\\u0435\\u043b\\u044f \\u043d\\u0430 \\u0442\\u0435\\u0440\\u0440\\u0438\\u0442\\u043e\\u0440\\u0438\\u0438 \\u0440\\u0435\\u0441\\u043f\\u0443\\u0431\\u043b\\u0438\\u043a\\u0438 \\u0443\\u0441\\u0442\\u0440\\u0430\\u043d\\u0435\\u043d\\u043e\",\"\\u041f\\u0440\\u043e\\u043a\\u0443\\u0440\\u0430\\u0442\\u0443\\u0440\\u0430 \\u043e\\u0440\\u0433\\u0430\\u043d\\u0438\\u0437\\u043e\\u0432\\u0430\\u043b\\u0430 \\u043f\\u0440\\u043e\\u0432\\u0435\\u0440\\u043a\\u0443 \\u00ab\\u0410\\u044d\\u0440\\u043e\\u0444\\u043b\\u043e\\u0442\\u0430\\u00bb \\u0438\\u0437-\\u0437\\u0430 \\u0436\\u0430\\u043b\\u043e\\u0431 \\u043f\\u0438\\u043b\\u043e\\u0442\\u043e\\u0432 \\u043d\\u0430 \\u043f\\u043b\\u043e\\u0445\\u0443\\u044e \\u0440\\u0430\\u0431\\u043e\\u0442\\u0443 \\u0440\\u043e\\u0441\\u0441\\u0438\\u0439\\u0441\\u043a\\u043e\\u0433\\u043e \\u0430\\u044d\\u0440\\u043e\\u043d\\u0430\\u0432\\u0438\\u0433\\u0430\\u0446\\u0438\\u043e\\u043d\\u043d\\u043e\\u0433\\u043e \\u041f\\u041e\",\"\\u0412\\u044b\\u0448\\u043b\\u0430 \\u0432\\u0435\\u0440\\u0441\\u0438\\u044f \\u0438\\u043d\\u0441\\u0442\\u0440\\u0443\\u043c\\u0435\\u043d\\u0442\\u0430 \\u043c\\u043e\\u043d\\u0438\\u0442\\u043e\\u0440\\u0438\\u043d\\u0433\\u0430 HWiNFO 8.20\",\"\\u0411\\u0438\\u043b\\u0435\\u0442, \\u043a\\u043e\\u0442\\u043e\\u0440\\u043e\\u0433\\u043e \\u043d\\u0435\\u0442: \\u0441\\u043f\\u0435\\u0446\\u0438\\u0430\\u043b\\u0438\\u0441\\u0442\\u044b F.A.C.C.T. \\u043e\\u0431\\u043d\\u0430\\u0440\\u0443\\u0436\\u0438\\u043b\\u0438 \\u043d\\u043e\\u0432\\u0443\\u044e \\u0443\\u0433\\u0440\\u043e\\u0437\\u0443 \\u2013 FakeTicketer\",\"Google \\u0441\\u0434\\u0435\\u043b\\u0430\\u043b\\u0430 \\u0418\\u0418 \\u0432 Gmail \\u0438 Docs \\u0431\\u0435\\u0441\\u043f\\u043b\\u0430\\u0442\\u043d\\u044b\\u043c \\u0438 \\u043f\\u043e\\u0432\\u044b\\u0441\\u0438\\u043b\\u0430 \\u0446\\u0435\\u043d\\u0443 \\u043d\\u0430 Workspace\",\"\\u00ab\\u042a\\u00bb: \\u0432 \\u043a\\u0440\\u0443\\u043f\\u043d\\u044b\\u0445 \\u0440\\u043e\\u0441\\u0441\\u0438\\u0439\\u0441\\u043a\\u0438\\u0445 IT-\\u043a\\u043e\\u043c\\u043f\\u0430\\u043d\\u0438\\u044f\\u0445 \\u0441\\u043e\\u043a\\u0440\\u0430\\u0449\\u0430\\u0435\\u0442\\u0441\\u044f \\u043a\\u043e\\u043b\\u0438\\u0447\\u0435\\u0441\\u0442\\u0432\\u043e \\u0432\\u0430\\u043a\\u0430\\u043d\\u0441\\u0438\\u0439\",\"\\u0410\\u0432\\u0438\\u0430\\u0440\\u0435\\u0439\\u0441\\u044b \\u043c\\u0435\\u0436\\u0434\\u0443 \\u0410\\u0444\\u0440\\u0438\\u043a\\u043e\\u0439 \\u0438 \\u0410\\u0432\\u0441\\u0442\\u0440\\u0430\\u043b\\u0438\\u0435\\u0439 \\u0437\\u0430\\u0434\\u0435\\u0440\\u0436\\u0438\\u0432\\u0430\\u044e\\u0442\\u0441\\u044f \\u0438\\u0437-\\u0437\\u0430 \\u043e\\u0431\\u043b\\u043e\\u043c\\u043a\\u043e\\u0432 \\u0440\\u0430\\u043a\\u0435\\u0442 SpaceX\",\"Huawei \\u043f\\u043e\\u043a\\u0430\\u0437\\u0430\\u043b\\u0430 \\u0437\\u0430\\u0440\\u044f\\u0434\\u043a\\u0443 \\u0434\\u043b\\u044f \\u044d\\u043b\\u0435\\u043a\\u0442\\u0440\\u043e\\u043c\\u043e\\u0431\\u0438\\u043b\\u0435\\u0439 \\u0441 \\u0440\\u043e\\u0431\\u043e\\u0440\\u0443\\u043a\\u043e\\u0439, \\u043a\\u043e\\u0442\\u043e\\u0440\\u0430\\u044f \\u0441\\u0430\\u043c\\u0430 \\u043f\\u043e\\u0434\\u043a\\u043b\\u044e\\u0447\\u0430\\u0435\\u0442 \\u043a\\u0430\\u0431\\u0435\\u043b\\u044c\",\"\\u0420\\u043e\\u0441\\u0441\\u0438\\u044f\\u043d\\u0435 \\u0432\\u0441\\u0451 \\u0447\\u0430\\u0449\\u0435 \\u043f\\u0435\\u0440\\u0435\\u0445\\u043e\\u0434\\u044f\\u0442 \\u043d\\u0430 \\u0430\\u0432\\u0442\\u043e\\u0440\\u0438\\u0437\\u0430\\u0446\\u0438\\u044e \\u0432 \\u0438\\u043d\\u0442\\u0435\\u0440\\u043d\\u0435\\u0442-\\u0441\\u0435\\u0440\\u0432\\u0438\\u0441\\u0430\\u0445 \\u0431\\u0435\\u0437 \\u043f\\u0430\\u0440\\u043e\\u043b\\u0435\\u0439\",\"OpenAI \\u0442\\u0435\\u0441\\u0442\\u0438\\u0440\\u0443\\u0435\\u0442 \\u0440\\u0435\\u0433\\u0438\\u0441\\u0442\\u0440\\u0430\\u0446\\u0438\\u044e ChatGPT \\u0442\\u043e\\u043b\\u044c\\u043a\\u043e \\u043f\\u043e \\u043d\\u043e\\u043c\\u0435\\u0440\\u0443 \\u0442\\u0435\\u043b\\u0435\\u0444\\u043e\\u043d\\u0430\",\"Bing \\u043f\\u0435\\u0440\\u0435\\u0441\\u0442\\u0430\\u043b \\u00ab\\u043f\\u0440\\u0438\\u0442\\u0432\\u043e\\u0440\\u044f\\u0442\\u044c\\u0441\\u044f\\u00bb \\u043f\\u043e\\u0438\\u0441\\u043a\\u043e\\u0432\\u0438\\u043a\\u043e\\u043c Google\",\"Microsoft \\u043e\\u0441\\u0442\\u0430\\u043b\\u0430\\u0441\\u044c \\u043b\\u0438\\u0434\\u0435\\u0440\\u043e\\u043c \\u0440\\u044b\\u043d\\u043a\\u0430 \\u0441\\u043e\\u0444\\u0442\\u0430 \\u0434\\u043b\\u044f \\u0443\\u043f\\u0440\\u0430\\u0432\\u043b\\u0435\\u043d\\u0438\\u044f \\u043f\\u0440\\u043e\\u0435\\u043a\\u0442\\u0430\\u043c\\u0438\",\"\\u0418\\u0441\\u0441\\u043b\\u0435\\u0434\\u043e\\u0432\\u0430\\u0442\\u0435\\u043b\\u044c \\u043e\\u0431\\u043d\\u0430\\u0440\\u0443\\u0436\\u0438\\u043b \\u043e\\u0431\\u043e\\u0448\\u0435\\u0434\\u0448\\u0435\\u0435 \\u0441\\u043f\\u0430\\u043c-\\u0444\\u0438\\u043b\\u044c\\u0442\\u0440\\u044b Gmail \\u0444\\u0438\\u0448\\u0438\\u043d\\u0433\\u043e\\u0432\\u043e\\u0435 \\u043f\\u0438\\u0441\\u044c\\u043c\\u043e\",\"Blue Origin \\u0432\\u043f\\u0435\\u0440\\u0432\\u044b\\u0435 \\u0437\\u0430\\u043f\\u0443\\u0441\\u0442\\u0438\\u043b\\u0430 \\u0440\\u0430\\u043a\\u0435\\u0442\\u0443 New Glenn, \\u043f\\u0435\\u0440\\u0432\\u0430\\u044f \\u0441\\u0442\\u0443\\u043f\\u0435\\u043d\\u044c \\u043d\\u0435 \\u0441\\u043c\\u043e\\u0433\\u043b\\u0430 \\u0441\\u0435\\u0441\\u0442\\u044c \\u043d\\u0430 \\u043c\\u043e\\u0440\\u0441\\u043a\\u0443\\u044e \\u043f\\u043b\\u0430\\u0442\\u0444\\u043e\\u0440\\u043c\\u0443 \\u0438 \\u0443\\u043f\\u0430\\u043b\\u0430 \\u0432 \\u043c\\u043e\\u0440\\u0435\",\"Motorola \\u043f\\u0440\\u0435\\u0434\\u0441\\u0442\\u0430\\u0432\\u0438\\u043b\\u0430 \\u0441\\u043c\\u0430\\u0440\\u0442\\u0444\\u043e\\u043d\\u044b Moto G 2025 \\u0438 Moto G Power 2025\",\"Reuters: \\u043a\\u0438\\u0442\\u0430\\u0439\\u0441\\u043a\\u0438\\u0435 \\u0430\\u0432\\u0442\\u043e\\u043f\\u0440\\u043e\\u0438\\u0437\\u0432\\u043e\\u0434\\u0438\\u0442\\u0435\\u043b\\u0438 \\u0445\\u043e\\u0442\\u044f\\u0442 \\u0432\\u044b\\u043a\\u0443\\u043f\\u0438\\u0442\\u044c \\u0437\\u0430\\u043a\\u0440\\u044b\\u0432\\u0430\\u044e\\u0449\\u0438\\u0435\\u0441\\u044f \\u0437\\u0430\\u0432\\u043e\\u0434\\u044b Volkswagen \\u0432 \\u0413\\u0435\\u0440\\u043c\\u0430\\u043d\\u0438\\u0438\",\"Google Colab \\u043e\\u0431\\u043d\\u043e\\u0432\\u0438\\u043b\\u0441\\u044f \\u0434\\u043e Python 3.11.11\",\"\\u041e \\u0442\\u043e\\u043c, \\u043a\\u0430\\u043a \\u0432 \\u041c\\u0422\\u0423\\u0421\\u0418 \\u043f\\u0440\\u0435\\u0434\\u043b\\u043e\\u0436\\u0438\\u043b\\u0438 \\u043d\\u043e\\u0432\\u044b\\u0439 \\u043c\\u0435\\u0442\\u043e\\u0434 \\u0430\\u043d\\u0430\\u043b\\u0438\\u0437\\u0430 \\u044e\\u0440\\u0438\\u0434\\u0438\\u0447\\u0435\\u0441\\u043a\\u0438\\u0445 \\u0442\\u0435\\u043a\\u0441\\u0442\\u043e\\u0432 \\u0441 \\u043f\\u043e\\u043c\\u043e\\u0449\\u044c\\u044e \\u0434\\u0435\\u0440\\u0435\\u0432\\u0430 \\u0440\\u0435\\u0448\\u0435\\u043d\\u0438\\u0439 \\u0438 \\u0442\\u0435\\u0445\\u043d\\u043e\\u043b\\u043e\\u0433\\u0438\\u0438 TF-IDF\",\"\\u0418\\u0422-\\u044d\\u043a\\u0441\\u043f\\u0435\\u0440\\u0442\\u044b \\u0440\\u0430\\u0437\\u0440\\u0430\\u0431\\u043e\\u0442\\u0430\\u043b\\u0438 \\u0441\\u0440\\u0430\\u0432\\u043d\\u0438\\u0442\\u0435\\u043b\\u044c\\u043d\\u0443\\u044e \\u043a\\u0430\\u0440\\u0442\\u0443 \\u0442\\u0435\\u043b\\u0435\\u043a\\u043e\\u043c-\\u0440\\u0435\\u0448\\u0435\\u043d\\u0438\\u0439\",\"\\u042d\\u043b\\u0435\\u043a\\u0442\\u0440\\u043e\\u043d\\u043d\\u0430\\u044f \\u043a\\u043e\\u043c\\u043c\\u0435\\u0440\\u0446\\u0438\\u044f \\u0432\\u044b\\u0440\\u043e\\u0441\\u043b\\u0430 \\u043d\\u0430 \\u0447\\u0435\\u0442\\u0432\\u0435\\u0440\\u0442\\u044c \\u043f\\u043e \\u0432\\u0441\\u0435\\u0439 \\u0420\\u043e\\u0441\\u0441\\u0438\\u0438\",\"\\u041d\\u043e\\u0432\\u044b\\u0439 \\u0440\\u0435\\u043b\\u0438\\u0437 Luxms BI 10.3\",\"\\u042d\\u0442\\u043e \\u043d\\u0435\\u0431\\u0435\\u0437\\u043e\\u043f\\u0430\\u0441\\u043d\\u043e: Nintendo \\u043f\\u043e\\u043f\\u0440\\u043e\\u0441\\u0438\\u043b\\u0430 \\u043d\\u0435 \\u0438\\u0441\\u043f\\u043e\\u043b\\u044c\\u0437\\u043e\\u0432\\u0430\\u0442\\u044c \\u0441\\u0442\\u043e\\u0440\\u043e\\u043d\\u043d\\u0438\\u0435 \\u0441\\u0435\\u0440\\u0432\\u0438\\u0441\\u044b \\u0434\\u043b\\u044f \\u043e\\u043d\\u043b\\u0430\\u0439\\u043d-\\u0438\\u0433\\u0440 \\u043d\\u0430 Wii U\",\"\\u0417\\u0430 2024 \\u0433\\u043e\\u0434 \\u0431\\u0435\\u043b\\u044b\\u0435 \\u0445\\u0430\\u043a\\u0435\\u0440\\u044b \\u043e\\u0431\\u043d\\u0430\\u0440\\u0443\\u0436\\u0438\\u043b\\u0438 \\u0431\\u043e\\u043b\\u0435\\u0435 6 \\u0442\\u044b\\u0441. \\u0443\\u044f\\u0437\\u0432\\u0438\\u043c\\u043e\\u0441\\u0442\\u0435\\u0439 \\u0432 \\u0440\\u043e\\u0441\\u0441\\u0438\\u0439\\u0441\\u043a\\u0438\\u0445 I\\u0422-\\u0441\\u0438\\u0441\\u0442\\u0435\\u043c\\u0430\\u0445\",\"\\u0421 1 \\u043c\\u0430\\u0440\\u0442\\u0430 2025 \\u0433\\u043e\\u0434\\u0430 \\u043c\\u043e\\u0431\\u0438\\u043b\\u044c\\u043d\\u043e\\u0435 \\u043f\\u0440\\u0438\\u043b\\u043e\\u0436\\u0435\\u043d\\u0438\\u0435 Keenetic \\u0438 \\u0441\\u0438\\u0441\\u0442\\u0435\\u043c\\u0430 \\u0443\\u0434\\u0430\\u043b\\u0451\\u043d\\u043d\\u043e\\u0433\\u043e \\u043c\\u043e\\u043d\\u0438\\u0442\\u043e\\u0440\\u0438\\u043d\\u0433\\u0430 \\u0438 \\u0443\\u043f\\u0440\\u0430\\u0432\\u043b\\u0435\\u043d\\u0438\\u044f \\u043f\\u0435\\u0440\\u0435\\u0441\\u0442\\u0430\\u043d\\u0443\\u0442 \\u0440\\u0430\\u0431\\u043e\\u0442\\u0430\\u0442\\u044c \\u0432 \\u0420\\u0424\",\"\\u2013\\u00ed 2024 \\u2013\\u2265\\u2013\\u00e6\\u2013\\u00a5\\u2014\\u00c9 \\u2013\\u03a9\\u2013\\u221e \\u2013\\u00f8\\u2013\\u00aa\\u2013\\u221e\\u2014\\u00c7\\u2014\\u00d1\\u2013\\u00e6\\u2014\\u00c4\\u2013\\u00ba\\u2013\\u00b5 Standoff Bug Bounty \\u2013\\u00a5\\u2013\\u00e6\\u2013\\u00aa\\u2014\\u00e8 \\u2013\\u00e6\\u2014\\u00c7\\u2014\\u00e1\\u2013\\u00b5\\u2014\\u00c7\\u2013\\u00e6\\u2013\\u2264 \\u2013\\u00e6 \\u2014\\u00c5\\u2013\\u221e\\u2013\\u00ba\\u2014\\u00e3\\u2014\\u00d6 \\u2013\\u00e6\\u2013\\u00f8\\u2013\\u221e\\u2014\\u00c5\\u2013\\u03a9\\u2014\\u00e3\\u2014\\u00d6 \\u2014\\u00c9\\u2014\\u00e8\\u2013\\u2211\\u2013\\u2264\\u2013\\u220f\\u2013\\u00ba\\u2013\\u00e6\\u2014\\u00c5\\u2014\\u00c7\\u2014\\u00e8\\u2014\\u00d6 \\u2013\\u2264\\u2013\\u00a5\\u2013\\u2264\\u2013\\u00e6\\u2013\\u00b5 \\u2013\\u00f8\\u2014\\u00c4\\u2013\\u00b5\\u2013\\u2264\\u2014\\u00e3\\u2014\\u00c5\\u2013\\u220f\\u2013\\u00aa\\u2013\\u221e \\u2013\\u00ba\\u2013\\u220f\\u2014\\u00c4\\u2013\\u00e6\\u2013\\u2264\\u2013\\u00e6\\u2013\\u03c0 \\u2013\\u00f8\\u2013\\u00e6\\u2013\\u222b\\u2013\\u221e\\u2013\\u2211\\u2013\\u221e\\u2014\\u00c7\\u2013\\u00b5\\u2013\\u00aa\\u2014\\u00e5\",\"Google \\u043f\\u0440\\u0435\\u0434\\u0441\\u0442\\u0430\\u0432\\u0438\\u043b\\u0438 Titan: \\u0430\\u0440\\u0445\\u0438\\u0442\\u0435\\u043a\\u0442\\u0443\\u0440\\u0443 \\u043d\\u0435\\u0439\\u0440\\u043e\\u0441\\u0435\\u0442\\u0435\\u0439, \\u043a\\u043e\\u0442\\u043e\\u0440\\u0430\\u044f \\u043c\\u043e\\u0436\\u0435\\u0442 \\u0441\\u0442\\u0430\\u0442\\u044c \\u043d\\u043e\\u0432\\u043e\\u0439 \\u0441\\u0435\\u0440\\u0435\\u0431\\u0440\\u044f\\u043d\\u043e\\u0439 \\u043f\\u0443\\u043b\\u0435\\u0439 LLM\",\"\\u2013\\u00f9\\u2013\\u221e Admin MeetUp \\u2013\\u00e6\\u2013\\u00b1\\u2014\\u00c5\\u2014\\u00c9\\u2013\\u00a5\\u2013\\u220f\\u2013\\u00aa\\u2013\\u220f \\u2013\\u2264\\u2014\\u00c5\\u2013\\u00b5, \\u2014\\u00e1\\u2014\\u00c7\\u2013\\u00e6 \\u2013\\u2264\\u2013\\u00e6\\u2013\\u00aa\\u2013\\u03a9\\u2014\\u00c9\\u2013\\u00b5\\u2014\\u00c7 \\u2014\\u00c5\\u2013\\u220f\\u2014\\u00c5\\u2013\\u221e\\u2013\\u00a5\\u2013\\u00ba\\u2013\\u220f\\u2013\\u03a9\\u2013\\u00e6\\u2013\\u2264, DevOps, \\u2014\\u00c7\\u2013\\u00b5\\u2014\\u00d6\\u2013\\u00aa\\u2013\\u220f\\u2013\\u00a5\\u2013\\u00e6\\u2013\\u2264 \\u2013\\u220f \\u2014\\u00c7\\u2013\\u220f\\u2013\\u00ba\\u2013\\u00aa\\u2013\\u220f\\u2013\\u00a5\\u2013\\u00e6\\u2013\\u2264\",\"Nintendo \\u0430\\u043d\\u043e\\u043d\\u0441\\u0438\\u0440\\u043e\\u0432\\u0430\\u043b\\u0430 Switch 2\",\"Microsoft \\u0438\\u0441\\u043f\\u0440\\u0430\\u0432\\u0438\\u043b\\u0430 \\u0434\\u0432\\u0443\\u0445\\u043b\\u0435\\u0442\\u043d\\u044e\\u044e \\u043e\\u0448\\u0438\\u0431\\u043a\\u0443 \\u0431\\u0435\\u0437\\u043e\\u043f\\u0430\\u0441\\u043d\\u043e\\u0441\\u0442\\u0438 Windows 11, \\u043a\\u043e\\u0442\\u043e\\u0440\\u0430\\u044f \\u043e\\u0442\\u043a\\u043b\\u044e\\u0447\\u0430\\u043b\\u0430 \\u0437\\u0430\\u0449\\u0438\\u0442\\u0443 \\u043e\\u0442 \\u0444\\u0438\\u0448\\u0438\\u043d\\u0433\\u0430\",\"\\u0422\\u0435\\u0441\\u0442 \\u0447\\u0435\\u0440\\u043d\\u0438\\u043b\\u044c\\u043d\\u043e\\u0439 \\u0440\\u0443\\u0447\\u043a\\u0438, \\u043a\\u043e\\u0442\\u043e\\u0440\\u0430\\u044f \\u0434\\u0435\\u043b\\u0430\\u0435\\u0442 \\u0446\\u0438\\u0444\\u0440\\u043e\\u0432\\u0443\\u044e \\u043a\\u043e\\u043f\\u0438\\u044e \\u0440\\u0443\\u043a\\u043e\\u043f\\u0438\\u0441\\u043d\\u043e\\u0433\\u043e \\u0442\\u0435\\u043a\\u0441\\u0442\\u0430\",\"\\u041c\\u0438\\u043d\\u0446\\u0438\\u0444\\u0440\\u044b \\u043f\\u043e\\u0437\\u0432\\u043e\\u043b\\u0438\\u0442 \\u0440\\u043e\\u0441\\u0441\\u0438\\u044f\\u043d\\u0430\\u043c \\u0443\\u0441\\u0442\\u0430\\u043d\\u0430\\u0432\\u043b\\u0438\\u0432\\u0430\\u0442\\u044c \\u0437\\u0430\\u043f\\u0440\\u0435\\u0442 \\u043d\\u0430 \\u043f\\u043e\\u043a\\u0443\\u043f\\u043a\\u0443 \\u0441\\u0438\\u043c\\u2011\\u043a\\u0430\\u0440\\u0442 \\u0431\\u0435\\u0437 \\u0438\\u0445 \\u043f\\u0440\\u0438\\u0441\\u0443\\u0442\\u0441\\u0442\\u0432\\u0438\\u044f\",\"Bluesky \\u0437\\u0430\\u043f\\u0443\\u0441\\u043a\\u0430\\u0435\\u0442 \\u043f\\u0440\\u0438\\u043b\\u043e\\u0436\\u0435\\u043d\\u0438\\u0435 \\u0434\\u043b\\u044f \\u043e\\u0431\\u043c\\u0435\\u043d\\u0430 \\u0444\\u043e\\u0442\\u043e\\u0433\\u0440\\u0430\\u0444\\u0438\\u044f\\u043c\\u0438 Flashes\",\"\\u0422\\u0435\\u0441\\u0442 Starship Flight 7: SpaceX \\u0441\\u043c\\u043e\\u0433\\u043b\\u0430 \\u043f\\u043e\\u0439\\u043c\\u0430\\u0442\\u044c Super Heavy Booster \\u00ab\\u041c\\u0435\\u0445\\u0430\\u0434\\u0437\\u0438\\u043b\\u043b\\u043e\\u0439\\u00bb\",\"Hugging Face \\u043f\\u0440\\u0435\\u0434\\u0441\\u0442\\u0430\\u0432\\u0438\\u043b\\u0430 \\u0431\\u0435\\u0441\\u043f\\u043b\\u0430\\u0442\\u043d\\u044b\\u0439 \\u043a\\u0443\\u0440\\u0441 \\u043f\\u043e \\u0440\\u0430\\u0431\\u043e\\u0442\\u0435 \\u0441 \\u043d\\u0435\\u0439\\u0440\\u043e\\u0441\\u0435\\u0442\\u0435\\u0432\\u044b\\u043c\\u0438 \\u0430\\u0433\\u0435\\u043d\\u0442\\u0430\\u043c\\u0438\",\"\\u041c\\u0438\\u0433\\u0430\\u044e\\u0449\\u0438\\u0435 \\u0440\\u0430\\u0434\\u0438\\u043e\\u0438\\u043c\\u043f\\u0443\\u043b\\u044c\\u0441\\u044b \\u0438\\u0437 \\u043a\\u043e\\u0441\\u043c\\u043e\\u0441\\u0430 \\u043d\\u0430\\u043c\\u0435\\u043a\\u0430\\u044e\\u0442 \\u043d\\u0430 \\u043a\\u043e\\u0441\\u043c\\u0438\\u0447\\u0435\\u0441\\u043a\\u0438\\u0439 \\u043e\\u0431\\u044a\\u0435\\u043a\\u0442, \\u043a\\u043e\\u0442\\u043e\\u0440\\u043e\\u0433\\u043e \\u00ab\\u043d\\u0435 \\u0434\\u043e\\u043b\\u0436\\u043d\\u043e \\u0431\\u044b\\u0442\\u044c\\u00bb\",\"\\u041e\\u043f\\u0443\\u0431\\u043b\\u0438\\u043a\\u043e\\u0432\\u0430\\u043d\\u043e \\u0440\\u0435\\u0448\\u0435\\u043d\\u0438\\u0435 \\u043f\\u0435\\u0440\\u0432\\u044b\\u0445 100 \\u0437\\u0430\\u0434\\u0430\\u0447 \\u041f\\u0440\\u043e\\u0435\\u043a\\u0442\\u0430 \\u042d\\u0439\\u043b\\u0435\\u0440\\u0430 \\u0441 \\u0438\\u0441\\u043f\\u043e\\u043b\\u044c\\u0437\\u043e\\u0432\\u0430\\u043d\\u0438\\u0435\\u043c 100 \\u0440\\u0430\\u0437\\u043d\\u044b\\u0445 \\u044f\\u0437\\u044b\\u043a\\u043e\\u0432 \\u043f\\u0440\\u043e\\u0433\\u0440\\u0430\\u043c\\u043c\\u0438\\u0440\\u043e\\u0432\\u0430\\u043d\\u0438\\u044f\",\"AT&T \\u0437\\u0430\\u043a\\u0440\\u044b\\u043b\\u0430 \\u0441\\u0432\\u043e\\u0439 \\u0434\\u043e\\u043c\\u0430\\u0448\\u043d\\u0438\\u0439 \\u0438\\u043d\\u0442\\u0435\\u0440\\u043d\\u0435\\u0442 \\u0432 \\u041d\\u044c\\u044e-\\u0419\\u043e\\u0440\\u043a\\u0435 \\u0438\\u0437-\\u0437\\u0430 \\u0437\\u0430\\u043a\\u043e\\u043d\\u0430, \\u0442\\u0440\\u0435\\u0431\\u0443\\u044e\\u0449\\u0435\\u0433\\u043e \\u0442\\u0430\\u0440\\u0438\\u0444\\u044b \\u043f\\u043e $15 \\u043f\\u043e\\u043b\\u044c\\u0437\\u043e\\u0432\\u0430\\u0442\\u0435\\u043b\\u044f\\u043c \\u0441 \\u043d\\u0438\\u0437\\u043a\\u0438\\u043c \\u0434\\u043e\\u0445\\u043e\\u0434\\u043e\\u043c\",\"GM \\u0437\\u0430\\u043f\\u0440\\u0435\\u0442\\u0438\\u043b\\u0438 \\u043f\\u0440\\u043e\\u0434\\u0430\\u0432\\u0430\\u0442\\u044c \\u043a\\u043b\\u0438\\u0435\\u043d\\u0442\\u0441\\u043a\\u0443\\u044e \\u0438\\u043d\\u0444\\u043e\\u0440\\u043c\\u0430\\u0446\\u0438\\u044e \\u0441\\u0442\\u043e\\u0440\\u043e\\u043d\\u043d\\u0438\\u043c \\u0431\\u0440\\u043e\\u043a\\u0435\\u0440\\u0430\\u043c \\u0434\\u0430\\u043d\\u043d\\u044b\\u0445 \\u0438 \\u0441\\u0442\\u0440\\u0430\\u0445\\u043e\\u0432\\u044b\\u043c \\u043a\\u043e\\u043c\\u043f\\u0430\\u043d\\u0438\\u044f\\u043c \\u0432 \\u0442\\u0435\\u0447\\u0435\\u043d\\u0438\\u0435 \\u043f\\u044f\\u0442\\u0438 \\u043b\\u0435\\u0442\",\"\\u0421\\u0430\\u0443\\u043d\\u0434\\u0442\\u0440\\u0435\\u043a\\u0438 Super Mario Bros \\u0432\\u044b\\u0439\\u0434\\u0443\\u0442 \\u043d\\u0430 \\u0432\\u0438\\u043d\\u0438\\u043b\\u0435 \\u0432 \\u042f\\u043f\\u043e\\u043d\\u0438\\u0438\",\"Microsoft: \\u043e\\u0431\\u043d\\u043e\\u0432\\u043b\\u0435\\u043d\\u0438\\u0435 \\u0434\\u043e Windows 11 \\u0434\\u043b\\u044f \\u041f\\u041a \\u043d\\u0430 Windows 10 \\u0431\\u0443\\u0434\\u0435\\u0442 \\u0431\\u0435\\u0441\\u043f\\u043b\\u0430\\u0442\\u043d\\u043e \\u0432\\u0441\\u0451 \\u0432\\u0440\\u0435\\u043c\\u044f\",\"\\u0417\\u0430 2024 \\u0433\\u043e\\u0434 \\u043f\\u0440\\u043e\\u0434\\u0430\\u0436\\u0438 \\u0443\\u043c\\u043d\\u044b\\u0445 \\u043a\\u043e\\u043b\\u043e\\u043d\\u043e\\u043a \\u0432 \\u0420\\u0424 \\u0432\\u044b\\u0440\\u043e\\u0441\\u043b\\u0438 \\u043d\\u0430 25% \\u0438 \\u043f\\u0440\\u0435\\u0432\\u044b\\u0441\\u0438\\u043b\\u0438 6 \\u043c\\u043b\\u043d \\u0443\\u0441\\u0442\\u0440\\u043e\\u0439\\u0441\\u0442\\u0432\",\"\\u041f\\u043e\\u043b\\u0438\\u0446\\u0438\\u044f \\u042f\\u043f\\u043e\\u043d\\u0438\\u0438 \\u0430\\u0440\\u0435\\u0441\\u0442\\u043e\\u0432\\u0430\\u043b\\u0430 \\u043f\\u0440\\u043e\\u0434\\u0430\\u0432\\u0446\\u0430 \\u043c\\u043e\\u0434\\u0438\\u0444\\u0438\\u0446\\u0438\\u0440\\u043e\\u0432\\u0430\\u043d\\u043d\\u043e\\u0439 Nintendo Switch \\u0441 \\u043f\\u0438\\u0440\\u0430\\u0442\\u0441\\u043a\\u0438\\u043c\\u0438 \\u0438\\u0433\\u0440\\u0430\\u043c\\u0438\",\"\\u0420\\u043e\\u0441\\u0441\\u0438\\u0439\\u0441\\u043a\\u0438\\u0435 \\u043f\\u043e\\u043b\\u044c\\u0437\\u043e\\u0432\\u0430\\u0442\\u0435\\u043b\\u0438 iPhone \\u0441\\u0442\\u043e\\u043b\\u043a\\u043d\\u0443\\u043b\\u0438\\u0441\\u044c \\u0441 \\u043f\\u0440\\u043e\\u0431\\u043b\\u0435\\u043c\\u0430\\u043c\\u0438 \\u0432 \\u0440\\u0430\\u0431\\u043e\\u0442\\u0435 \\u043c\\u043e\\u0434\\u0443\\u043b\\u044f eSIM\",\"Microsoft \\u0440\\u0430\\u0441\\u0448\\u0438\\u0440\\u0438\\u043b\\u0430 \\u043f\\u0440\\u043e\\u0433\\u0440\\u0430\\u043c\\u043c\\u0443 \\u0440\\u0435\\u043c\\u043e\\u043d\\u0442\\u043e\\u043f\\u0440\\u0438\\u0433\\u043e\\u0434\\u043d\\u043e\\u0441\\u0442\\u0438 Xbox\",\"\\u0413\\u0435\\u043d\\u0434\\u0438\\u0440\\u0435\\u043a\\u0442\\u043e\\u0440 Replit \\u043e \\u043f\\u0440\\u043e\\u0440\\u044b\\u0432\\u0430\\u0445 \\u0418\\u0418: \\u00ab\\u041c\\u044b \\u0431\\u043e\\u043b\\u044c\\u0448\\u0435 \\u043d\\u0435 \\u0437\\u0430\\u0431\\u043e\\u0442\\u0438\\u043c\\u0441\\u044f \\u043e \\u043f\\u0440\\u043e\\u0444\\u0435\\u0441\\u0441\\u0438\\u043e\\u043d\\u0430\\u043b\\u044c\\u043d\\u044b\\u0445 \\u043a\\u043e\\u0434\\u0435\\u0440\\u0430\\u0445\\u00bb\",\"Google \\u0440\\u0435\\u0448\\u0438\\u043b\\u0430 \\u043d\\u0435 \\u0441\\u043e\\u0431\\u043b\\u044e\\u0434\\u0430\\u0442\\u044c \\u0437\\u0430\\u043a\\u043e\\u043d \\u0415\\u0421 \\u043e \\u043f\\u0440\\u043e\\u0432\\u0435\\u0440\\u043a\\u0435 \\u0444\\u0430\\u043a\\u0442\\u043e\\u0432\",\"LinkedIn \\u0432\\u043d\\u0435\\u0434\\u0440\\u0438\\u043b\\u0430 \\u0418\\u0418-\\u0444\\u0443\\u043d\\u043a\\u0446\\u0438\\u044e Job Match \\u0434\\u043b\\u044f \\u043e\\u0442\\u0441\\u0435\\u0432\\u0430 \\u043d\\u0435\\u0440\\u0435\\u043b\\u0435\\u0432\\u0430\\u043d\\u0442\\u043d\\u044b\\u0445 \\u043e\\u0442\\u043a\\u043b\\u0438\\u043a\\u043e\\u0432\",\"\\u0420\\u043e\\u0441\\u043a\\u043e\\u043c\\u043d\\u0430\\u0434\\u0437\\u043e\\u0440 \\u0431\\u0443\\u0434\\u0435\\u0442 \\u0430\\u0432\\u0442\\u043e\\u043c\\u0430\\u0442\\u0438\\u0447\\u0435\\u0441\\u043a\\u0438 \\u043e\\u0442\\u0441\\u043b\\u0435\\u0436\\u0438\\u0432\\u0430\\u0442\\u044c \\u043d\\u0430\\u0440\\u0443\\u0448\\u0435\\u043d\\u0438\\u044f \\u0432 \\u043e\\u0431\\u043e\\u0440\\u043e\\u0442\\u0435 \\u043f\\u0435\\u0440\\u0441\\u043e\\u043d\\u0430\\u043b\\u044c\\u043d\\u044b\\u0445 \\u0434\\u0430\\u043d\\u043d\\u044b\\u0445\",\"\\u0421\\u0443\\u0434 \\u043e\\u0442\\u043a\\u043b\\u043e\\u043d\\u0438\\u043b \\u0438\\u0441\\u043a \\u0438\\u043d\\u0432\\u0435\\u0441\\u0442\\u043e\\u0440\\u0430, \\u043d\\u0435\\u0434\\u043e\\u0432\\u043e\\u043b\\u044c\\u043d\\u043e\\u0433\\u043e \\u0445\\u043e\\u0434\\u043e\\u043c \\u0440\\u0435\\u0441\\u0442\\u0440\\u0443\\u043a\\u0442\\u0443\\u0440\\u0438\\u0437\\u0430\\u0446\\u0438\\u0438 \\u00ab\\u042f\\u043d\\u0434\\u0435\\u043a\\u0441\\u0430\\u00bb\",\"\\u041f\\u0440\\u0435\\u0434\\u0441\\u0442\\u0430\\u0432\\u043b\\u0435\\u043d\\u0430 \\u0442\\u0435\\u0445\\u043d\\u043e\\u043b\\u043e\\u0433\\u0438\\u044f \\u0443\\u043f\\u0440\\u0430\\u0432\\u043b\\u0435\\u043d\\u0438\\u044f \\u043c\\u043e\\u0431\\u0438\\u043b\\u044c\\u043d\\u044b\\u043c\\u0438 \\u043f\\u0440\\u0438\\u043b\\u043e\\u0436\\u0435\\u043d\\u0438\\u044f\\u043c\\u0438 \\u043d\\u0430 \\u0445\\u043e\\u0434\\u0443 \\u0441 \\u043f\\u043e\\u043c\\u043e\\u0449\\u044c\\u044e \\u043d\\u043e\\u0433\",\"\\u0412\\u044b\\u0448\\u0435\\u043b Chrome 132\",\"\\u0412 \\u0420\\u0424 \\u043f\\u0440\\u043e\\u0434\\u043b\\u0438\\u043b\\u0438 \\u043f\\u0440\\u0430\\u0432\\u043e \\u0431\\u0435\\u0441\\u043f\\u043b\\u0430\\u0442\\u043d\\u043e\\u0433\\u043e \\u043f\\u0440\\u043e\\u0435\\u0437\\u0434\\u0430 \\u043f\\u043e \\u043f\\u043b\\u0430\\u0442\\u043d\\u044b\\u043c \\u0442\\u0440\\u0430\\u0441\\u0441\\u0430\\u043c \\u0442\\u043e\\u043b\\u044c\\u043a\\u043e \\u0434\\u043b\\u044f \\u044d\\u043b\\u0435\\u043a\\u0442\\u0440\\u043e\\u043c\\u043e\\u0431\\u0438\\u043b\\u0435\\u0439 \\u0440\\u043e\\u0441\\u0441\\u0438\\u0439\\u0441\\u043a\\u043e\\u0439 \\u0441\\u0431\\u043e\\u0440\\u043a\\u0438\",\"\\u0412 VK Cloud \\u0434\\u043e\\u0431\\u0430\\u0432\\u0438\\u043b\\u0438 \\u043f\\u043e\\u043b\\u043d\\u043e\\u0442\\u0435\\u043a\\u0441\\u0442\\u043e\\u0432\\u044b\\u0439 \\u043f\\u043e\\u0438\\u0441\\u043a\\u043e\\u0432\\u044b\\u0439 \\u0434\\u0432\\u0438\\u0436\\u043e\\u043a MeiliSearch\",\"\\u0412 Huawei \\u0437\\u0430\\u044f\\u0432\\u0438\\u043b\\u0438 \\u043e \\u043d\\u0430\\u0440\\u0443\\u0448\\u0435\\u043d\\u0438\\u0438 \\u0434\\u0443\\u043e\\u043f\\u043e\\u043b\\u0438\\u0438 Android \\u0438 iOS \\u043d\\u0430 \\u0440\\u044b\\u043d\\u043a\\u0435 \\u041e\\u0421\",\"VK Education \\u043d\\u0430\\u0437\\u0432\\u0430\\u043b\\u0430 \\u043d\\u0430\\u0432\\u044b\\u043a\\u0438 \\u0433\\u043e\\u0434\\u0430 \\u0441\\u0440\\u0435\\u0434\\u0438 \\u0441\\u0442\\u0443\\u0434\\u0435\\u043d\\u0442\\u043e\\u0432 \\u0438 \\u0432\\u044b\\u043f\\u0443\\u0441\\u043a\\u043d\\u0438\\u043a\\u043e\\u0432\",\"Oracle \\u0430\\u043d\\u043e\\u043d\\u0441\\u0438\\u0440\\u043e\\u0432\\u0430\\u043b\\u0430 \\u043d\\u043e\\u0432\\u044b\\u0439 \\u043f\\u0440\\u043e\\u0435\\u043a\\u0442 \\u0434\\u043b\\u044f \\u0443\\u043b\\u0443\\u0447\\u0448\\u0435\\u043d\\u0438\\u044f \\u043e\\u0442\\u043b\\u0430\\u0434\\u043a\\u0438 \\u044f\\u0434\\u0440\\u0430 Linux \\u043f\\u043e\\u0434 \\u043d\\u0430\\u0437\\u0432\\u0430\\u043d\\u0438\\u0435\\u043c Oracle Linux Enhanced Diagnostics\",\"\\u0413\\u043b\\u043e\\u0431\\u0430\\u043b\\u044c\\u043d\\u044b\\u0439 \\u0441\\u0431\\u043e\\u0439 \\u0432 \\u0440\\u0430\\u0431\\u043e\\u0442\\u0435 Steam, \\u0438\\u0433\\u0440\\u043e\\u0432\\u044b\\u0435 \\u0441\\u0435\\u0440\\u0432\\u0438\\u0441\\u044b \\u043d\\u0430\\u0447\\u0430\\u043b\\u0438 \\u0432\\u043e\\u0437\\u0432\\u0440\\u0430\\u0449\\u0430\\u0442\\u044c\\u0441\\u044f \\u043a \\u0440\\u0430\\u0431\\u043e\\u0442\\u0435\",\"\\u042d\\u043d\\u0442\\u0443\\u0437\\u0438\\u0430\\u0441\\u0442 \\u0441\\u043e\\u0437\\u0434\\u0430\\u043b \\u044e\\u0432\\u0435\\u043b\\u0438\\u0440\\u043d\\u043e\\u0435 \\u0438\\u0437\\u0434\\u0435\\u043b\\u0438\\u0435 \\u0432 \\u0432\\u0438\\u0434\\u0435 \\u0446\\u0438\\u0444\\u0440\\u043e\\u0432\\u043e\\u0439 \\u043f\\u043e\\u0434\\u0432\\u0435\\u0441\\u043a\\u0438 \\u0441 \\u0438\\u043c\\u0438\\u0442\\u0430\\u0446\\u0438\\u0435\\u0439 \\u0436\\u0438\\u0434\\u043a\\u043e\\u0441\\u0442\\u0438\",\"\\u041f\\u0440\\u0438\\u0433\\u043b\\u0430\\u0448\\u0430\\u0435\\u043c \\u043d\\u0430 \\u0432\\u0435\\u0431\\u0438\\u043d\\u0430\\u0440 \\u00ab\\u0423\\u043f\\u0440\\u0430\\u0432\\u043b\\u044f\\u0439 \\u0438 \\u0440\\u0430\\u0437\\u0432\\u0438\\u0432\\u0430\\u0439: \\u0440\\u043e\\u043b\\u044c \\u0441\\u0438\\u0441\\u0442\\u0435\\u043c \\u043a\\u043b\\u0430\\u0441\\u0441\\u0430 IdM \\u0432 \\u043e\\u043f\\u0442\\u0438\\u043c\\u0438\\u0437\\u0430\\u0446\\u0438\\u0438 \\u0431\\u0438\\u0437\\u043d\\u0435\\u0441-\\u043f\\u0440\\u043e\\u0446\\u0435\\u0441\\u0441\\u043e\\u0432\\u00bb\",\"Kama Flow: \\u043f\\u043e\\u0442\\u0435\\u043d\\u0446\\u0438\\u0430\\u043b \\u0447\\u0430\\u0441\\u0442\\u043d\\u044b\\u0445 \\u0438\\u043d\\u0432\\u0435\\u0441\\u0442\\u0438\\u0446\\u0438\\u0439 \\u0432 \\u044d\\u043b\\u0435\\u043a\\u0442\\u0440\\u043e\\u043d\\u0438\\u043a\\u0443 \\u0441\\u043e\\u0441\\u0442\\u0430\\u0432\\u043b\\u044f\\u0435\\u0442 336 \\u043c\\u043b\\u0440\\u0434 \\u0440\\u0443\\u0431\\u043b\\u0435\\u0439\",\"FAA \\u043f\\u0440\\u0438\\u0448\\u043b\\u043e\\u0441\\u044c \\u0437\\u0430\\u043c\\u0435\\u0434\\u043b\\u0438\\u0442\\u044c \\u0438 \\u043f\\u0435\\u0440\\u0435\\u043d\\u0430\\u043f\\u0440\\u0430\\u0432\\u0438\\u0442\\u044c \\u0441\\u0430\\u043c\\u043e\\u043b\\u0451\\u0442\\u044b \\u0432\\u0431\\u043b\\u0438\\u0437\\u0438 \\u0440\\u0430\\u0439\\u043e\\u043d\\u0430, \\u0433\\u0434\\u0435 \\u0437\\u0430\\u043c\\u0435\\u0442\\u0438\\u043b\\u0438 \\u043f\\u0430\\u0434\\u0430\\u044e\\u0449\\u0438\\u0435 \\u043e\\u0431\\u043b\\u043e\\u043c\\u043a\\u0438 Starship\",\"\\u00ab\\u041b\\u0430\\u0431\\u043e\\u0440\\u0430\\u0442\\u043e\\u0440\\u0438\\u044f \\u041a\\u0430\\u0441\\u043f\\u0435\\u0440\\u0441\\u043a\\u043e\\u0433\\u043e\\u00bb \\u043f\\u043e\\u0434\\u043f\\u0438\\u0441\\u0430\\u043b\\u0430 \\u043f\\u0430\\u043a\\u0442 \\u0415\\u0432\\u0440\\u043e\\u043f\\u0435\\u0439\\u0441\\u043a\\u043e\\u0439 \\u043a\\u043e\\u043c\\u0438\\u0441\\u0441\\u0438\\u0438 \\u043e\\u0431 \\u0438\\u0441\\u043a\\u0443\\u0441\\u0441\\u0442\\u0432\\u0435\\u043d\\u043d\\u043e\\u043c \\u0438\\u043d\\u0442\\u0435\\u043b\\u043b\\u0435\\u043a\\u0442\\u0435\",\"\\u0412 VK Cloud \\u0434\\u043e\\u0431\\u0430\\u0432\\u0438\\u043b\\u0438 \\u043f\\u043e\\u043b\\u043d\\u043e\\u0442\\u0435\\u043a\\u0441\\u0442\\u043e\\u0432\\u044b\\u0439 \\u043f\\u043e\\u0438\\u0441\\u043a\\u043e\\u0432\\u044b\\u0439 \\u0434\\u0432\\u0438\\u0436\\u043e\\u043a MeiliSearch\",\"\\u0420\\u043e\\u0441\\u043a\\u043e\\u043c\\u043d\\u0430\\u0434\\u0437\\u043e\\u0440 \\u043f\\u043e\\u044f\\u0441\\u043d\\u0438\\u043b \\u043f\\u0440\\u043e\\u0431\\u043b\\u0435\\u043c\\u044b \\u0432 \\u0440\\u0430\\u0431\\u043e\\u0442\\u0435 \\u0441\\u0435\\u0440\\u0432\\u0438\\u0441\\u0430 Steam \\u0441\\u043e \\u0441\\u0431\\u043e\\u0435\\u043c \\u0432 \\u0435\\u0433\\u043e \\u0438\\u043d\\u0444\\u0440\\u0430\\u0441\\u0442\\u0440\\u0443\\u043a\\u0442\\u0443\\u0440\\u0435\",\"\\u0421\\u0435\\u0440\\u0432\\u0438\\u0441 \\u0434\\u043b\\u044f \\u0431\\u043e\\u0440\\u044c\\u0431\\u044b \\u0441 \\u043c\\u043e\\u0448\\u0435\\u043d\\u043d\\u0438\\u0447\\u0435\\u0441\\u0442\\u0432\\u043e\\u043c \\u043d\\u0430 \\u043e\\u0441\\u043d\\u043e\\u0432\\u0435 \\u0418\\u0418 AI or Not \\u043f\\u0440\\u0438\\u0432\\u043b\\u0451\\u043a 5 \\u043c\\u0438\\u043b\\u043b\\u0438\\u043e\\u043d\\u043e\\u0432 \\u0434\\u043e\\u043b\\u043b\\u0430\\u0440\\u043e\\u0432\",\"\\u0420\\u0435\\u0437\\u0438\\u0434\\u0435\\u043d\\u0442 \\u0421\\u043a\\u043e\\u043b\\u043a\\u043e\\u0432\\u043e \\u0440\\u0430\\u0437\\u0440\\u0430\\u0431\\u043e\\u0442\\u0430\\u043b \\u0442\\u0435\\u0445\\u043d\\u043e\\u043b\\u043e\\u0433\\u0438\\u044e \\u0432\\u044b\\u0434\\u0435\\u043b\\u0435\\u043d\\u0438\\u044f \\u0438\\u0437\\u043e\\u0442\\u043e\\u043f\\u0430 \\u0443\\u0433\\u043b\\u0435\\u0440\\u043e\\u0434\\u0430 \\u0434\\u043b\\u044f \\u0441\\u043e\\u0437\\u0434\\u0430\\u043d\\u0438\\u044f \\u044f\\u0434\\u0435\\u0440\\u043d\\u044b\\u0445 \\u0431\\u0430\\u0442\\u0430\\u0440\\u0435\\u0435\\u043a\"],\"x\":[0.09366294981720216,-0.045799566078337725,-0.05176126311599336,-0.08760483446835522,0.024670710017774163,-0.01885235574914717,-0.12329496861100842,-0.17303933645012692,-0.0003478518546946686,-0.013211035917000884,0.03994573951207628,-0.2904920290622265,0.042082399237681284,-0.006467118034415762,0.043627255876380215,0.3942876014709611,0.19068894620446358,-0.0200684678898815,0.28762176411188745,-0.11602931884825261,-0.11922004524777251,0.09865123607492418,0.3677428850316123,0.20776629463353366,0.3850058201508993,0.14870165218494277,0.11488727444568488,0.3291568814857743,0.0631781625834928,-0.11502916583243042,-0.07889179799988463,0.09355896100637062,-0.04142503448442813,-0.23364987508127155,-0.29376192331490464,-0.09403824125116934,-0.02342997298105248,0.005901336414084828,0.33966105402862046,-0.1535058075436645,-0.118828405888632,-0.1228908598624972,-0.03680292892760022,0.43742848356099656,0.07459588294687305,-0.16369264096210231,0.07877005102794964,-0.10356935781655727,-0.03459492575648622,-0.10856982031249864,-0.010133895340731747,0.006420805824010375,-0.09092560709357785,-0.2545187692169447,0.03072774255737438,-0.037230048027206086,-0.1494481386259834,0.014059378992867386,-0.04579956607833753,0.04866878551357767,-0.04579956607833753,-0.08953710719730715,0.09124113367794223,0.07755639155873346,-0.04735781676978546,0.08165188345942866,-0.14849955239239995,-0.030038799283692384,-0.042525152158454996,-0.004471340896240613,0.13435716772565598,-0.0009846007670342898,-0.09371654453244471,0.11375734379424701,-0.23324409715487948,-0.11235769176603148,-0.01998413523600663,0.0344983056848951,0.125637170327311,0.03760079815039654,0.1539889755959788,-0.11962238283395302,-0.12758775030076072,0.012688964789846345,0.1146058118520811,-0.14174932731199014,0.05070670344396897,0.06747417654213494,-0.10759314206732418,0.1101129048518722,-0.13085003281954496,-0.030329296420034117,-0.03442292816943771,-0.1945862114564225,-0.12995495672409288,0.10006035989466137,0.043637419273656025,-0.17670930935773915,0.15826571279813675,-0.030464562713872104],\"y\":[0.02748544312506387,0.006419923508236751,0.16491661050299877,-0.08312228015417242,-0.07936011902361718,-0.10625693631591158,-0.10671731275901988,-0.13051886788076603,-0.14688763376105954,-0.01909016476397321,-0.10918344521255806,0.5361276350517424,-0.02248601995982535,-0.06869643830240733,-0.10654690464574457,0.02218982326658623,-0.16589981495345976,-0.1213767377574182,0.1116160330053902,-0.022292944679651802,-0.1923005080306463,-0.20484451800091477,0.2311343591302247,-0.08203497764676652,0.20790276261139848,-0.04190782819502033,-0.14755464185876166,0.08029982348903895,-0.022075252405045997,-0.04590331450380284,0.10961225282233131,-0.17708593081120322,-0.02589162907237112,0.12922119892081202,0.5311634264816012,0.003784616191956252,-0.022435137378976542,-0.01945282530971521,0.1713792594355425,-0.030461695930474878,-0.004425974477478153,0.208376776400742,0.06986505090376763,0.2870201998624626,0.0009160058546913061,-0.10781454583825521,0.13893434030168791,-0.05273276999183515,-0.0077484077922890075,0.009080472585732186,0.007975899465307542,-0.20862615692532488,-0.13070274092886705,-0.04499973455808623,-0.03977941728999275,0.09832303185834892,-0.020971027392640604,0.11537756627036606,0.006419923508236815,-0.1252544677360013,0.006419923508236815,-0.01278137402823208,0.043615515916727104,-0.06253162803676017,0.23368880880420775,0.010167495381704854,-0.060151991944792885,-0.17932222750859647,-0.007051882689221774,-0.12016514481401866,0.21307104404994145,0.0671070187200177,-0.01838998033951629,0.1696856125177739,-0.02148634041829185,0.051986169434477675,0.11767424800554828,0.035730647538038375,-0.11671749337394416,-0.011958929162794365,0.030093257876272716,0.049833770367667916,-0.0541187165689251,-0.07048251907149207,0.0872482219767635,0.039263103617337335,-0.10445948501392927,-0.13323017129718454,-0.18360596706623614,-0.1362340260209972,0.24212107558118856,-0.015867967103206534,-0.008775845880613404,-0.13388026938247755,-0.06553076697252161,-0.11687286894960473,-0.123732076805868,0.3148593411448685,-0.08943662216874408,-0.09788427213301361],\"z\":[0.07375729440466477,-0.02663657601799843,-0.035053357409243494,-0.01038390243398408,0.05192203913635611,-0.03758951506675314,-0.016816374798938334,-0.09257501492201545,-0.00995243921114141,-0.010916294172720472,0.02360559048102391,0.13911304966252042,-0.008756043158295822,-0.03723445745519569,0.16390410546218911,-0.00034628532693662225,0.015851968344342455,-0.0536572267178199,-0.04098306844528682,-0.04629164256736241,-0.025567997841126858,0.06377303502558697,-0.10959234889710605,-0.014038082630561156,-0.10669590112245032,0.11168938522802567,-0.05598586706231639,-0.03162933685756666,0.12058930879433744,-0.18265790986315028,-0.11667900715792424,0.0019862799444176293,-0.015847851861932487,0.01297918094271718,0.10994774933502711,0.015549931578016762,0.06421846104804523,-0.06486058128561349,-0.06924676957883288,0.03363950457778582,-0.26240640401205767,-0.0848758441829473,-0.013733039508319807,-0.12974646316245944,0.1606945305396912,0.11359711084884863,-0.11428835917746641,-0.22874569757007415,-0.08654772279070398,-0.10990360983272214,0.004046820234693475,0.06457512024836394,0.10057036504172048,0.010472297991291115,0.15489171779146169,0.0013690440404650174,0.014205910845748645,0.11463617036300437,-0.026636576017998393,0.06174415933661789,-0.026636576017998393,-0.1411209845709364,-0.03903722277061318,-0.04675079698910059,-0.03524594121048311,-0.09374486931902831,-0.3508072413478403,-0.060578742200607105,-0.13694507475195378,-0.0009647379978947195,-0.06519599625841552,-0.08979544044257186,-0.07537537432508772,-0.07883375775978649,0.02187070941640664,-0.11968307846050197,0.07682886175549183,-0.03289861333255143,-0.07593451474899736,0.13207986248237563,0.021578877883059316,0.08491565234066929,-0.05385869567276142,-0.040201276583402196,0.07543579262874049,-0.1430538048200095,0.5818663371028702,0.00424243935125546,0.037312630033224894,0.1293649562441404,0.2783438241441061,-0.033914269644881964,0.08375345835122469,-0.00789420624074467,-0.2978352428333068,0.04926441977161331,0.551179700534907,0.3328751339405407,0.06670688995295981,-0.007765650764050554],\"type\":\"scatter3d\"}],                        {\"template\":{\"data\":{\"histogram2dcontour\":[{\"type\":\"histogram2dcontour\",\"colorbar\":{\"outlinewidth\":0,\"ticks\":\"\"},\"colorscale\":[[0.0,\"#0d0887\"],[0.1111111111111111,\"#46039f\"],[0.2222222222222222,\"#7201a8\"],[0.3333333333333333,\"#9c179e\"],[0.4444444444444444,\"#bd3786\"],[0.5555555555555556,\"#d8576b\"],[0.6666666666666666,\"#ed7953\"],[0.7777777777777778,\"#fb9f3a\"],[0.8888888888888888,\"#fdca26\"],[1.0,\"#f0f921\"]]}],\"choropleth\":[{\"type\":\"choropleth\",\"colorbar\":{\"outlinewidth\":0,\"ticks\":\"\"}}],\"histogram2d\":[{\"type\":\"histogram2d\",\"colorbar\":{\"outlinewidth\":0,\"ticks\":\"\"},\"colorscale\":[[0.0,\"#0d0887\"],[0.1111111111111111,\"#46039f\"],[0.2222222222222222,\"#7201a8\"],[0.3333333333333333,\"#9c179e\"],[0.4444444444444444,\"#bd3786\"],[0.5555555555555556,\"#d8576b\"],[0.6666666666666666,\"#ed7953\"],[0.7777777777777778,\"#fb9f3a\"],[0.8888888888888888,\"#fdca26\"],[1.0,\"#f0f921\"]]}],\"heatmap\":[{\"type\":\"heatmap\",\"colorbar\":{\"outlinewidth\":0,\"ticks\":\"\"},\"colorscale\":[[0.0,\"#0d0887\"],[0.1111111111111111,\"#46039f\"],[0.2222222222222222,\"#7201a8\"],[0.3333333333333333,\"#9c179e\"],[0.4444444444444444,\"#bd3786\"],[0.5555555555555556,\"#d8576b\"],[0.6666666666666666,\"#ed7953\"],[0.7777777777777778,\"#fb9f3a\"],[0.8888888888888888,\"#fdca26\"],[1.0,\"#f0f921\"]]}],\"heatmapgl\":[{\"type\":\"heatmapgl\",\"colorbar\":{\"outlinewidth\":0,\"ticks\":\"\"},\"colorscale\":[[0.0,\"#0d0887\"],[0.1111111111111111,\"#46039f\"],[0.2222222222222222,\"#7201a8\"],[0.3333333333333333,\"#9c179e\"],[0.4444444444444444,\"#bd3786\"],[0.5555555555555556,\"#d8576b\"],[0.6666666666666666,\"#ed7953\"],[0.7777777777777778,\"#fb9f3a\"],[0.8888888888888888,\"#fdca26\"],[1.0,\"#f0f921\"]]}],\"contourcarpet\":[{\"type\":\"contourcarpet\",\"colorbar\":{\"outlinewidth\":0,\"ticks\":\"\"}}],\"contour\":[{\"type\":\"contour\",\"colorbar\":{\"outlinewidth\":0,\"ticks\":\"\"},\"colorscale\":[[0.0,\"#0d0887\"],[0.1111111111111111,\"#46039f\"],[0.2222222222222222,\"#7201a8\"],[0.3333333333333333,\"#9c179e\"],[0.4444444444444444,\"#bd3786\"],[0.5555555555555556,\"#d8576b\"],[0.6666666666666666,\"#ed7953\"],[0.7777777777777778,\"#fb9f3a\"],[0.8888888888888888,\"#fdca26\"],[1.0,\"#f0f921\"]]}],\"surface\":[{\"type\":\"surface\",\"colorbar\":{\"outlinewidth\":0,\"ticks\":\"\"},\"colorscale\":[[0.0,\"#0d0887\"],[0.1111111111111111,\"#46039f\"],[0.2222222222222222,\"#7201a8\"],[0.3333333333333333,\"#9c179e\"],[0.4444444444444444,\"#bd3786\"],[0.5555555555555556,\"#d8576b\"],[0.6666666666666666,\"#ed7953\"],[0.7777777777777778,\"#fb9f3a\"],[0.8888888888888888,\"#fdca26\"],[1.0,\"#f0f921\"]]}],\"mesh3d\":[{\"type\":\"mesh3d\",\"colorbar\":{\"outlinewidth\":0,\"ticks\":\"\"}}],\"scatter\":[{\"fillpattern\":{\"fillmode\":\"overlay\",\"size\":10,\"solidity\":0.2},\"type\":\"scatter\"}],\"parcoords\":[{\"type\":\"parcoords\",\"line\":{\"colorbar\":{\"outlinewidth\":0,\"ticks\":\"\"}}}],\"scatterpolargl\":[{\"type\":\"scatterpolargl\",\"marker\":{\"colorbar\":{\"outlinewidth\":0,\"ticks\":\"\"}}}],\"bar\":[{\"error_x\":{\"color\":\"#2a3f5f\"},\"error_y\":{\"color\":\"#2a3f5f\"},\"marker\":{\"line\":{\"color\":\"#E5ECF6\",\"width\":0.5},\"pattern\":{\"fillmode\":\"overlay\",\"size\":10,\"solidity\":0.2}},\"type\":\"bar\"}],\"scattergeo\":[{\"type\":\"scattergeo\",\"marker\":{\"colorbar\":{\"outlinewidth\":0,\"ticks\":\"\"}}}],\"scatterpolar\":[{\"type\":\"scatterpolar\",\"marker\":{\"colorbar\":{\"outlinewidth\":0,\"ticks\":\"\"}}}],\"histogram\":[{\"marker\":{\"pattern\":{\"fillmode\":\"overlay\",\"size\":10,\"solidity\":0.2}},\"type\":\"histogram\"}],\"scattergl\":[{\"type\":\"scattergl\",\"marker\":{\"colorbar\":{\"outlinewidth\":0,\"ticks\":\"\"}}}],\"scatter3d\":[{\"type\":\"scatter3d\",\"line\":{\"colorbar\":{\"outlinewidth\":0,\"ticks\":\"\"}},\"marker\":{\"colorbar\":{\"outlinewidth\":0,\"ticks\":\"\"}}}],\"scattermapbox\":[{\"type\":\"scattermapbox\",\"marker\":{\"colorbar\":{\"outlinewidth\":0,\"ticks\":\"\"}}}],\"scatterternary\":[{\"type\":\"scatterternary\",\"marker\":{\"colorbar\":{\"outlinewidth\":0,\"ticks\":\"\"}}}],\"scattercarpet\":[{\"type\":\"scattercarpet\",\"marker\":{\"colorbar\":{\"outlinewidth\":0,\"ticks\":\"\"}}}],\"carpet\":[{\"aaxis\":{\"endlinecolor\":\"#2a3f5f\",\"gridcolor\":\"white\",\"linecolor\":\"white\",\"minorgridcolor\":\"white\",\"startlinecolor\":\"#2a3f5f\"},\"baxis\":{\"endlinecolor\":\"#2a3f5f\",\"gridcolor\":\"white\",\"linecolor\":\"white\",\"minorgridcolor\":\"white\",\"startlinecolor\":\"#2a3f5f\"},\"type\":\"carpet\"}],\"table\":[{\"cells\":{\"fill\":{\"color\":\"#EBF0F8\"},\"line\":{\"color\":\"white\"}},\"header\":{\"fill\":{\"color\":\"#C8D4E3\"},\"line\":{\"color\":\"white\"}},\"type\":\"table\"}],\"barpolar\":[{\"marker\":{\"line\":{\"color\":\"#E5ECF6\",\"width\":0.5},\"pattern\":{\"fillmode\":\"overlay\",\"size\":10,\"solidity\":0.2}},\"type\":\"barpolar\"}],\"pie\":[{\"automargin\":true,\"type\":\"pie\"}]},\"layout\":{\"autotypenumbers\":\"strict\",\"colorway\":[\"#636efa\",\"#EF553B\",\"#00cc96\",\"#ab63fa\",\"#FFA15A\",\"#19d3f3\",\"#FF6692\",\"#B6E880\",\"#FF97FF\",\"#FECB52\"],\"font\":{\"color\":\"#2a3f5f\"},\"hovermode\":\"closest\",\"hoverlabel\":{\"align\":\"left\"},\"paper_bgcolor\":\"white\",\"plot_bgcolor\":\"#E5ECF6\",\"polar\":{\"bgcolor\":\"#E5ECF6\",\"angularaxis\":{\"gridcolor\":\"white\",\"linecolor\":\"white\",\"ticks\":\"\"},\"radialaxis\":{\"gridcolor\":\"white\",\"linecolor\":\"white\",\"ticks\":\"\"}},\"ternary\":{\"bgcolor\":\"#E5ECF6\",\"aaxis\":{\"gridcolor\":\"white\",\"linecolor\":\"white\",\"ticks\":\"\"},\"baxis\":{\"gridcolor\":\"white\",\"linecolor\":\"white\",\"ticks\":\"\"},\"caxis\":{\"gridcolor\":\"white\",\"linecolor\":\"white\",\"ticks\":\"\"}},\"coloraxis\":{\"colorbar\":{\"outlinewidth\":0,\"ticks\":\"\"}},\"colorscale\":{\"sequential\":[[0.0,\"#0d0887\"],[0.1111111111111111,\"#46039f\"],[0.2222222222222222,\"#7201a8\"],[0.3333333333333333,\"#9c179e\"],[0.4444444444444444,\"#bd3786\"],[0.5555555555555556,\"#d8576b\"],[0.6666666666666666,\"#ed7953\"],[0.7777777777777778,\"#fb9f3a\"],[0.8888888888888888,\"#fdca26\"],[1.0,\"#f0f921\"]],\"sequentialminus\":[[0.0,\"#0d0887\"],[0.1111111111111111,\"#46039f\"],[0.2222222222222222,\"#7201a8\"],[0.3333333333333333,\"#9c179e\"],[0.4444444444444444,\"#bd3786\"],[0.5555555555555556,\"#d8576b\"],[0.6666666666666666,\"#ed7953\"],[0.7777777777777778,\"#fb9f3a\"],[0.8888888888888888,\"#fdca26\"],[1.0,\"#f0f921\"]],\"diverging\":[[0,\"#8e0152\"],[0.1,\"#c51b7d\"],[0.2,\"#de77ae\"],[0.3,\"#f1b6da\"],[0.4,\"#fde0ef\"],[0.5,\"#f7f7f7\"],[0.6,\"#e6f5d0\"],[0.7,\"#b8e186\"],[0.8,\"#7fbc41\"],[0.9,\"#4d9221\"],[1,\"#276419\"]]},\"xaxis\":{\"gridcolor\":\"white\",\"linecolor\":\"white\",\"ticks\":\"\",\"title\":{\"standoff\":15},\"zerolinecolor\":\"white\",\"automargin\":true,\"zerolinewidth\":2},\"yaxis\":{\"gridcolor\":\"white\",\"linecolor\":\"white\",\"ticks\":\"\",\"title\":{\"standoff\":15},\"zerolinecolor\":\"white\",\"automargin\":true,\"zerolinewidth\":2},\"scene\":{\"xaxis\":{\"backgroundcolor\":\"#E5ECF6\",\"gridcolor\":\"white\",\"linecolor\":\"white\",\"showbackground\":true,\"ticks\":\"\",\"zerolinecolor\":\"white\",\"gridwidth\":2},\"yaxis\":{\"backgroundcolor\":\"#E5ECF6\",\"gridcolor\":\"white\",\"linecolor\":\"white\",\"showbackground\":true,\"ticks\":\"\",\"zerolinecolor\":\"white\",\"gridwidth\":2},\"zaxis\":{\"backgroundcolor\":\"#E5ECF6\",\"gridcolor\":\"white\",\"linecolor\":\"white\",\"showbackground\":true,\"ticks\":\"\",\"zerolinecolor\":\"white\",\"gridwidth\":2}},\"shapedefaults\":{\"line\":{\"color\":\"#2a3f5f\"}},\"annotationdefaults\":{\"arrowcolor\":\"#2a3f5f\",\"arrowhead\":0,\"arrowwidth\":1},\"geo\":{\"bgcolor\":\"white\",\"landcolor\":\"#E5ECF6\",\"subunitcolor\":\"white\",\"showland\":true,\"showlakes\":true,\"lakecolor\":\"white\"},\"title\":{\"x\":0.05},\"mapbox\":{\"style\":\"light\"}}},\"margin\":{\"l\":0,\"r\":0,\"b\":0,\"t\":50},\"title\":{\"text\":\"3D PCA \\u0432\\u0438\\u0437\\u0443\\u0430\\u043b\\u0438\\u0437\\u0430\\u0446\\u0438\\u044f \\u0441\\u0442\\u0430\\u0442\\u0435\\u0439\"},\"scene\":{\"xaxis\":{\"title\":{\"text\":\"PC1\"}},\"yaxis\":{\"title\":{\"text\":\"PC2\"}},\"zaxis\":{\"title\":{\"text\":\"PC3\"}}},\"updatemenus\":[{\"buttons\":[{\"args\":[null,{\"frame\":{\"duration\":50,\"redraw\":true},\"transition\":{\"duration\":0},\"fromcurrent\":true,\"mode\":\"immediate\"}],\"label\":\"\\u0412\\u0440\\u0430\\u0449\\u0430\\u0442\\u044c\",\"method\":\"animate\"}],\"showactive\":false,\"type\":\"buttons\",\"x\":1.05,\"xanchor\":\"left\",\"y\":0.8,\"yanchor\":\"top\"}]},                        {\"responsive\": true}                    ).then(function(){\n",
       "                            Plotly.addFrames('fc2269fa-fa24-4617-998d-b4437357ec52', [{\"layout\":{\"scene\":{\"camera\":{\"eye\":{\"x\":2.0,\"y\":0.0,\"z\":1.5}}}}},{\"layout\":{\"scene\":{\"camera\":{\"eye\":{\"x\":1.969615506024416,\"y\":0.34729635533386066,\"z\":1.5}}}}},{\"layout\":{\"scene\":{\"camera\":{\"eye\":{\"x\":1.8793852415718169,\"y\":0.6840402866513374,\"z\":1.5}}}}},{\"layout\":{\"scene\":{\"camera\":{\"eye\":{\"x\":1.7320508075688774,\"y\":0.9999999999999999,\"z\":1.5}}}}},{\"layout\":{\"scene\":{\"camera\":{\"eye\":{\"x\":1.532088886237956,\"y\":1.2855752193730785,\"z\":1.5}}}}},{\"layout\":{\"scene\":{\"camera\":{\"eye\":{\"x\":1.2855752193730787,\"y\":1.532088886237956,\"z\":1.5}}}}},{\"layout\":{\"scene\":{\"camera\":{\"eye\":{\"x\":1.0000000000000002,\"y\":1.7320508075688772,\"z\":1.5}}}}},{\"layout\":{\"scene\":{\"camera\":{\"eye\":{\"x\":0.6840402866513376,\"y\":1.8793852415718166,\"z\":1.5}}}}},{\"layout\":{\"scene\":{\"camera\":{\"eye\":{\"x\":0.34729635533386083,\"y\":1.969615506024416,\"z\":1.5}}}}},{\"layout\":{\"scene\":{\"camera\":{\"eye\":{\"x\":1.2246467991473532e-16,\"y\":2.0,\"z\":1.5}}}}},{\"layout\":{\"scene\":{\"camera\":{\"eye\":{\"x\":-0.3472963553338606,\"y\":1.969615506024416,\"z\":1.5}}}}},{\"layout\":{\"scene\":{\"camera\":{\"eye\":{\"x\":-0.6840402866513374,\"y\":1.8793852415718169,\"z\":1.5}}}}},{\"layout\":{\"scene\":{\"camera\":{\"eye\":{\"x\":-0.9999999999999996,\"y\":1.7320508075688774,\"z\":1.5}}}}},{\"layout\":{\"scene\":{\"camera\":{\"eye\":{\"x\":-1.2855752193730787,\"y\":1.532088886237956,\"z\":1.5}}}}},{\"layout\":{\"scene\":{\"camera\":{\"eye\":{\"x\":-1.5320888862379558,\"y\":1.285575219373079,\"z\":1.5}}}}},{\"layout\":{\"scene\":{\"camera\":{\"eye\":{\"x\":-1.7320508075688774,\"y\":0.9999999999999999,\"z\":1.5}}}}},{\"layout\":{\"scene\":{\"camera\":{\"eye\":{\"x\":-1.8793852415718166,\"y\":0.6840402866513378,\"z\":1.5}}}}},{\"layout\":{\"scene\":{\"camera\":{\"eye\":{\"x\":-1.969615506024416,\"y\":0.34729635533386055,\"z\":1.5}}}}},{\"layout\":{\"scene\":{\"camera\":{\"eye\":{\"x\":-2.0,\"y\":2.4492935982947064e-16,\"z\":1.5}}}}},{\"layout\":{\"scene\":{\"camera\":{\"eye\":{\"x\":-1.969615506024416,\"y\":-0.34729635533386094,\"z\":1.5}}}}},{\"layout\":{\"scene\":{\"camera\":{\"eye\":{\"x\":-1.8793852415718169,\"y\":-0.6840402866513373,\"z\":1.5}}}}},{\"layout\":{\"scene\":{\"camera\":{\"eye\":{\"x\":-1.7320508075688772,\"y\":-1.0000000000000002,\"z\":1.5}}}}},{\"layout\":{\"scene\":{\"camera\":{\"eye\":{\"x\":-1.532088886237956,\"y\":-1.2855752193730785,\"z\":1.5}}}}},{\"layout\":{\"scene\":{\"camera\":{\"eye\":{\"x\":-1.285575219373079,\"y\":-1.5320888862379558,\"z\":1.5}}}}},{\"layout\":{\"scene\":{\"camera\":{\"eye\":{\"x\":-1.0000000000000009,\"y\":-1.7320508075688767,\"z\":1.5}}}}},{\"layout\":{\"scene\":{\"camera\":{\"eye\":{\"x\":-0.6840402866513371,\"y\":-1.8793852415718169,\"z\":1.5}}}}},{\"layout\":{\"scene\":{\"camera\":{\"eye\":{\"x\":-0.34729635533386066,\"y\":-1.969615506024416,\"z\":1.5}}}}},{\"layout\":{\"scene\":{\"camera\":{\"eye\":{\"x\":-3.6739403974420594e-16,\"y\":-2.0,\"z\":1.5}}}}},{\"layout\":{\"scene\":{\"camera\":{\"eye\":{\"x\":0.34729635533385994,\"y\":-1.9696155060244163,\"z\":1.5}}}}},{\"layout\":{\"scene\":{\"camera\":{\"eye\":{\"x\":0.684040286651338,\"y\":-1.8793852415718166,\"z\":1.5}}}}},{\"layout\":{\"scene\":{\"camera\":{\"eye\":{\"x\":1.0000000000000002,\"y\":-1.7320508075688772,\"z\":1.5}}}}},{\"layout\":{\"scene\":{\"camera\":{\"eye\":{\"x\":1.2855752193730785,\"y\":-1.5320888862379562,\"z\":1.5}}}}},{\"layout\":{\"scene\":{\"camera\":{\"eye\":{\"x\":1.5320888862379556,\"y\":-1.2855752193730792,\"z\":1.5}}}}},{\"layout\":{\"scene\":{\"camera\":{\"eye\":{\"x\":1.7320508075688767,\"y\":-1.0000000000000009,\"z\":1.5}}}}},{\"layout\":{\"scene\":{\"camera\":{\"eye\":{\"x\":1.8793852415718169,\"y\":-0.6840402866513372,\"z\":1.5}}}}},{\"layout\":{\"scene\":{\"camera\":{\"eye\":{\"x\":1.969615506024416,\"y\":-0.3472963553338608,\"z\":1.5}}}}}]);\n",
       "                        }).then(function(){\n",
       "                            \n",
       "var gd = document.getElementById('fc2269fa-fa24-4617-998d-b4437357ec52');\n",
       "var x = new MutationObserver(function (mutations, observer) {{\n",
       "        var display = window.getComputedStyle(gd).display;\n",
       "        if (!display || display === 'none') {{\n",
       "            console.log([gd, 'removed!']);\n",
       "            Plotly.purge(gd);\n",
       "            observer.disconnect();\n",
       "        }}\n",
       "}});\n",
       "\n",
       "// Listen for the removal of the full notebook cells\n",
       "var notebookContainer = gd.closest('#notebook-container');\n",
       "if (notebookContainer) {{\n",
       "    x.observe(notebookContainer, {childList: true});\n",
       "}}\n",
       "\n",
       "// Listen for the clearing of the current output cell\n",
       "var outputEl = gd.closest('.output');\n",
       "if (outputEl) {{\n",
       "    x.observe(outputEl, {childList: true});\n",
       "}}\n",
       "\n",
       "                        })                };                });            </script>        </div>"
      ]
     },
     "metadata": {},
     "output_type": "display_data"
    }
   ],
   "source": [
    "from sklearn.decomposition import PCA\n",
    "import plotly.graph_objects as go\n",
    "\n",
    "# Применяем PCA для уменьшения размерности до 3 компонент\n",
    "pca = PCA(n_components=3)\n",
    "X_pca = pca.fit_transform(X.toarray())\n",
    "\n",
    "# Создаем DataFrame для визуализации\n",
    "df_plot = pd.DataFrame({\n",
    "    'PC1': X_pca[:, 0],\n",
    "    'PC2': X_pca[:, 1],\n",
    "    'PC3': X_pca[:, 2],\n",
    "    'title': titles,\n",
    "    'label': labels\n",
    "})\n",
    "\n",
    "# Создаем 3D Scatter Plot\n",
    "fig = go.Figure(data=[go.Scatter3d(\n",
    "    x=df_plot['PC1'],\n",
    "    y=df_plot['PC2'],\n",
    "    z=df_plot['PC3'],\n",
    "    mode='markers',\n",
    "    marker=dict(\n",
    "        size=5,\n",
    "        color=df_plot['label'],\n",
    "        colorscale='Viridis',\n",
    "        opacity=0.8\n",
    "    ),\n",
    "    text=df_plot['title'],\n",
    "    hovertemplate='%{text}<extra></extra>'\n",
    ")])\n",
    "\n",
    "# Настраиваем внешний вид графика\n",
    "fig.update_layout(\n",
    "    title='3D PCA визуализация статей',\n",
    "    scene=dict(\n",
    "        xaxis_title='PC1',\n",
    "        yaxis_title='PC2',\n",
    "        zaxis_title='PC3'\n",
    "    ),\n",
    "    margin=dict(l=0, r=0, b=0, t=50)\n",
    ")\n",
    "\n",
    "# Генерируем кадры для анимации вращения графика\n",
    "frames = []\n",
    "for angle in range(0, 360, 10):\n",
    "    camera = dict(\n",
    "        eye=dict(x=2*np.cos(np.radians(angle)), y=2*np.sin(np.radians(angle)), z=1.5)\n",
    "    )\n",
    "    frames.append(go.Frame(layout=dict(scene_camera=camera)))\n",
    "\n",
    "# Добавляем кадры в график\n",
    "fig.frames = frames\n",
    "\n",
    "# Добавляем кнопки управления анимацией\n",
    "fig.update_layout(\n",
    "    updatemenus=[dict(\n",
    "        type='buttons',\n",
    "        showactive=False,\n",
    "        y=0.8,\n",
    "        x=1.05,\n",
    "        xanchor='left',\n",
    "        yanchor='top',\n",
    "        buttons=[dict(label='Вращать',\n",
    "                      method='animate',\n",
    "                      args=[None, dict(frame=dict(duration=50, redraw=True),\n",
    "                                       transition=dict(duration=0),\n",
    "                                       fromcurrent=True,\n",
    "                                       mode='immediate')])]\n",
    "    )]\n",
    ")\n",
    "\n",
    "# Отображаем график\n",
    "fig.show()\n"
   ]
  },
  {
   "cell_type": "code",
   "execution_count": null,
   "metadata": {},
   "outputs": [],
   "source": []
  }
 ],
 "metadata": {
  "colab": {
   "authorship_tag": "ABX9TyPdazx5zfyd5iTUeKTck6x3",
   "include_colab_link": true,
   "provenance": []
  },
  "kernelspec": {
   "display_name": "Python 3 (ipykernel)",
   "language": "python",
   "name": "python3"
  },
  "language_info": {
   "codemirror_mode": {
    "name": "ipython",
    "version": 3
   },
   "file_extension": ".py",
   "mimetype": "text/x-python",
   "name": "python",
   "nbconvert_exporter": "python",
   "pygments_lexer": "ipython3",
   "version": "3.12.8"
  },
  "widgets": {
   "application/vnd.jupyter.widget-state+json": {
    "01bb4df0fc4c4d6b937bc78e56a70403": {
     "model_module": "@jupyter-widgets/controls",
     "model_module_version": "1.5.0",
     "model_name": "VBoxModel",
     "state": {
      "_dom_classes": [],
      "_model_module": "@jupyter-widgets/controls",
      "_model_module_version": "1.5.0",
      "_model_name": "VBoxModel",
      "_view_count": null,
      "_view_module": "@jupyter-widgets/controls",
      "_view_module_version": "1.5.0",
      "_view_name": "VBoxView",
      "box_style": "",
      "children": [
       "IPY_MODEL_6e9aa9c24b8e4414b31cc49c789b4bfa",
       "IPY_MODEL_2840ee3bf3c84fe1970910f50709eebb",
       "IPY_MODEL_3904532b653140f1b66747b04ed3d891"
      ],
      "layout": "IPY_MODEL_aad59669d90b4089a74ceb43f39e81e5"
     }
    },
    "1e06f4955d3e4f859293b182a565276e": {
     "model_module": "@jupyter-widgets/controls",
     "model_module_version": "1.5.0",
     "model_name": "IntSliderModel",
     "state": {
      "_dom_classes": [],
      "_model_module": "@jupyter-widgets/controls",
      "_model_module_version": "1.5.0",
      "_model_name": "IntSliderModel",
      "_view_count": null,
      "_view_module": "@jupyter-widgets/controls",
      "_view_module_version": "1.5.0",
      "_view_name": "IntSliderView",
      "continuous_update": true,
      "description": "Clusters (k):",
      "description_tooltip": null,
      "disabled": false,
      "layout": "IPY_MODEL_2e48594049f34f02bc96e03f4ffa5da5",
      "max": 10,
      "min": 2,
      "orientation": "horizontal",
      "readout": true,
      "readout_format": "d",
      "step": 1,
      "style": "IPY_MODEL_b608e700b83d4fb9ae3f4f2610a530ef",
      "value": 7
     }
    },
    "2840ee3bf3c84fe1970910f50709eebb": {
     "model_module": "@jupyter-widgets/controls",
     "model_module_version": "1.5.0",
     "model_name": "IntSliderModel",
     "state": {
      "_dom_classes": [],
      "_model_module": "@jupyter-widgets/controls",
      "_model_module_version": "1.5.0",
      "_model_name": "IntSliderModel",
      "_view_count": null,
      "_view_module": "@jupyter-widgets/controls",
      "_view_module_version": "1.5.0",
      "_view_name": "IntSliderView",
      "continuous_update": true,
      "description": "min_samples:",
      "description_tooltip": null,
      "disabled": false,
      "layout": "IPY_MODEL_abae27ab9fd14e7abfa711ec143356e4",
      "max": 20,
      "min": 1,
      "orientation": "horizontal",
      "readout": true,
      "readout_format": "d",
      "step": 1,
      "style": "IPY_MODEL_8a70f291f5124752bf276b495d97c76e",
      "value": 4
     }
    },
    "2e48594049f34f02bc96e03f4ffa5da5": {
     "model_module": "@jupyter-widgets/base",
     "model_module_version": "1.2.0",
     "model_name": "LayoutModel",
     "state": {
      "_model_module": "@jupyter-widgets/base",
      "_model_module_version": "1.2.0",
      "_model_name": "LayoutModel",
      "_view_count": null,
      "_view_module": "@jupyter-widgets/base",
      "_view_module_version": "1.2.0",
      "_view_name": "LayoutView",
      "align_content": null,
      "align_items": null,
      "align_self": null,
      "border": null,
      "bottom": null,
      "display": null,
      "flex": null,
      "flex_flow": null,
      "grid_area": null,
      "grid_auto_columns": null,
      "grid_auto_flow": null,
      "grid_auto_rows": null,
      "grid_column": null,
      "grid_gap": null,
      "grid_row": null,
      "grid_template_areas": null,
      "grid_template_columns": null,
      "grid_template_rows": null,
      "height": null,
      "justify_content": null,
      "justify_items": null,
      "left": null,
      "margin": null,
      "max_height": null,
      "max_width": null,
      "min_height": null,
      "min_width": null,
      "object_fit": null,
      "object_position": null,
      "order": null,
      "overflow": null,
      "overflow_x": null,
      "overflow_y": null,
      "padding": null,
      "right": null,
      "top": null,
      "visibility": null,
      "width": null
     }
    },
    "3669741e15894b468a65bdd4cdfc078f": {
     "model_module": "@jupyter-widgets/controls",
     "model_module_version": "1.5.0",
     "model_name": "DescriptionStyleModel",
     "state": {
      "_model_module": "@jupyter-widgets/controls",
      "_model_module_version": "1.5.0",
      "_model_name": "DescriptionStyleModel",
      "_view_count": null,
      "_view_module": "@jupyter-widgets/base",
      "_view_module_version": "1.2.0",
      "_view_name": "StyleView",
      "description_width": ""
     }
    },
    "3904532b653140f1b66747b04ed3d891": {
     "model_module": "@jupyter-widgets/controls",
     "model_module_version": "1.5.0",
     "model_name": "DropdownModel",
     "state": {
      "_dom_classes": [],
      "_model_module": "@jupyter-widgets/controls",
      "_model_module_version": "1.5.0",
      "_model_name": "DropdownModel",
      "_options_labels": [
       "euclidean",
       "manhattan",
       "chebyshev",
       "minkowski"
      ],
      "_view_count": null,
      "_view_module": "@jupyter-widgets/controls",
      "_view_module_version": "1.5.0",
      "_view_name": "DropdownView",
      "description": "metric:",
      "description_tooltip": null,
      "disabled": false,
      "index": 0,
      "layout": "IPY_MODEL_e3eedb7faa0343079e83efb8d6be8fd3",
      "style": "IPY_MODEL_3669741e15894b468a65bdd4cdfc078f"
     }
    },
    "42e3aa6b5bab4949af5ff18c22a9585a": {
     "model_module": "@jupyter-widgets/base",
     "model_module_version": "1.2.0",
     "model_name": "LayoutModel",
     "state": {
      "_model_module": "@jupyter-widgets/base",
      "_model_module_version": "1.2.0",
      "_model_name": "LayoutModel",
      "_view_count": null,
      "_view_module": "@jupyter-widgets/base",
      "_view_module_version": "1.2.0",
      "_view_name": "LayoutView",
      "align_content": null,
      "align_items": null,
      "align_self": null,
      "border": null,
      "bottom": null,
      "display": null,
      "flex": null,
      "flex_flow": null,
      "grid_area": null,
      "grid_auto_columns": null,
      "grid_auto_flow": null,
      "grid_auto_rows": null,
      "grid_column": null,
      "grid_gap": null,
      "grid_row": null,
      "grid_template_areas": null,
      "grid_template_columns": null,
      "grid_template_rows": null,
      "height": null,
      "justify_content": null,
      "justify_items": null,
      "left": null,
      "margin": null,
      "max_height": null,
      "max_width": null,
      "min_height": null,
      "min_width": null,
      "object_fit": null,
      "object_position": null,
      "order": null,
      "overflow": null,
      "overflow_x": null,
      "overflow_y": null,
      "padding": null,
      "right": null,
      "top": null,
      "visibility": null,
      "width": null
     }
    },
    "6dd8dd3da73a42129220d4e1fb197cde": {
     "model_module": "@jupyter-widgets/controls",
     "model_module_version": "1.5.0",
     "model_name": "VBoxModel",
     "state": {
      "_dom_classes": [
       "widget-interact"
      ],
      "_model_module": "@jupyter-widgets/controls",
      "_model_module_version": "1.5.0",
      "_model_name": "VBoxModel",
      "_view_count": null,
      "_view_module": "@jupyter-widgets/controls",
      "_view_module_version": "1.5.0",
      "_view_name": "VBoxView",
      "box_style": "",
      "children": [
       "IPY_MODEL_1e06f4955d3e4f859293b182a565276e",
       "IPY_MODEL_f7188af052514203b4106e2bd1556820",
       "IPY_MODEL_f200f092e3eb44a58c868efeb96ad33d"
      ],
      "layout": "IPY_MODEL_c408ed61a3a44f328b9af3258e200e2d"
     }
    },
    "6e9aa9c24b8e4414b31cc49c789b4bfa": {
     "model_module": "@jupyter-widgets/controls",
     "model_module_version": "1.5.0",
     "model_name": "FloatSliderModel",
     "state": {
      "_dom_classes": [],
      "_model_module": "@jupyter-widgets/controls",
      "_model_module_version": "1.5.0",
      "_model_name": "FloatSliderModel",
      "_view_count": null,
      "_view_module": "@jupyter-widgets/controls",
      "_view_module_version": "1.5.0",
      "_view_name": "FloatSliderView",
      "continuous_update": true,
      "description": "eps:",
      "description_tooltip": null,
      "disabled": false,
      "layout": "IPY_MODEL_93a585626f334e8b84852198e8885ea4",
      "max": 1,
      "min": 0.1,
      "orientation": "horizontal",
      "readout": true,
      "readout_format": ".2f",
      "step": 0.05,
      "style": "IPY_MODEL_a16175ad76b746938d48dae403f007e2",
      "value": 0.15
     }
    },
    "727fdd1f780041a29bab2e33ed579d82": {
     "model_module": "@jupyter-widgets/controls",
     "model_module_version": "1.5.0",
     "model_name": "SliderStyleModel",
     "state": {
      "_model_module": "@jupyter-widgets/controls",
      "_model_module_version": "1.5.0",
      "_model_name": "SliderStyleModel",
      "_view_count": null,
      "_view_module": "@jupyter-widgets/base",
      "_view_module_version": "1.2.0",
      "_view_name": "StyleView",
      "description_width": "",
      "handle_color": null
     }
    },
    "7ddf5de1f1b249dcb20f97e810cc4650": {
     "model_module": "@jupyter-widgets/base",
     "model_module_version": "1.2.0",
     "model_name": "LayoutModel",
     "state": {
      "_model_module": "@jupyter-widgets/base",
      "_model_module_version": "1.2.0",
      "_model_name": "LayoutModel",
      "_view_count": null,
      "_view_module": "@jupyter-widgets/base",
      "_view_module_version": "1.2.0",
      "_view_name": "LayoutView",
      "align_content": null,
      "align_items": null,
      "align_self": null,
      "border": null,
      "bottom": null,
      "display": null,
      "flex": null,
      "flex_flow": null,
      "grid_area": null,
      "grid_auto_columns": null,
      "grid_auto_flow": null,
      "grid_auto_rows": null,
      "grid_column": null,
      "grid_gap": null,
      "grid_row": null,
      "grid_template_areas": null,
      "grid_template_columns": null,
      "grid_template_rows": null,
      "height": null,
      "justify_content": null,
      "justify_items": null,
      "left": null,
      "margin": null,
      "max_height": null,
      "max_width": null,
      "min_height": null,
      "min_width": null,
      "object_fit": null,
      "object_position": null,
      "order": null,
      "overflow": null,
      "overflow_x": null,
      "overflow_y": null,
      "padding": null,
      "right": null,
      "top": null,
      "visibility": null,
      "width": null
     }
    },
    "8a70f291f5124752bf276b495d97c76e": {
     "model_module": "@jupyter-widgets/controls",
     "model_module_version": "1.5.0",
     "model_name": "SliderStyleModel",
     "state": {
      "_model_module": "@jupyter-widgets/controls",
      "_model_module_version": "1.5.0",
      "_model_name": "SliderStyleModel",
      "_view_count": null,
      "_view_module": "@jupyter-widgets/base",
      "_view_module_version": "1.2.0",
      "_view_name": "StyleView",
      "description_width": "",
      "handle_color": null
     }
    },
    "924a9a18c5e9483aa20174d58aba03f0": {
     "model_module": "@jupyter-widgets/base",
     "model_module_version": "1.2.0",
     "model_name": "LayoutModel",
     "state": {
      "_model_module": "@jupyter-widgets/base",
      "_model_module_version": "1.2.0",
      "_model_name": "LayoutModel",
      "_view_count": null,
      "_view_module": "@jupyter-widgets/base",
      "_view_module_version": "1.2.0",
      "_view_name": "LayoutView",
      "align_content": null,
      "align_items": null,
      "align_self": null,
      "border": null,
      "bottom": null,
      "display": null,
      "flex": null,
      "flex_flow": null,
      "grid_area": null,
      "grid_auto_columns": null,
      "grid_auto_flow": null,
      "grid_auto_rows": null,
      "grid_column": null,
      "grid_gap": null,
      "grid_row": null,
      "grid_template_areas": null,
      "grid_template_columns": null,
      "grid_template_rows": null,
      "height": null,
      "justify_content": null,
      "justify_items": null,
      "left": null,
      "margin": null,
      "max_height": null,
      "max_width": null,
      "min_height": null,
      "min_width": null,
      "object_fit": null,
      "object_position": null,
      "order": null,
      "overflow": null,
      "overflow_x": null,
      "overflow_y": null,
      "padding": null,
      "right": null,
      "top": null,
      "visibility": null,
      "width": null
     }
    },
    "93a585626f334e8b84852198e8885ea4": {
     "model_module": "@jupyter-widgets/base",
     "model_module_version": "1.2.0",
     "model_name": "LayoutModel",
     "state": {
      "_model_module": "@jupyter-widgets/base",
      "_model_module_version": "1.2.0",
      "_model_name": "LayoutModel",
      "_view_count": null,
      "_view_module": "@jupyter-widgets/base",
      "_view_module_version": "1.2.0",
      "_view_name": "LayoutView",
      "align_content": null,
      "align_items": null,
      "align_self": null,
      "border": null,
      "bottom": null,
      "display": null,
      "flex": null,
      "flex_flow": null,
      "grid_area": null,
      "grid_auto_columns": null,
      "grid_auto_flow": null,
      "grid_auto_rows": null,
      "grid_column": null,
      "grid_gap": null,
      "grid_row": null,
      "grid_template_areas": null,
      "grid_template_columns": null,
      "grid_template_rows": null,
      "height": null,
      "justify_content": null,
      "justify_items": null,
      "left": null,
      "margin": null,
      "max_height": null,
      "max_width": null,
      "min_height": null,
      "min_width": null,
      "object_fit": null,
      "object_position": null,
      "order": null,
      "overflow": null,
      "overflow_x": null,
      "overflow_y": null,
      "padding": null,
      "right": null,
      "top": null,
      "visibility": null,
      "width": null
     }
    },
    "9df5cbce81fd4c69b84d349a8fdce07f": {
     "model_module": "@jupyter-widgets/output",
     "model_module_version": "1.0.0",
     "model_name": "OutputModel",
     "state": {
      "_dom_classes": [],
      "_model_module": "@jupyter-widgets/output",
      "_model_module_version": "1.0.0",
      "_model_name": "OutputModel",
      "_view_count": null,
      "_view_module": "@jupyter-widgets/output",
      "_view_module_version": "1.0.0",
      "_view_name": "OutputView",
      "layout": "IPY_MODEL_7ddf5de1f1b249dcb20f97e810cc4650",
      "msg_id": "",
      "outputs": [
       {
        "data": {
         "image/png": "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\n",
         "text/plain": "<Figure size 800x600 with 1 Axes>"
        },
        "metadata": {},
        "output_type": "display_data"
       }
      ]
     }
    },
    "a16175ad76b746938d48dae403f007e2": {
     "model_module": "@jupyter-widgets/controls",
     "model_module_version": "1.5.0",
     "model_name": "SliderStyleModel",
     "state": {
      "_model_module": "@jupyter-widgets/controls",
      "_model_module_version": "1.5.0",
      "_model_name": "SliderStyleModel",
      "_view_count": null,
      "_view_module": "@jupyter-widgets/base",
      "_view_module_version": "1.2.0",
      "_view_name": "StyleView",
      "description_width": "",
      "handle_color": null
     }
    },
    "aad59669d90b4089a74ceb43f39e81e5": {
     "model_module": "@jupyter-widgets/base",
     "model_module_version": "1.2.0",
     "model_name": "LayoutModel",
     "state": {
      "_model_module": "@jupyter-widgets/base",
      "_model_module_version": "1.2.0",
      "_model_name": "LayoutModel",
      "_view_count": null,
      "_view_module": "@jupyter-widgets/base",
      "_view_module_version": "1.2.0",
      "_view_name": "LayoutView",
      "align_content": null,
      "align_items": null,
      "align_self": null,
      "border": null,
      "bottom": null,
      "display": null,
      "flex": null,
      "flex_flow": null,
      "grid_area": null,
      "grid_auto_columns": null,
      "grid_auto_flow": null,
      "grid_auto_rows": null,
      "grid_column": null,
      "grid_gap": null,
      "grid_row": null,
      "grid_template_areas": null,
      "grid_template_columns": null,
      "grid_template_rows": null,
      "height": null,
      "justify_content": null,
      "justify_items": null,
      "left": null,
      "margin": null,
      "max_height": null,
      "max_width": null,
      "min_height": null,
      "min_width": null,
      "object_fit": null,
      "object_position": null,
      "order": null,
      "overflow": null,
      "overflow_x": null,
      "overflow_y": null,
      "padding": null,
      "right": null,
      "top": null,
      "visibility": null,
      "width": null
     }
    },
    "abae27ab9fd14e7abfa711ec143356e4": {
     "model_module": "@jupyter-widgets/base",
     "model_module_version": "1.2.0",
     "model_name": "LayoutModel",
     "state": {
      "_model_module": "@jupyter-widgets/base",
      "_model_module_version": "1.2.0",
      "_model_name": "LayoutModel",
      "_view_count": null,
      "_view_module": "@jupyter-widgets/base",
      "_view_module_version": "1.2.0",
      "_view_name": "LayoutView",
      "align_content": null,
      "align_items": null,
      "align_self": null,
      "border": null,
      "bottom": null,
      "display": null,
      "flex": null,
      "flex_flow": null,
      "grid_area": null,
      "grid_auto_columns": null,
      "grid_auto_flow": null,
      "grid_auto_rows": null,
      "grid_column": null,
      "grid_gap": null,
      "grid_row": null,
      "grid_template_areas": null,
      "grid_template_columns": null,
      "grid_template_rows": null,
      "height": null,
      "justify_content": null,
      "justify_items": null,
      "left": null,
      "margin": null,
      "max_height": null,
      "max_width": null,
      "min_height": null,
      "min_width": null,
      "object_fit": null,
      "object_position": null,
      "order": null,
      "overflow": null,
      "overflow_x": null,
      "overflow_y": null,
      "padding": null,
      "right": null,
      "top": null,
      "visibility": null,
      "width": null
     }
    },
    "b608e700b83d4fb9ae3f4f2610a530ef": {
     "model_module": "@jupyter-widgets/controls",
     "model_module_version": "1.5.0",
     "model_name": "SliderStyleModel",
     "state": {
      "_model_module": "@jupyter-widgets/controls",
      "_model_module_version": "1.5.0",
      "_model_name": "SliderStyleModel",
      "_view_count": null,
      "_view_module": "@jupyter-widgets/base",
      "_view_module_version": "1.2.0",
      "_view_name": "StyleView",
      "description_width": "",
      "handle_color": null
     }
    },
    "c408ed61a3a44f328b9af3258e200e2d": {
     "model_module": "@jupyter-widgets/base",
     "model_module_version": "1.2.0",
     "model_name": "LayoutModel",
     "state": {
      "_model_module": "@jupyter-widgets/base",
      "_model_module_version": "1.2.0",
      "_model_name": "LayoutModel",
      "_view_count": null,
      "_view_module": "@jupyter-widgets/base",
      "_view_module_version": "1.2.0",
      "_view_name": "LayoutView",
      "align_content": null,
      "align_items": null,
      "align_self": null,
      "border": null,
      "bottom": null,
      "display": null,
      "flex": null,
      "flex_flow": null,
      "grid_area": null,
      "grid_auto_columns": null,
      "grid_auto_flow": null,
      "grid_auto_rows": null,
      "grid_column": null,
      "grid_gap": null,
      "grid_row": null,
      "grid_template_areas": null,
      "grid_template_columns": null,
      "grid_template_rows": null,
      "height": null,
      "justify_content": null,
      "justify_items": null,
      "left": null,
      "margin": null,
      "max_height": null,
      "max_width": null,
      "min_height": null,
      "min_width": null,
      "object_fit": null,
      "object_position": null,
      "order": null,
      "overflow": null,
      "overflow_x": null,
      "overflow_y": null,
      "padding": null,
      "right": null,
      "top": null,
      "visibility": null,
      "width": null
     }
    },
    "e3eedb7faa0343079e83efb8d6be8fd3": {
     "model_module": "@jupyter-widgets/base",
     "model_module_version": "1.2.0",
     "model_name": "LayoutModel",
     "state": {
      "_model_module": "@jupyter-widgets/base",
      "_model_module_version": "1.2.0",
      "_model_name": "LayoutModel",
      "_view_count": null,
      "_view_module": "@jupyter-widgets/base",
      "_view_module_version": "1.2.0",
      "_view_name": "LayoutView",
      "align_content": null,
      "align_items": null,
      "align_self": null,
      "border": null,
      "bottom": null,
      "display": null,
      "flex": null,
      "flex_flow": null,
      "grid_area": null,
      "grid_auto_columns": null,
      "grid_auto_flow": null,
      "grid_auto_rows": null,
      "grid_column": null,
      "grid_gap": null,
      "grid_row": null,
      "grid_template_areas": null,
      "grid_template_columns": null,
      "grid_template_rows": null,
      "height": null,
      "justify_content": null,
      "justify_items": null,
      "left": null,
      "margin": null,
      "max_height": null,
      "max_width": null,
      "min_height": null,
      "min_width": null,
      "object_fit": null,
      "object_position": null,
      "order": null,
      "overflow": null,
      "overflow_x": null,
      "overflow_y": null,
      "padding": null,
      "right": null,
      "top": null,
      "visibility": null,
      "width": null
     }
    },
    "f200f092e3eb44a58c868efeb96ad33d": {
     "model_module": "@jupyter-widgets/output",
     "model_module_version": "1.0.0",
     "model_name": "OutputModel",
     "state": {
      "_dom_classes": [],
      "_model_module": "@jupyter-widgets/output",
      "_model_module_version": "1.0.0",
      "_model_name": "OutputModel",
      "_view_count": null,
      "_view_module": "@jupyter-widgets/output",
      "_view_module_version": "1.0.0",
      "_view_name": "OutputView",
      "layout": "IPY_MODEL_924a9a18c5e9483aa20174d58aba03f0",
      "msg_id": "",
      "outputs": [
       {
        "data": {
         "image/png": "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\n",
         "text/plain": "<Figure size 800x600 with 1 Axes>"
        },
        "metadata": {},
        "output_type": "display_data"
       }
      ]
     }
    },
    "f7188af052514203b4106e2bd1556820": {
     "model_module": "@jupyter-widgets/controls",
     "model_module_version": "1.5.0",
     "model_name": "IntSliderModel",
     "state": {
      "_dom_classes": [],
      "_model_module": "@jupyter-widgets/controls",
      "_model_module_version": "1.5.0",
      "_model_name": "IntSliderModel",
      "_view_count": null,
      "_view_module": "@jupyter-widgets/controls",
      "_view_module_version": "1.5.0",
      "_view_name": "IntSliderView",
      "continuous_update": true,
      "description": "Max Iterations:",
      "description_tooltip": null,
      "disabled": false,
      "layout": "IPY_MODEL_42e3aa6b5bab4949af5ff18c22a9585a",
      "max": 50,
      "min": 1,
      "orientation": "horizontal",
      "readout": true,
      "readout_format": "d",
      "step": 1,
      "style": "IPY_MODEL_727fdd1f780041a29bab2e33ed579d82",
      "value": 50
     }
    }
   }
  }
 },
 "nbformat": 4,
 "nbformat_minor": 4
}
